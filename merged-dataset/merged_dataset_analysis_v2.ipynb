{
  "cells": [
    {
      "cell_type": "markdown",
      "metadata": {
        "id": "CAvjsrr4iPQX"
      },
      "source": [
        "## **Analysis of the Merged Dataset**\n",
        " **PIT-DSC Team Burial, 2022**"
      ]
    },
    {
      "cell_type": "markdown",
      "metadata": {
        "id": "cED8IbD8iLkR"
      },
      "source": [
        "**At a Glance**\n",
        "\n",
        "*Jurisdictions Included:* Dona Ana, Dignity Memorial, Bernalillo, NAMUS, LA County, Fresno, King County, Oregon, Yakima County, Chicago Cook County, Hart Island\n",
        "\n",
        "*Number of Records: 121,840* "
      ]
    },
    {
      "cell_type": "code",
      "execution_count": 46,
      "metadata": {
        "id": "4dGMTi4phcwe"
      },
      "outputs": [],
      "source": [
        "# Import libraries\n",
        "\n",
        "import pylab\n",
        "import pandas as pd\n",
        "import matplotlib.pyplot as plt\n",
        "import plotly.express as px\n",
        "from re import X\n",
        "import seaborn as sns\n",
        "from plotly import express as px"
      ]
    },
    {
      "cell_type": "code",
      "execution_count": 4,
      "metadata": {
        "colab": {
          "base_uri": "https://localhost:8080/"
        },
        "id": "EnOxOATKn6UZ",
        "outputId": "22d557ce-da11-4462-8ed9-cede85366951"
      },
      "outputs": [
        {
          "name": "stderr",
          "output_type": "stream",
          "text": [
            "/var/folders/9r/cnjncsks3nl5vqfcxg899sch0000gn/T/ipykernel_1298/642509423.py:3: DtypeWarning: Columns (2,3,4,5,6,7,9,10,11,12,13,16,17,18,19,20,21,22,24,25,26,27,28,29,30,33,34,35,36) have mixed types. Specify dtype option on import or set low_memory=False.\n",
            "  df = pd.read_csv('indigent_burials.csv')\n"
          ]
        }
      ],
      "source": [
        "# Read in merged dataset\n",
        "\n",
        "df = pd.read_csv('indigent_burials.csv')"
      ]
    },
    {
      "cell_type": "code",
      "execution_count": 5,
      "metadata": {
        "colab": {
          "base_uri": "https://localhost:8080/",
          "height": 803
        },
        "id": "cZyf-5_BUfph",
        "outputId": "72d24d7a-66ff-403e-fe53-7829aeda6402"
      },
      "outputs": [
        {
          "data": {
            "text/html": [
              "<div>\n",
              "<style scoped>\n",
              "    .dataframe tbody tr th:only-of-type {\n",
              "        vertical-align: middle;\n",
              "    }\n",
              "\n",
              "    .dataframe tbody tr th {\n",
              "        vertical-align: top;\n",
              "    }\n",
              "\n",
              "    .dataframe thead th {\n",
              "        text-align: right;\n",
              "    }\n",
              "</style>\n",
              "<table border=\"1\" class=\"dataframe\">\n",
              "  <thead>\n",
              "    <tr style=\"text-align: right;\">\n",
              "      <th></th>\n",
              "      <th>LName</th>\n",
              "      <th>FName</th>\n",
              "      <th>MName</th>\n",
              "      <th>OName</th>\n",
              "      <th>Sex</th>\n",
              "      <th>RaceEthincity</th>\n",
              "      <th>DOB</th>\n",
              "      <th>DOD</th>\n",
              "      <th>DeathYear</th>\n",
              "      <th>DBF</th>\n",
              "      <th>...</th>\n",
              "      <th>City</th>\n",
              "      <th>Location</th>\n",
              "      <th>CityOfBirth</th>\n",
              "      <th>StateOfBirth</th>\n",
              "      <th>SourceURL</th>\n",
              "      <th>DateScraped</th>\n",
              "      <th>LastModified</th>\n",
              "      <th>Misc</th>\n",
              "      <th>isVeteran</th>\n",
              "      <th>MilitaryAffiliation</th>\n",
              "    </tr>\n",
              "  </thead>\n",
              "  <tbody>\n",
              "    <tr>\n",
              "      <th>0</th>\n",
              "      <td>Fetus</td>\n",
              "      <td>NaN</td>\n",
              "      <td>NaN</td>\n",
              "      <td>NaN</td>\n",
              "      <td>NaN</td>\n",
              "      <td>NaN</td>\n",
              "      <td>NaN</td>\n",
              "      <td>11-17-2021</td>\n",
              "      <td>NaN</td>\n",
              "      <td>NaN</td>\n",
              "      <td>...</td>\n",
              "      <td>NaN</td>\n",
              "      <td>Staten Island University Hospital</td>\n",
              "      <td>NaN</td>\n",
              "      <td>NaN</td>\n",
              "      <td>https://www.hartisland.net/burial_records/sear...</td>\n",
              "      <td>07-27-2022</td>\n",
              "      <td>NaN</td>\n",
              "      <td>NaN</td>\n",
              "      <td>NaN</td>\n",
              "      <td>NaN</td>\n",
              "    </tr>\n",
              "    <tr>\n",
              "      <th>1</th>\n",
              "      <td>Rezk</td>\n",
              "      <td>Justin</td>\n",
              "      <td>NaN</td>\n",
              "      <td>NaN</td>\n",
              "      <td>NaN</td>\n",
              "      <td>NaN</td>\n",
              "      <td>NaN</td>\n",
              "      <td>01-30-2022</td>\n",
              "      <td>NaN</td>\n",
              "      <td>NaN</td>\n",
              "      <td>...</td>\n",
              "      <td>NaN</td>\n",
              "      <td>NYU Langone Hospital Brooklyn</td>\n",
              "      <td>NaN</td>\n",
              "      <td>NaN</td>\n",
              "      <td>https://www.hartisland.net/burial_records/sear...</td>\n",
              "      <td>07-27-2022</td>\n",
              "      <td>NaN</td>\n",
              "      <td>NaN</td>\n",
              "      <td>NaN</td>\n",
              "      <td>NaN</td>\n",
              "    </tr>\n",
              "    <tr>\n",
              "      <th>2</th>\n",
              "      <td>Fetus</td>\n",
              "      <td>NaN</td>\n",
              "      <td>NaN</td>\n",
              "      <td>NaN</td>\n",
              "      <td>NaN</td>\n",
              "      <td>NaN</td>\n",
              "      <td>NaN</td>\n",
              "      <td>01-21-2022</td>\n",
              "      <td>NaN</td>\n",
              "      <td>NaN</td>\n",
              "      <td>...</td>\n",
              "      <td>NaN</td>\n",
              "      <td>NYU Langone Hospital Brooklyn</td>\n",
              "      <td>NaN</td>\n",
              "      <td>NaN</td>\n",
              "      <td>https://www.hartisland.net/burial_records/sear...</td>\n",
              "      <td>07-27-2022</td>\n",
              "      <td>NaN</td>\n",
              "      <td>NaN</td>\n",
              "      <td>NaN</td>\n",
              "      <td>NaN</td>\n",
              "    </tr>\n",
              "    <tr>\n",
              "      <th>3</th>\n",
              "      <td>Ruiz</td>\n",
              "      <td>Nasir</td>\n",
              "      <td>NaN</td>\n",
              "      <td>NaN</td>\n",
              "      <td>NaN</td>\n",
              "      <td>NaN</td>\n",
              "      <td>NaN</td>\n",
              "      <td>12-18-2021</td>\n",
              "      <td>NaN</td>\n",
              "      <td>NaN</td>\n",
              "      <td>...</td>\n",
              "      <td>NaN</td>\n",
              "      <td>Wyckoff Heights Medical Center</td>\n",
              "      <td>NaN</td>\n",
              "      <td>NaN</td>\n",
              "      <td>https://www.hartisland.net/burial_records/sear...</td>\n",
              "      <td>07-27-2022</td>\n",
              "      <td>NaN</td>\n",
              "      <td>NaN</td>\n",
              "      <td>NaN</td>\n",
              "      <td>NaN</td>\n",
              "    </tr>\n",
              "    <tr>\n",
              "      <th>4</th>\n",
              "      <td>Fetus</td>\n",
              "      <td>NaN</td>\n",
              "      <td>NaN</td>\n",
              "      <td>NaN</td>\n",
              "      <td>NaN</td>\n",
              "      <td>NaN</td>\n",
              "      <td>NaN</td>\n",
              "      <td>12-13-2021</td>\n",
              "      <td>NaN</td>\n",
              "      <td>NaN</td>\n",
              "      <td>...</td>\n",
              "      <td>NaN</td>\n",
              "      <td>SUNY Downstate Medical Center</td>\n",
              "      <td>NaN</td>\n",
              "      <td>NaN</td>\n",
              "      <td>https://www.hartisland.net/burial_records/sear...</td>\n",
              "      <td>07-27-2022</td>\n",
              "      <td>NaN</td>\n",
              "      <td>NaN</td>\n",
              "      <td>NaN</td>\n",
              "      <td>NaN</td>\n",
              "    </tr>\n",
              "    <tr>\n",
              "      <th>5</th>\n",
              "      <td>Kibidor</td>\n",
              "      <td>Kiyan</td>\n",
              "      <td>NaN</td>\n",
              "      <td>NaN</td>\n",
              "      <td>NaN</td>\n",
              "      <td>NaN</td>\n",
              "      <td>NaN</td>\n",
              "      <td>01-13-2022</td>\n",
              "      <td>NaN</td>\n",
              "      <td>NaN</td>\n",
              "      <td>...</td>\n",
              "      <td>NaN</td>\n",
              "      <td>Unique Address see comment</td>\n",
              "      <td>NaN</td>\n",
              "      <td>NaN</td>\n",
              "      <td>https://www.hartisland.net/burial_records/sear...</td>\n",
              "      <td>07-27-2022</td>\n",
              "      <td>NaN</td>\n",
              "      <td>Amari</td>\n",
              "      <td>NaN</td>\n",
              "      <td>NaN</td>\n",
              "    </tr>\n",
              "    <tr>\n",
              "      <th>6</th>\n",
              "      <td>Zhao</td>\n",
              "      <td>Vienna</td>\n",
              "      <td>NaN</td>\n",
              "      <td>NaN</td>\n",
              "      <td>NaN</td>\n",
              "      <td>NaN</td>\n",
              "      <td>NaN</td>\n",
              "      <td>12-31-2021</td>\n",
              "      <td>NaN</td>\n",
              "      <td>NaN</td>\n",
              "      <td>...</td>\n",
              "      <td>NaN</td>\n",
              "      <td>NYU Langone Hospital Brooklyn</td>\n",
              "      <td>NaN</td>\n",
              "      <td>NaN</td>\n",
              "      <td>https://www.hartisland.net/burial_records/sear...</td>\n",
              "      <td>07-27-2022</td>\n",
              "      <td>NaN</td>\n",
              "      <td>NaN</td>\n",
              "      <td>NaN</td>\n",
              "      <td>NaN</td>\n",
              "    </tr>\n",
              "    <tr>\n",
              "      <th>7</th>\n",
              "      <td>Xie</td>\n",
              "      <td>NaN</td>\n",
              "      <td>NaN</td>\n",
              "      <td>NaN</td>\n",
              "      <td>NaN</td>\n",
              "      <td>NaN</td>\n",
              "      <td>NaN</td>\n",
              "      <td>12-13-2021</td>\n",
              "      <td>NaN</td>\n",
              "      <td>NaN</td>\n",
              "      <td>...</td>\n",
              "      <td>NaN</td>\n",
              "      <td>Maimonides Medical Center</td>\n",
              "      <td>NaN</td>\n",
              "      <td>NaN</td>\n",
              "      <td>https://www.hartisland.net/burial_records/sear...</td>\n",
              "      <td>07-27-2022</td>\n",
              "      <td>NaN</td>\n",
              "      <td>NaN</td>\n",
              "      <td>NaN</td>\n",
              "      <td>NaN</td>\n",
              "    </tr>\n",
              "    <tr>\n",
              "      <th>8</th>\n",
              "      <td>Fetus</td>\n",
              "      <td>NaN</td>\n",
              "      <td>NaN</td>\n",
              "      <td>NaN</td>\n",
              "      <td>NaN</td>\n",
              "      <td>NaN</td>\n",
              "      <td>NaN</td>\n",
              "      <td>11-23-2021</td>\n",
              "      <td>NaN</td>\n",
              "      <td>NaN</td>\n",
              "      <td>...</td>\n",
              "      <td>NaN</td>\n",
              "      <td>SUNY Downstate Medical Center</td>\n",
              "      <td>NaN</td>\n",
              "      <td>NaN</td>\n",
              "      <td>https://www.hartisland.net/burial_records/sear...</td>\n",
              "      <td>07-27-2022</td>\n",
              "      <td>NaN</td>\n",
              "      <td>NaN</td>\n",
              "      <td>NaN</td>\n",
              "      <td>NaN</td>\n",
              "    </tr>\n",
              "    <tr>\n",
              "      <th>9</th>\n",
              "      <td>Sinclair</td>\n",
              "      <td>Mateo</td>\n",
              "      <td>NaN</td>\n",
              "      <td>NaN</td>\n",
              "      <td>NaN</td>\n",
              "      <td>NaN</td>\n",
              "      <td>NaN</td>\n",
              "      <td>01-13-2022</td>\n",
              "      <td>NaN</td>\n",
              "      <td>NaN</td>\n",
              "      <td>...</td>\n",
              "      <td>NaN</td>\n",
              "      <td>New York-Presbyterian/Columbia University Medi...</td>\n",
              "      <td>NaN</td>\n",
              "      <td>NaN</td>\n",
              "      <td>https://www.hartisland.net/burial_records/sear...</td>\n",
              "      <td>07-27-2022</td>\n",
              "      <td>NaN</td>\n",
              "      <td>NaN</td>\n",
              "      <td>NaN</td>\n",
              "      <td>NaN</td>\n",
              "    </tr>\n",
              "  </tbody>\n",
              "</table>\n",
              "<p>10 rows × 37 columns</p>\n",
              "</div>"
            ],
            "text/plain": [
              "      LName   FName MName OName  Sex RaceEthincity  DOB         DOD  \\\n",
              "0     Fetus     NaN   NaN   NaN  NaN           NaN  NaN  11-17-2021   \n",
              "1      Rezk  Justin   NaN   NaN  NaN           NaN  NaN  01-30-2022   \n",
              "2     Fetus     NaN   NaN   NaN  NaN           NaN  NaN  01-21-2022   \n",
              "3      Ruiz   Nasir   NaN   NaN  NaN           NaN  NaN  12-18-2021   \n",
              "4     Fetus     NaN   NaN   NaN  NaN           NaN  NaN  12-13-2021   \n",
              "5   Kibidor   Kiyan   NaN   NaN  NaN           NaN  NaN  01-13-2022   \n",
              "6      Zhao  Vienna   NaN   NaN  NaN           NaN  NaN  12-31-2021   \n",
              "7       Xie     NaN   NaN   NaN  NaN           NaN  NaN  12-13-2021   \n",
              "8     Fetus     NaN   NaN   NaN  NaN           NaN  NaN  11-23-2021   \n",
              "9  Sinclair   Mateo   NaN   NaN  NaN           NaN  NaN  01-13-2022   \n",
              "\n",
              "   DeathYear  DBF  ... City  \\\n",
              "0        NaN  NaN  ...  NaN   \n",
              "1        NaN  NaN  ...  NaN   \n",
              "2        NaN  NaN  ...  NaN   \n",
              "3        NaN  NaN  ...  NaN   \n",
              "4        NaN  NaN  ...  NaN   \n",
              "5        NaN  NaN  ...  NaN   \n",
              "6        NaN  NaN  ...  NaN   \n",
              "7        NaN  NaN  ...  NaN   \n",
              "8        NaN  NaN  ...  NaN   \n",
              "9        NaN  NaN  ...  NaN   \n",
              "\n",
              "                                            Location CityOfBirth StateOfBirth  \\\n",
              "0                  Staten Island University Hospital         NaN          NaN   \n",
              "1                      NYU Langone Hospital Brooklyn         NaN          NaN   \n",
              "2                      NYU Langone Hospital Brooklyn         NaN          NaN   \n",
              "3                     Wyckoff Heights Medical Center         NaN          NaN   \n",
              "4                      SUNY Downstate Medical Center         NaN          NaN   \n",
              "5                         Unique Address see comment         NaN          NaN   \n",
              "6                      NYU Langone Hospital Brooklyn         NaN          NaN   \n",
              "7                          Maimonides Medical Center         NaN          NaN   \n",
              "8                      SUNY Downstate Medical Center         NaN          NaN   \n",
              "9  New York-Presbyterian/Columbia University Medi...         NaN          NaN   \n",
              "\n",
              "                                           SourceURL  DateScraped  \\\n",
              "0  https://www.hartisland.net/burial_records/sear...   07-27-2022   \n",
              "1  https://www.hartisland.net/burial_records/sear...   07-27-2022   \n",
              "2  https://www.hartisland.net/burial_records/sear...   07-27-2022   \n",
              "3  https://www.hartisland.net/burial_records/sear...   07-27-2022   \n",
              "4  https://www.hartisland.net/burial_records/sear...   07-27-2022   \n",
              "5  https://www.hartisland.net/burial_records/sear...   07-27-2022   \n",
              "6  https://www.hartisland.net/burial_records/sear...   07-27-2022   \n",
              "7  https://www.hartisland.net/burial_records/sear...   07-27-2022   \n",
              "8  https://www.hartisland.net/burial_records/sear...   07-27-2022   \n",
              "9  https://www.hartisland.net/burial_records/sear...   07-27-2022   \n",
              "\n",
              "  LastModified   Misc isVeteran MilitaryAffiliation  \n",
              "0          NaN    NaN       NaN                 NaN  \n",
              "1          NaN    NaN       NaN                 NaN  \n",
              "2          NaN    NaN       NaN                 NaN  \n",
              "3          NaN    NaN       NaN                 NaN  \n",
              "4          NaN    NaN       NaN                 NaN  \n",
              "5          NaN  Amari       NaN                 NaN  \n",
              "6          NaN    NaN       NaN                 NaN  \n",
              "7          NaN    NaN       NaN                 NaN  \n",
              "8          NaN    NaN       NaN                 NaN  \n",
              "9          NaN    NaN       NaN                 NaN  \n",
              "\n",
              "[10 rows x 37 columns]"
            ]
          },
          "execution_count": 5,
          "metadata": {},
          "output_type": "execute_result"
        }
      ],
      "source": [
        "# Preview the dataset\n",
        "\n",
        "df.head(10)"
      ]
    },
    {
      "cell_type": "code",
      "execution_count": 6,
      "metadata": {
        "colab": {
          "base_uri": "https://localhost:8080/"
        },
        "id": "BvNpUpmoljqq",
        "outputId": "c38974af-1a7e-451d-c828-f2f4272ca6ba"
      },
      "outputs": [
        {
          "name": "stdout",
          "output_type": "stream",
          "text": [
            "Death year divisions are as follows: \n",
            "1900: 2\n",
            "1901: 0\n",
            "1902: 0\n",
            "1903: 0\n",
            "1904: 0\n",
            "1905: 1\n",
            "1906: 0\n",
            "1907: 0\n",
            "1908: 0\n",
            "1909: 0\n",
            "1910: 0\n",
            "1911: 0\n",
            "1912: 1\n",
            "1913: 0\n",
            "1914: 0\n",
            "1915: 0\n",
            "1916: 1\n",
            "1917: 0\n",
            "1918: 1\n",
            "1919: 0\n",
            "1920: 0\n",
            "1921: 0\n",
            "1922: 0\n",
            "1923: 0\n",
            "1924: 0\n",
            "1925: 1\n",
            "1926: 1\n",
            "1927: 0\n",
            "1928: 0\n",
            "1929: 0\n",
            "1930: 2\n",
            "1931: 1\n",
            "1932: 2\n",
            "1933: 1\n",
            "1934: 2\n",
            "1935: 2\n",
            "1936: 4\n",
            "1937: 163\n",
            "1938: 194\n",
            "1939: 157\n",
            "1940: 188\n",
            "1941: 144\n",
            "1942: 105\n",
            "1943: 91\n",
            "1944: 72\n",
            "1945: 89\n",
            "1946: 83\n",
            "1947: 100\n",
            "1948: 113\n",
            "1949: 130\n",
            "1950: 99\n",
            "1951: 97\n",
            "1952: 78\n",
            "1953: 127\n",
            "1954: 141\n",
            "1955: 165\n",
            "1956: 172\n",
            "1957: 137\n",
            "1958: 194\n",
            "1959: 161\n",
            "1960: 192\n",
            "1961: 199\n",
            "1962: 185\n",
            "1963: 159\n",
            "1964: 119\n",
            "1965: 86\n",
            "1966: 87\n",
            "1967: 84\n",
            "1968: 84\n",
            "1969: 54\n",
            "1970: 59\n",
            "1971: 75\n",
            "1972: 43\n",
            "1973: 69\n",
            "1974: 57\n",
            "1975: 51\n",
            "1976: 25\n",
            "1977: 12\n",
            "1978: 47\n",
            "1979: 104\n",
            "1980: 1170\n",
            "1981: 2614\n",
            "1982: 3254\n",
            "1983: 2477\n",
            "1984: 2469\n",
            "1985: 2492\n",
            "1986: 2562\n",
            "1987: 2745\n",
            "1988: 3033\n",
            "1989: 2971\n",
            "1990: 2849\n",
            "1991: 2612\n",
            "1992: 2281\n",
            "1993: 2338\n",
            "1994: 1983\n",
            "1995: 1949\n",
            "1996: 1784\n",
            "1997: 1670\n",
            "1998: 1645\n",
            "1999: 1618\n",
            "2000: 1472\n",
            "2001: 1538\n",
            "2002: 1466\n",
            "2003: 1501\n",
            "2004: 1447\n",
            "2005: 1511\n",
            "2006: 1470\n",
            "2007: 1369\n",
            "2008: 1414\n",
            "2009: 1394\n",
            "2010: 1296\n",
            "2011: 1131\n",
            "2012: 1119\n",
            "2013: 1207\n",
            "2014: 1258\n",
            "2015: 1156\n",
            "2016: 1232\n",
            "2017: 1241\n",
            "2018: 1349\n",
            "2019: 1380\n",
            "2020: 3011\n",
            "2021: 1504\n",
            "2022: 60\n",
            "\n",
            "\n",
            "A total of 82855 records have known death dates out of the total 121,840 records. \n"
          ]
        }
      ],
      "source": [
        "# Death Year Analysis\n",
        "\n",
        "year_group_dict = {\n",
        "}\n",
        "\n",
        "year_group = df['DOD']\n",
        "year_range = range(1900, 2023)\n",
        "known_count = 0\n",
        "for year in year_range:\n",
        "    year_count = 0\n",
        "    for group in year_group:\n",
        "        if ((str(year) == (str(group))[-4:]) and (len(str(group)) == 10)):\n",
        "            year_count += 1\n",
        "            known_count += 1\n",
        "    year_group_dict[str(year)] = year_count\n",
        "\n",
        "print(\"Death year divisions are as follows: \")\n",
        "for key, val in year_group_dict.items():\n",
        "    print(key + \": \" + str(val))\n",
        "print(\"\\n\")\n",
        "print(\"A total of \" + str(known_count) + \" records have known death dates out of the total 121,840 records. \")"
      ]
    },
    {
      "cell_type": "code",
      "execution_count": 7,
      "metadata": {
        "colab": {
          "base_uri": "https://localhost:8080/",
          "height": 424
        },
        "id": "CiXtpXlmZ1mF",
        "outputId": "ad0c45da-8a5c-4c1c-e3d2-d132fb0c10b4"
      },
      "outputs": [
        {
          "data": {
            "text/html": [
              "<div>\n",
              "<style scoped>\n",
              "    .dataframe tbody tr th:only-of-type {\n",
              "        vertical-align: middle;\n",
              "    }\n",
              "\n",
              "    .dataframe tbody tr th {\n",
              "        vertical-align: top;\n",
              "    }\n",
              "\n",
              "    .dataframe thead th {\n",
              "        text-align: right;\n",
              "    }\n",
              "</style>\n",
              "<table border=\"1\" class=\"dataframe\">\n",
              "  <thead>\n",
              "    <tr style=\"text-align: right;\">\n",
              "      <th></th>\n",
              "      <th>Number of deaths per year</th>\n",
              "    </tr>\n",
              "  </thead>\n",
              "  <tbody>\n",
              "    <tr>\n",
              "      <th>1900</th>\n",
              "      <td>2</td>\n",
              "    </tr>\n",
              "    <tr>\n",
              "      <th>1901</th>\n",
              "      <td>0</td>\n",
              "    </tr>\n",
              "    <tr>\n",
              "      <th>1902</th>\n",
              "      <td>0</td>\n",
              "    </tr>\n",
              "    <tr>\n",
              "      <th>1903</th>\n",
              "      <td>0</td>\n",
              "    </tr>\n",
              "    <tr>\n",
              "      <th>1904</th>\n",
              "      <td>0</td>\n",
              "    </tr>\n",
              "    <tr>\n",
              "      <th>...</th>\n",
              "      <td>...</td>\n",
              "    </tr>\n",
              "    <tr>\n",
              "      <th>2018</th>\n",
              "      <td>1349</td>\n",
              "    </tr>\n",
              "    <tr>\n",
              "      <th>2019</th>\n",
              "      <td>1380</td>\n",
              "    </tr>\n",
              "    <tr>\n",
              "      <th>2020</th>\n",
              "      <td>3011</td>\n",
              "    </tr>\n",
              "    <tr>\n",
              "      <th>2021</th>\n",
              "      <td>1504</td>\n",
              "    </tr>\n",
              "    <tr>\n",
              "      <th>2022</th>\n",
              "      <td>60</td>\n",
              "    </tr>\n",
              "  </tbody>\n",
              "</table>\n",
              "<p>123 rows × 1 columns</p>\n",
              "</div>"
            ],
            "text/plain": [
              "      Number of deaths per year\n",
              "1900                          2\n",
              "1901                          0\n",
              "1902                          0\n",
              "1903                          0\n",
              "1904                          0\n",
              "...                         ...\n",
              "2018                       1349\n",
              "2019                       1380\n",
              "2020                       3011\n",
              "2021                       1504\n",
              "2022                         60\n",
              "\n",
              "[123 rows x 1 columns]"
            ]
          },
          "execution_count": 7,
          "metadata": {},
          "output_type": "execute_result"
        }
      ],
      "source": [
        "# Visualizing aggregate annual death year trends\n",
        "dy_df = pd.DataFrame.from_dict(year_group_dict, orient = 'index')\n",
        "dy_df.columns = ['Number of deaths per year']\n",
        "dy_df"
      ]
    },
    {
      "cell_type": "code",
      "execution_count": 41,
      "metadata": {},
      "outputs": [
        {
          "data": {
            "image/png": "[encoded data removed]",
            "text/plain": [
              "<Figure size 1440x720 with 1 Axes>"
            ]
          },
          "metadata": {
            "needs_background": "light"
          },
          "output_type": "display_data"
        }
      ],
      "source": [
        "\n",
        "plt.bar(dy_df.index, dy_df['Number of deaths per year'])\n",
        "plt.title('Number of deaths per year')\n",
        "plt.xlabel('Year')\n",
        "\n",
        "plt.xticks(rotation=90)\n",
        "plt.ylabel('Number of deaths')\n",
        "\n",
        "plt.yticks(rotation=0)\n",
        "\n",
        "\n",
        "plt.rcParams['figure.figsize'] = (20, 10)\n",
        "\n",
        "\n",
        "plt.show()\n"
      ]
    },
    {
      "cell_type": "code",
      "execution_count": 30,
      "metadata": {
        "colab": {
          "base_uri": "https://localhost:8080/",
          "height": 712
        },
        "id": "fFnVkxRnaVj1",
        "outputId": "3cd45a7b-e281-462f-c375-98c6a1a695f6"
      },
      "outputs": [
        {
          "data": {
            "text/plain": [
              "[<matplotlib.lines.Line2D at 0x136664a60>]"
            ]
          },
          "execution_count": 30,
          "metadata": {},
          "output_type": "execute_result"
        },
        {
          "data": {
            "image/png": "[encoded data removed]",
            "text/plain": [
              "<Figure size 5040x2160 with 1 Axes>"
            ]
          },
          "metadata": {
            "needs_background": "light"
          },
          "output_type": "display_data"
        }
      ],
      "source": [
        "fig = plt.figure(figsize = (70, 30))\n",
        "ax = fig.add_subplot()\n",
        "ax.set_xlabel(\"Year of Death\")\n",
        "ax.set_ylabel(\"Number of Deaths per Year\")\n",
        "ax.set_title(\"Annual Deaths of Indigents across all Jurisdictions Between 1900 and 2022\")\n",
        "ax.plot(dy_df)"
      ]
    },
    {
      "cell_type": "code",
      "execution_count": 10,
      "metadata": {
        "colab": {
          "base_uri": "https://localhost:8080/"
        },
        "id": "GtxgYfFsxx3H",
        "outputId": "aa0313c6-9b65-40de-c5d9-3502d36f8b55"
      },
      "outputs": [
        {
          "name": "stdout",
          "output_type": "stream",
          "text": [
            "Death year divisions are as follows: \n",
            "1900: 0\n",
            "1901: 0\n",
            "1902: 0\n",
            "1903: 0\n",
            "1904: 0\n",
            "1905: 0\n",
            "1906: 0\n",
            "1907: 0\n",
            "1908: 0\n",
            "1909: 0\n",
            "1910: 0\n",
            "1911: 0\n",
            "1912: 0\n",
            "1913: 0\n",
            "1914: 0\n",
            "1915: 0\n",
            "1916: 0\n",
            "1917: 0\n",
            "1918: 0\n",
            "1919: 0\n",
            "1920: 0\n",
            "1921: 0\n",
            "1922: 0\n",
            "1923: 0\n",
            "1924: 0\n",
            "1925: 0\n",
            "1926: 0\n",
            "1927: 0\n",
            "1928: 0\n",
            "1929: 0\n",
            "1930: 9\n",
            "1931: 0\n",
            "1932: 0\n",
            "1933: 0\n",
            "1934: 0\n",
            "1935: 0\n",
            "1936: 0\n",
            "1937: 0\n",
            "1938: 0\n",
            "1939: 0\n",
            "1940: 0\n",
            "1941: 0\n",
            "1942: 0\n",
            "1943: 0\n",
            "1944: 0\n",
            "1945: 0\n",
            "1946: 0\n",
            "1947: 0\n",
            "1948: 0\n",
            "1949: 0\n",
            "1950: 0\n",
            "1951: 0\n",
            "1952: 0\n",
            "1953: 0\n",
            "1954: 0\n",
            "1955: 0\n",
            "1956: 0\n",
            "1957: 0\n",
            "1958: 0\n",
            "1959: 0\n",
            "1960: 0\n",
            "1961: 0\n",
            "1962: 0\n",
            "1963: 0\n",
            "1964: 0\n",
            "1965: 0\n",
            "1966: 0\n",
            "1967: 0\n",
            "1968: 0\n",
            "1969: 0\n",
            "1970: 0\n",
            "1971: 0\n",
            "1972: 0\n",
            "1973: 0\n",
            "1974: 0\n",
            "1975: 0\n",
            "1976: 0\n",
            "1977: 0\n",
            "1978: 0\n",
            "1979: 0\n",
            "1980: 630\n",
            "1981: 2427\n",
            "1982: 3352\n",
            "1983: 2546\n",
            "1984: 2446\n",
            "1985: 2426\n",
            "1986: 2422\n",
            "1987: 2786\n",
            "1988: 3117\n",
            "1989: 2893\n",
            "1990: 2837\n",
            "1991: 2541\n",
            "1992: 2146\n",
            "1993: 2306\n",
            "1994: 2054\n",
            "1995: 1763\n",
            "1996: 1818\n",
            "1997: 1708\n",
            "1998: 1569\n",
            "1999: 1710\n",
            "2000: 1682\n",
            "2001: 1655\n",
            "2002: 1596\n",
            "2003: 1684\n",
            "2004: 1647\n",
            "2005: 1587\n",
            "2006: 1660\n",
            "2007: 1471\n",
            "2008: 1629\n",
            "2009: 1540\n",
            "2010: 1532\n",
            "2011: 1444\n",
            "2012: 1347\n",
            "2013: 1570\n",
            "2014: 1499\n",
            "2015: 1569\n",
            "2016: 2371\n",
            "2017: 3086\n",
            "2018: 3706\n",
            "2019: 3624\n",
            "2020: 5392\n",
            "2021: 2343\n",
            "2022: 234\n",
            "\n",
            "\n",
            "A total of 91374 records have known burial dates out of the total 121,840 records. \n"
          ]
        }
      ],
      "source": [
        "# Burial Year Analysis\n",
        "\n",
        "bd_group_dict = {\n",
        "}\n",
        "\n",
        "bd_group = df['BD']\n",
        "bd_range = range(1900, 2023)\n",
        "known_count = 0\n",
        "for year in bd_range:\n",
        "    bd_count = 0\n",
        "    for group in bd_group:\n",
        "        if ((str(year) == (str(group))[-4:]) and (len(str(group)) == 10)):\n",
        "            bd_count += 1\n",
        "            known_count += 1\n",
        "    bd_group_dict[str(year)] = bd_count\n",
        "\n",
        "print(\"Death year divisions are as follows: \")\n",
        "for key, val in bd_group_dict.items():\n",
        "    print(key + \": \" + str(val))\n",
        "print(\"\\n\")\n",
        "print(\"A total of \" + str(known_count) + \" records have known burial dates out of the total 121,840 records. \")"
      ]
    },
    {
      "cell_type": "code",
      "execution_count": 11,
      "metadata": {
        "colab": {
          "base_uri": "https://localhost:8080/",
          "height": 424
        },
        "id": "twDJa96vzq6e",
        "outputId": "19826cb8-5648-4069-f52a-057ff0a22f42"
      },
      "outputs": [
        {
          "data": {
            "text/html": [
              "<div>\n",
              "<style scoped>\n",
              "    .dataframe tbody tr th:only-of-type {\n",
              "        vertical-align: middle;\n",
              "    }\n",
              "\n",
              "    .dataframe tbody tr th {\n",
              "        vertical-align: top;\n",
              "    }\n",
              "\n",
              "    .dataframe thead th {\n",
              "        text-align: right;\n",
              "    }\n",
              "</style>\n",
              "<table border=\"1\" class=\"dataframe\">\n",
              "  <thead>\n",
              "    <tr style=\"text-align: right;\">\n",
              "      <th></th>\n",
              "      <th>Number of burials per year</th>\n",
              "    </tr>\n",
              "  </thead>\n",
              "  <tbody>\n",
              "    <tr>\n",
              "      <th>1900</th>\n",
              "      <td>0</td>\n",
              "    </tr>\n",
              "    <tr>\n",
              "      <th>1901</th>\n",
              "      <td>0</td>\n",
              "    </tr>\n",
              "    <tr>\n",
              "      <th>1902</th>\n",
              "      <td>0</td>\n",
              "    </tr>\n",
              "    <tr>\n",
              "      <th>1903</th>\n",
              "      <td>0</td>\n",
              "    </tr>\n",
              "    <tr>\n",
              "      <th>1904</th>\n",
              "      <td>0</td>\n",
              "    </tr>\n",
              "    <tr>\n",
              "      <th>...</th>\n",
              "      <td>...</td>\n",
              "    </tr>\n",
              "    <tr>\n",
              "      <th>2018</th>\n",
              "      <td>3706</td>\n",
              "    </tr>\n",
              "    <tr>\n",
              "      <th>2019</th>\n",
              "      <td>3624</td>\n",
              "    </tr>\n",
              "    <tr>\n",
              "      <th>2020</th>\n",
              "      <td>5392</td>\n",
              "    </tr>\n",
              "    <tr>\n",
              "      <th>2021</th>\n",
              "      <td>2343</td>\n",
              "    </tr>\n",
              "    <tr>\n",
              "      <th>2022</th>\n",
              "      <td>234</td>\n",
              "    </tr>\n",
              "  </tbody>\n",
              "</table>\n",
              "<p>123 rows × 1 columns</p>\n",
              "</div>"
            ],
            "text/plain": [
              "      Number of burials per year\n",
              "1900                           0\n",
              "1901                           0\n",
              "1902                           0\n",
              "1903                           0\n",
              "1904                           0\n",
              "...                          ...\n",
              "2018                        3706\n",
              "2019                        3624\n",
              "2020                        5392\n",
              "2021                        2343\n",
              "2022                         234\n",
              "\n",
              "[123 rows x 1 columns]"
            ]
          },
          "execution_count": 11,
          "metadata": {},
          "output_type": "execute_result"
        }
      ],
      "source": [
        "# Visualizing aggregate annual death year trends\n",
        "bd_df = pd.DataFrame.from_dict(bd_group_dict, orient = 'index')\n",
        "bd_df.columns = ['Number of burials per year']\n",
        "bd_df"
      ]
    },
    {
      "cell_type": "code",
      "execution_count": 12,
      "metadata": {
        "colab": {
          "base_uri": "https://localhost:8080/",
          "height": 583
        },
        "id": "5Nh7gOpd0HnA",
        "outputId": "f2488da7-8180-4d57-d7ae-55fb06da6c85"
      },
      "outputs": [
        {
          "data": {
            "text/plain": [
              "[<matplotlib.lines.Line2D at 0x13559f6a0>]"
            ]
          },
          "execution_count": 12,
          "metadata": {},
          "output_type": "execute_result"
        },
        {
          "data": {
            "image/png": "[encoded data removed]",
            "text/plain": [
              "<Figure size 5040x2160 with 1 Axes>"
            ]
          },
          "metadata": {
            "needs_background": "light"
          },
          "output_type": "display_data"
        }
      ],
      "source": [
        "fig = plt.figure(figsize = (70, 30))\n",
        "ax2 = fig.add_subplot()\n",
        "ax2.set_xlabel(\"Year of Burial\")\n",
        "ax2.set_ylabel(\"Number of Burials per Year\")\n",
        "ax2.set_title(\"Annual Burials of Indigents across all Jurisdictions Between 1900 and 2022\")\n",
        "ax2.plot(bd_df)"
      ]
    },
    {
      "cell_type": "code",
      "execution_count": 13,
      "metadata": {
        "colab": {
          "base_uri": "https://localhost:8080/",
          "height": 583
        },
        "id": "ubyfNP-r3CZX",
        "outputId": "f380a0a3-2bdc-4fd0-a49c-58e1b5682dfb"
      },
      "outputs": [
        {
          "data": {
            "text/plain": [
              "<matplotlib.legend.Legend at 0x1358775b0>"
            ]
          },
          "execution_count": 13,
          "metadata": {},
          "output_type": "execute_result"
        },
        {
          "data": {
            "image/png": "[encoded data removed]",
            "text/plain": [
              "<Figure size 5040x2160 with 1 Axes>"
            ]
          },
          "metadata": {
            "needs_background": "light"
          },
          "output_type": "display_data"
        }
      ],
      "source": [
        "# Comparing Death and Burial Year\n",
        "fig = plt.figure(figsize = (70, 30))\n",
        "ax3 = fig.add_subplot()\n",
        "ax3.set_xlabel(\"Year\")\n",
        "ax3.set_ylabel(\"Number of Indigents per Year\")\n",
        "ax3.set_title(\"Annual Death and Burials of Indigents across all Jurisdictions Between 1900 and 2022\")\n",
        "\n",
        "ax3.plot(dy_df)\n",
        "ax3.plot(bd_df)\n",
        "ax3.legend([\"Deaths\", \"Burials\"], fontsize=30)"
      ]
    },
    {
      "cell_type": "code",
      "execution_count": 14,
      "metadata": {
        "colab": {
          "base_uri": "https://localhost:8080/"
        },
        "id": "NMY6cRE_VhFV",
        "outputId": "85ecc2ce-22bd-4e85-f77c-46a5dd2a3a0f"
      },
      "outputs": [
        {
          "name": "stdout",
          "output_type": "stream",
          "text": [
            "Age divisions are as follows: \n",
            "Infant: 13718\n",
            "Child: 325\n",
            "Adolescent: 141\n",
            "Adult: 23149\n",
            "Elder: 27265\n",
            "Unknown: 54234\n",
            "Total: 118832\n",
            "\n",
            "\n"
          ]
        }
      ],
      "source": [
        "# Age Analysis\n",
        "age_group = df['Age']\n",
        "infant_count, child_count, teen_count, adult_count, elder_count, unk_count, total_count = (0, 0, 0, 0, 0, 0, 0)\n",
        "infant_labels = [\"min\", \"hours\", \"hr\", \"days\", \"month\", \"newborn\", \"infant\", \"inf\", \"sec\", \"week\", \"wk\"]\n",
        "for group in age_group:\n",
        "    total_count += 1\n",
        "    if type(group) != float: # exclude NaN cells\n",
        "        for label in infant_labels:\n",
        "            if label in str(group).lower() or (group.isnumeric() and int(group) <= 1): # If a cell contains a string label only infants have, OR the numeric label is 0 or 1\n",
        "                infant_count += 1\n",
        "                break\n",
        "        if group.isnumeric():      \n",
        "            group = int(group)\n",
        "            if group > 1:\n",
        "                if group < 13: # Children are between 2 and 12\n",
        "                    child_count += 1\n",
        "                elif group < 19: # Adolescents are between 13 and 18\n",
        "                    teen_count += 1\n",
        "                elif group < 60: # Adults are between 19 and 59\n",
        "                    adult_count += 1\n",
        "                elif group >= 60: # Elders are 60 or older\n",
        "                    elder_count += 1\n",
        "unk_count = total_count - (infant_count + child_count + teen_count + adult_count + elder_count)\n",
        "\n",
        "age_group_dict = {\n",
        "    \"Infant\": infant_count,\n",
        "    \"Child\": child_count,\n",
        "    \"Adolescent\": teen_count,\n",
        "    \"Adult\": adult_count,\n",
        "    \"Elder\": elder_count,\n",
        "    \"Unknown\": unk_count,\n",
        "    \"Total\": total_count\n",
        "}\n",
        "\n",
        "print(\"Age divisions are as follows: \")\n",
        "for key, val in age_group_dict.items():\n",
        "    print(key + \": \" + str(val))\n",
        "print(\"\\n\")"
      ]
    },
    {
      "cell_type": "code",
      "execution_count": 15,
      "metadata": {
        "colab": {
          "base_uri": "https://localhost:8080/",
          "height": 237
        },
        "id": "oIzn1ekJpoir",
        "outputId": "003c9b2e-2e10-4857-b745-b7fd761eeb94"
      },
      "outputs": [
        {
          "data": {
            "text/html": [
              "<div>\n",
              "<style scoped>\n",
              "    .dataframe tbody tr th:only-of-type {\n",
              "        vertical-align: middle;\n",
              "    }\n",
              "\n",
              "    .dataframe tbody tr th {\n",
              "        vertical-align: top;\n",
              "    }\n",
              "\n",
              "    .dataframe thead th {\n",
              "        text-align: right;\n",
              "    }\n",
              "</style>\n",
              "<table border=\"1\" class=\"dataframe\">\n",
              "  <thead>\n",
              "    <tr style=\"text-align: right;\">\n",
              "      <th></th>\n",
              "      <th>0</th>\n",
              "    </tr>\n",
              "  </thead>\n",
              "  <tbody>\n",
              "    <tr>\n",
              "      <th>Infant</th>\n",
              "      <td>13718</td>\n",
              "    </tr>\n",
              "    <tr>\n",
              "      <th>Child</th>\n",
              "      <td>325</td>\n",
              "    </tr>\n",
              "    <tr>\n",
              "      <th>Adolescent</th>\n",
              "      <td>141</td>\n",
              "    </tr>\n",
              "    <tr>\n",
              "      <th>Adult</th>\n",
              "      <td>23149</td>\n",
              "    </tr>\n",
              "    <tr>\n",
              "      <th>Elder</th>\n",
              "      <td>27265</td>\n",
              "    </tr>\n",
              "    <tr>\n",
              "      <th>Unknown</th>\n",
              "      <td>54234</td>\n",
              "    </tr>\n",
              "  </tbody>\n",
              "</table>\n",
              "</div>"
            ],
            "text/plain": [
              "                0\n",
              "Infant      13718\n",
              "Child         325\n",
              "Adolescent    141\n",
              "Adult       23149\n",
              "Elder       27265\n",
              "Unknown     54234"
            ]
          },
          "execution_count": 15,
          "metadata": {},
          "output_type": "execute_result"
        }
      ],
      "source": [
        "age_df = pd.DataFrame.from_dict(age_group_dict, orient = 'index')\n",
        "#age_df.columns = ['Count']\n",
        "age_df = age_df[:-1] # exclude Total Count from dataframe\n",
        "age_df"
      ]
    },
    {
      "cell_type": "code",
      "execution_count": 16,
      "metadata": {
        "colab": {
          "base_uri": "https://localhost:8080/",
          "height": 664
        },
        "id": "7B0nVBNSpqcs",
        "outputId": "230e67c5-c33c-4f4b-e1ab-d15a709bc8f4"
      },
      "outputs": [
        {
          "data": {
            "text/plain": [
              "Text(0, 0.5, '')"
            ]
          },
          "execution_count": 16,
          "metadata": {},
          "output_type": "execute_result"
        },
        {
          "data": {
            "image/png": "[encoded data removed]",
            "text/plain": [
              "<Figure size 2160x720 with 1 Axes>"
            ]
          },
          "metadata": {},
          "output_type": "display_data"
        }
      ],
      "source": [
        "age_plot = age_df.plot.pie(subplots=True, figsize=(30, 10), title = \"Age Composition of Indigents Between 1900 and 2020\", autopct='%1.1f%%')\n",
        "pylab.ylabel('')\n"
      ]
    },
    {
      "cell_type": "code",
      "execution_count": 17,
      "metadata": {
        "colab": {
          "base_uri": "https://localhost:8080/",
          "height": 542
        },
        "id": "TLWNLVC4yCeu",
        "outputId": "a8bb9677-52a7-4761-881f-434b2cfd8cdb"
      },
      "outputs": [
        {
          "data": {
            "application/vnd.plotly.v1+json": {
              "config": {
                "plotlyServerURL": "https://plot.ly"
              },
              "data": [
                {
                  "domain": {
                    "x": [
                      0,
                      1
                    ],
                    "y": [
                      0,
                      1
                    ]
                  },
                  "hovertemplate": "label=%{label}<br>0=%{value}<extra></extra>",
                  "labels": [
                    "Infant",
                    "Child",
                    "Adolescent",
                    "Adult",
                    "Elder",
                    "Unknown"
                  ],
                  "legendgroup": "",
                  "name": "",
                  "showlegend": true,
                  "type": "pie",
                  "values": [
                    13718,
                    325,
                    141,
                    23149,
                    27265,
                    54234
                  ]
                }
              ],
              "layout": {
                "legend": {
                  "tracegroupgap": 0
                },
                "margin": {
                  "t": 60
                },
                "piecolorway": [
                  "rgb(103,0,31)",
                  "rgb(178,24,43)",
                  "rgb(214,96,77)",
                  "rgb(244,165,130)",
                  "rgb(253,219,199)",
                  "rgb(247,247,247)",
                  "rgb(209,229,240)",
                  "rgb(146,197,222)",
                  "rgb(67,147,195)",
                  "rgb(33,102,172)",
                  "rgb(5,48,97)"
                ],
                "template": {
                  "data": {
                    "bar": [
                      {
                        "error_x": {
                          "color": "#2a3f5f"
                        },
                        "error_y": {
                          "color": "#2a3f5f"
                        },
                        "marker": {
                          "line": {
                            "color": "#E5ECF6",
                            "width": 0.5
                          },
                          "pattern": {
                            "fillmode": "overlay",
                            "size": 10,
                            "solidity": 0.2
                          }
                        },
                        "type": "bar"
                      }
                    ],
                    "barpolar": [
                      {
                        "marker": {
                          "line": {
                            "color": "#E5ECF6",
                            "width": 0.5
                          },
                          "pattern": {
                            "fillmode": "overlay",
                            "size": 10,
                            "solidity": 0.2
                          }
                        },
                        "type": "barpolar"
                      }
                    ],
                    "carpet": [
                      {
                        "aaxis": {
                          "endlinecolor": "#2a3f5f",
                          "gridcolor": "white",
                          "linecolor": "white",
                          "minorgridcolor": "white",
                          "startlinecolor": "#2a3f5f"
                        },
                        "baxis": {
                          "endlinecolor": "#2a3f5f",
                          "gridcolor": "white",
                          "linecolor": "white",
                          "minorgridcolor": "white",
                          "startlinecolor": "#2a3f5f"
                        },
                        "type": "carpet"
                      }
                    ],
                    "choropleth": [
                      {
                        "colorbar": {
                          "outlinewidth": 0,
                          "ticks": ""
                        },
                        "type": "choropleth"
                      }
                    ],
                    "contour": [
                      {
                        "colorbar": {
                          "outlinewidth": 0,
                          "ticks": ""
                        },
                        "colorscale": [
                          [
                            0,
                            "#0d0887"
                          ],
                          [
                            0.1111111111111111,
                            "#46039f"
                          ],
                          [
                            0.2222222222222222,
                            "#7201a8"
                          ],
                          [
                            0.3333333333333333,
                            "#9c179e"
                          ],
                          [
                            0.4444444444444444,
                            "#bd3786"
                          ],
                          [
                            0.5555555555555556,
                            "#d8576b"
                          ],
                          [
                            0.6666666666666666,
                            "#ed7953"
                          ],
                          [
                            0.7777777777777778,
                            "#fb9f3a"
                          ],
                          [
                            0.8888888888888888,
                            "#fdca26"
                          ],
                          [
                            1,
                            "#f0f921"
                          ]
                        ],
                        "type": "contour"
                      }
                    ],
                    "contourcarpet": [
                      {
                        "colorbar": {
                          "outlinewidth": 0,
                          "ticks": ""
                        },
                        "type": "contourcarpet"
                      }
                    ],
                    "heatmap": [
                      {
                        "colorbar": {
                          "outlinewidth": 0,
                          "ticks": ""
                        },
                        "colorscale": [
                          [
                            0,
                            "#0d0887"
                          ],
                          [
                            0.1111111111111111,
                            "#46039f"
                          ],
                          [
                            0.2222222222222222,
                            "#7201a8"
                          ],
                          [
                            0.3333333333333333,
                            "#9c179e"
                          ],
                          [
                            0.4444444444444444,
                            "#bd3786"
                          ],
                          [
                            0.5555555555555556,
                            "#d8576b"
                          ],
                          [
                            0.6666666666666666,
                            "#ed7953"
                          ],
                          [
                            0.7777777777777778,
                            "#fb9f3a"
                          ],
                          [
                            0.8888888888888888,
                            "#fdca26"
                          ],
                          [
                            1,
                            "#f0f921"
                          ]
                        ],
                        "type": "heatmap"
                      }
                    ],
                    "heatmapgl": [
                      {
                        "colorbar": {
                          "outlinewidth": 0,
                          "ticks": ""
                        },
                        "colorscale": [
                          [
                            0,
                            "#0d0887"
                          ],
                          [
                            0.1111111111111111,
                            "#46039f"
                          ],
                          [
                            0.2222222222222222,
                            "#7201a8"
                          ],
                          [
                            0.3333333333333333,
                            "#9c179e"
                          ],
                          [
                            0.4444444444444444,
                            "#bd3786"
                          ],
                          [
                            0.5555555555555556,
                            "#d8576b"
                          ],
                          [
                            0.6666666666666666,
                            "#ed7953"
                          ],
                          [
                            0.7777777777777778,
                            "#fb9f3a"
                          ],
                          [
                            0.8888888888888888,
                            "#fdca26"
                          ],
                          [
                            1,
                            "#f0f921"
                          ]
                        ],
                        "type": "heatmapgl"
                      }
                    ],
                    "histogram": [
                      {
                        "marker": {
                          "pattern": {
                            "fillmode": "overlay",
                            "size": 10,
                            "solidity": 0.2
                          }
                        },
                        "type": "histogram"
                      }
                    ],
                    "histogram2d": [
                      {
                        "colorbar": {
                          "outlinewidth": 0,
                          "ticks": ""
                        },
                        "colorscale": [
                          [
                            0,
                            "#0d0887"
                          ],
                          [
                            0.1111111111111111,
                            "#46039f"
                          ],
                          [
                            0.2222222222222222,
                            "#7201a8"
                          ],
                          [
                            0.3333333333333333,
                            "#9c179e"
                          ],
                          [
                            0.4444444444444444,
                            "#bd3786"
                          ],
                          [
                            0.5555555555555556,
                            "#d8576b"
                          ],
                          [
                            0.6666666666666666,
                            "#ed7953"
                          ],
                          [
                            0.7777777777777778,
                            "#fb9f3a"
                          ],
                          [
                            0.8888888888888888,
                            "#fdca26"
                          ],
                          [
                            1,
                            "#f0f921"
                          ]
                        ],
                        "type": "histogram2d"
                      }
                    ],
                    "histogram2dcontour": [
                      {
                        "colorbar": {
                          "outlinewidth": 0,
                          "ticks": ""
                        },
                        "colorscale": [
                          [
                            0,
                            "#0d0887"
                          ],
                          [
                            0.1111111111111111,
                            "#46039f"
                          ],
                          [
                            0.2222222222222222,
                            "#7201a8"
                          ],
                          [
                            0.3333333333333333,
                            "#9c179e"
                          ],
                          [
                            0.4444444444444444,
                            "#bd3786"
                          ],
                          [
                            0.5555555555555556,
                            "#d8576b"
                          ],
                          [
                            0.6666666666666666,
                            "#ed7953"
                          ],
                          [
                            0.7777777777777778,
                            "#fb9f3a"
                          ],
                          [
                            0.8888888888888888,
                            "#fdca26"
                          ],
                          [
                            1,
                            "#f0f921"
                          ]
                        ],
                        "type": "histogram2dcontour"
                      }
                    ],
                    "mesh3d": [
                      {
                        "colorbar": {
                          "outlinewidth": 0,
                          "ticks": ""
                        },
                        "type": "mesh3d"
                      }
                    ],
                    "parcoords": [
                      {
                        "line": {
                          "colorbar": {
                            "outlinewidth": 0,
                            "ticks": ""
                          }
                        },
                        "type": "parcoords"
                      }
                    ],
                    "pie": [
                      {
                        "automargin": true,
                        "type": "pie"
                      }
                    ],
                    "scatter": [
                      {
                        "fillpattern": {
                          "fillmode": "overlay",
                          "size": 10,
                          "solidity": 0.2
                        },
                        "type": "scatter"
                      }
                    ],
                    "scatter3d": [
                      {
                        "line": {
                          "colorbar": {
                            "outlinewidth": 0,
                            "ticks": ""
                          }
                        },
                        "marker": {
                          "colorbar": {
                            "outlinewidth": 0,
                            "ticks": ""
                          }
                        },
                        "type": "scatter3d"
                      }
                    ],
                    "scattercarpet": [
                      {
                        "marker": {
                          "colorbar": {
                            "outlinewidth": 0,
                            "ticks": ""
                          }
                        },
                        "type": "scattercarpet"
                      }
                    ],
                    "scattergeo": [
                      {
                        "marker": {
                          "colorbar": {
                            "outlinewidth": 0,
                            "ticks": ""
                          }
                        },
                        "type": "scattergeo"
                      }
                    ],
                    "scattergl": [
                      {
                        "marker": {
                          "colorbar": {
                            "outlinewidth": 0,
                            "ticks": ""
                          }
                        },
                        "type": "scattergl"
                      }
                    ],
                    "scattermapbox": [
                      {
                        "marker": {
                          "colorbar": {
                            "outlinewidth": 0,
                            "ticks": ""
                          }
                        },
                        "type": "scattermapbox"
                      }
                    ],
                    "scatterpolar": [
                      {
                        "marker": {
                          "colorbar": {
                            "outlinewidth": 0,
                            "ticks": ""
                          }
                        },
                        "type": "scatterpolar"
                      }
                    ],
                    "scatterpolargl": [
                      {
                        "marker": {
                          "colorbar": {
                            "outlinewidth": 0,
                            "ticks": ""
                          }
                        },
                        "type": "scatterpolargl"
                      }
                    ],
                    "scatterternary": [
                      {
                        "marker": {
                          "colorbar": {
                            "outlinewidth": 0,
                            "ticks": ""
                          }
                        },
                        "type": "scatterternary"
                      }
                    ],
                    "surface": [
                      {
                        "colorbar": {
                          "outlinewidth": 0,
                          "ticks": ""
                        },
                        "colorscale": [
                          [
                            0,
                            "#0d0887"
                          ],
                          [
                            0.1111111111111111,
                            "#46039f"
                          ],
                          [
                            0.2222222222222222,
                            "#7201a8"
                          ],
                          [
                            0.3333333333333333,
                            "#9c179e"
                          ],
                          [
                            0.4444444444444444,
                            "#bd3786"
                          ],
                          [
                            0.5555555555555556,
                            "#d8576b"
                          ],
                          [
                            0.6666666666666666,
                            "#ed7953"
                          ],
                          [
                            0.7777777777777778,
                            "#fb9f3a"
                          ],
                          [
                            0.8888888888888888,
                            "#fdca26"
                          ],
                          [
                            1,
                            "#f0f921"
                          ]
                        ],
                        "type": "surface"
                      }
                    ],
                    "table": [
                      {
                        "cells": {
                          "fill": {
                            "color": "#EBF0F8"
                          },
                          "line": {
                            "color": "white"
                          }
                        },
                        "header": {
                          "fill": {
                            "color": "#C8D4E3"
                          },
                          "line": {
                            "color": "white"
                          }
                        },
                        "type": "table"
                      }
                    ]
                  },
                  "layout": {
                    "annotationdefaults": {
                      "arrowcolor": "#2a3f5f",
                      "arrowhead": 0,
                      "arrowwidth": 1
                    },
                    "autotypenumbers": "strict",
                    "coloraxis": {
                      "colorbar": {
                        "outlinewidth": 0,
                        "ticks": ""
                      }
                    },
                    "colorscale": {
                      "diverging": [
                        [
                          0,
                          "#8e0152"
                        ],
                        [
                          0.1,
                          "#c51b7d"
                        ],
                        [
                          0.2,
                          "#de77ae"
                        ],
                        [
                          0.3,
                          "#f1b6da"
                        ],
                        [
                          0.4,
                          "#fde0ef"
                        ],
                        [
                          0.5,
                          "#f7f7f7"
                        ],
                        [
                          0.6,
                          "#e6f5d0"
                        ],
                        [
                          0.7,
                          "#b8e186"
                        ],
                        [
                          0.8,
                          "#7fbc41"
                        ],
                        [
                          0.9,
                          "#4d9221"
                        ],
                        [
                          1,
                          "#276419"
                        ]
                      ],
                      "sequential": [
                        [
                          0,
                          "#0d0887"
                        ],
                        [
                          0.1111111111111111,
                          "#46039f"
                        ],
                        [
                          0.2222222222222222,
                          "#7201a8"
                        ],
                        [
                          0.3333333333333333,
                          "#9c179e"
                        ],
                        [
                          0.4444444444444444,
                          "#bd3786"
                        ],
                        [
                          0.5555555555555556,
                          "#d8576b"
                        ],
                        [
                          0.6666666666666666,
                          "#ed7953"
                        ],
                        [
                          0.7777777777777778,
                          "#fb9f3a"
                        ],
                        [
                          0.8888888888888888,
                          "#fdca26"
                        ],
                        [
                          1,
                          "#f0f921"
                        ]
                      ],
                      "sequentialminus": [
                        [
                          0,
                          "#0d0887"
                        ],
                        [
                          0.1111111111111111,
                          "#46039f"
                        ],
                        [
                          0.2222222222222222,
                          "#7201a8"
                        ],
                        [
                          0.3333333333333333,
                          "#9c179e"
                        ],
                        [
                          0.4444444444444444,
                          "#bd3786"
                        ],
                        [
                          0.5555555555555556,
                          "#d8576b"
                        ],
                        [
                          0.6666666666666666,
                          "#ed7953"
                        ],
                        [
                          0.7777777777777778,
                          "#fb9f3a"
                        ],
                        [
                          0.8888888888888888,
                          "#fdca26"
                        ],
                        [
                          1,
                          "#f0f921"
                        ]
                      ]
                    },
                    "colorway": [
                      "#636efa",
                      "#EF553B",
                      "#00cc96",
                      "#ab63fa",
                      "#FFA15A",
                      "#19d3f3",
                      "#FF6692",
                      "#B6E880",
                      "#FF97FF",
                      "#FECB52"
                    ],
                    "font": {
                      "color": "#2a3f5f"
                    },
                    "geo": {
                      "bgcolor": "white",
                      "lakecolor": "white",
                      "landcolor": "#E5ECF6",
                      "showlakes": true,
                      "showland": true,
                      "subunitcolor": "white"
                    },
                    "hoverlabel": {
                      "align": "left"
                    },
                    "hovermode": "closest",
                    "mapbox": {
                      "style": "light"
                    },
                    "paper_bgcolor": "white",
                    "plot_bgcolor": "#E5ECF6",
                    "polar": {
                      "angularaxis": {
                        "gridcolor": "white",
                        "linecolor": "white",
                        "ticks": ""
                      },
                      "bgcolor": "#E5ECF6",
                      "radialaxis": {
                        "gridcolor": "white",
                        "linecolor": "white",
                        "ticks": ""
                      }
                    },
                    "scene": {
                      "xaxis": {
                        "backgroundcolor": "#E5ECF6",
                        "gridcolor": "white",
                        "gridwidth": 2,
                        "linecolor": "white",
                        "showbackground": true,
                        "ticks": "",
                        "zerolinecolor": "white"
                      },
                      "yaxis": {
                        "backgroundcolor": "#E5ECF6",
                        "gridcolor": "white",
                        "gridwidth": 2,
                        "linecolor": "white",
                        "showbackground": true,
                        "ticks": "",
                        "zerolinecolor": "white"
                      },
                      "zaxis": {
                        "backgroundcolor": "#E5ECF6",
                        "gridcolor": "white",
                        "gridwidth": 2,
                        "linecolor": "white",
                        "showbackground": true,
                        "ticks": "",
                        "zerolinecolor": "white"
                      }
                    },
                    "shapedefaults": {
                      "line": {
                        "color": "#2a3f5f"
                      }
                    },
                    "ternary": {
                      "aaxis": {
                        "gridcolor": "white",
                        "linecolor": "white",
                        "ticks": ""
                      },
                      "baxis": {
                        "gridcolor": "white",
                        "linecolor": "white",
                        "ticks": ""
                      },
                      "bgcolor": "#E5ECF6",
                      "caxis": {
                        "gridcolor": "white",
                        "linecolor": "white",
                        "ticks": ""
                      }
                    },
                    "title": {
                      "x": 0.05
                    },
                    "xaxis": {
                      "automargin": true,
                      "gridcolor": "white",
                      "linecolor": "white",
                      "ticks": "",
                      "title": {
                        "standoff": 15
                      },
                      "zerolinecolor": "white",
                      "zerolinewidth": 2
                    },
                    "yaxis": {
                      "automargin": true,
                      "gridcolor": "white",
                      "linecolor": "white",
                      "ticks": "",
                      "title": {
                        "standoff": 15
                      },
                      "zerolinecolor": "white",
                      "zerolinewidth": 2
                    }
                  }
                },
                "title": {
                  "text": "Age Composition of Indigents Between 1900 and 2020"
                }
              }
            }
          },
          "metadata": {},
          "output_type": "display_data"
        }
      ],
      "source": [
        "fig = px.pie(age_df, values=age_df[0], names=['Infant', 'Child', 'Adolescent', 'Adult', 'Elder', 'Unknown'], color_discrete_sequence=px.colors.sequential.RdBu)\n",
        "fig.update_layout(title=\"Age Composition of Indigents Between 1900 and 2020\")\n",
        "fig.show()"
      ]
    },
    {
      "cell_type": "code",
      "execution_count": 18,
      "metadata": {
        "colab": {
          "base_uri": "https://localhost:8080/",
          "height": 206
        },
        "id": "R1fd_wI0pyl4",
        "outputId": "101482e6-69f1-44ac-b98f-d26cc6425374"
      },
      "outputs": [
        {
          "data": {
            "text/html": [
              "<div>\n",
              "<style scoped>\n",
              "    .dataframe tbody tr th:only-of-type {\n",
              "        vertical-align: middle;\n",
              "    }\n",
              "\n",
              "    .dataframe tbody tr th {\n",
              "        vertical-align: top;\n",
              "    }\n",
              "\n",
              "    .dataframe thead th {\n",
              "        text-align: right;\n",
              "    }\n",
              "</style>\n",
              "<table border=\"1\" class=\"dataframe\">\n",
              "  <thead>\n",
              "    <tr style=\"text-align: right;\">\n",
              "      <th></th>\n",
              "      <th>0</th>\n",
              "    </tr>\n",
              "  </thead>\n",
              "  <tbody>\n",
              "    <tr>\n",
              "      <th>Infant</th>\n",
              "      <td>13718</td>\n",
              "    </tr>\n",
              "    <tr>\n",
              "      <th>Child</th>\n",
              "      <td>325</td>\n",
              "    </tr>\n",
              "    <tr>\n",
              "      <th>Adolescent</th>\n",
              "      <td>141</td>\n",
              "    </tr>\n",
              "    <tr>\n",
              "      <th>Adult</th>\n",
              "      <td>23149</td>\n",
              "    </tr>\n",
              "    <tr>\n",
              "      <th>Elder</th>\n",
              "      <td>27265</td>\n",
              "    </tr>\n",
              "  </tbody>\n",
              "</table>\n",
              "</div>"
            ],
            "text/plain": [
              "                0\n",
              "Infant      13718\n",
              "Child         325\n",
              "Adolescent    141\n",
              "Adult       23149\n",
              "Elder       27265"
            ]
          },
          "execution_count": 18,
          "metadata": {},
          "output_type": "execute_result"
        }
      ],
      "source": [
        "# If we exclude the unknown ...\n",
        "age_df = pd.DataFrame.from_dict(age_group_dict, orient = 'index')\n",
        "#age_df.columns = ['Count']\n",
        "age_df = age_df[:-2] # exclude Total Count and Unknown Count from dataframe\n",
        "age_df"
      ]
    },
    {
      "cell_type": "code",
      "execution_count": 19,
      "metadata": {
        "colab": {
          "base_uri": "https://localhost:8080/",
          "height": 664
        },
        "id": "EC_-pzCHp7Lv",
        "outputId": "2217cc40-c287-44a1-9158-a2985a6e3e61"
      },
      "outputs": [
        {
          "data": {
            "text/plain": [
              "Text(0, 0.5, '')"
            ]
          },
          "execution_count": 19,
          "metadata": {},
          "output_type": "execute_result"
        },
        {
          "data": {
            "image/png": "[encoded data removed]",
            "text/plain": [
              "<Figure size 2160x720 with 1 Axes>"
            ]
          },
          "metadata": {},
          "output_type": "display_data"
        }
      ],
      "source": [
        "age_plot = age_df.plot.pie(subplots=True, figsize=(30, 10), title = \"Age Composition of Indigents Between 1900 and 2020\", autopct='%1.1f%%')\n",
        "pylab.ylabel('')"
      ]
    },
    {
      "cell_type": "code",
      "execution_count": 20,
      "metadata": {
        "colab": {
          "base_uri": "https://localhost:8080/",
          "height": 542
        },
        "id": "jocJrEsfyeUJ",
        "outputId": "a881948f-9725-45f2-bbc0-46d023c29509"
      },
      "outputs": [
        {
          "data": {
            "application/vnd.plotly.v1+json": {
              "config": {
                "plotlyServerURL": "https://plot.ly"
              },
              "data": [
                {
                  "domain": {
                    "x": [
                      0,
                      1
                    ],
                    "y": [
                      0,
                      1
                    ]
                  },
                  "hovertemplate": "label=%{label}<br>0=%{value}<extra></extra>",
                  "labels": [
                    "Infant",
                    "Child",
                    "Adolescent",
                    "Adult",
                    "Elder"
                  ],
                  "legendgroup": "",
                  "name": "",
                  "showlegend": true,
                  "type": "pie",
                  "values": [
                    13718,
                    325,
                    141,
                    23149,
                    27265
                  ]
                }
              ],
              "layout": {
                "legend": {
                  "tracegroupgap": 0
                },
                "margin": {
                  "t": 60
                },
                "piecolorway": [
                  "rgb(103,0,31)",
                  "rgb(178,24,43)",
                  "rgb(214,96,77)",
                  "rgb(244,165,130)",
                  "rgb(253,219,199)",
                  "rgb(247,247,247)",
                  "rgb(209,229,240)",
                  "rgb(146,197,222)",
                  "rgb(67,147,195)",
                  "rgb(33,102,172)",
                  "rgb(5,48,97)"
                ],
                "template": {
                  "data": {
                    "bar": [
                      {
                        "error_x": {
                          "color": "#2a3f5f"
                        },
                        "error_y": {
                          "color": "#2a3f5f"
                        },
                        "marker": {
                          "line": {
                            "color": "#E5ECF6",
                            "width": 0.5
                          },
                          "pattern": {
                            "fillmode": "overlay",
                            "size": 10,
                            "solidity": 0.2
                          }
                        },
                        "type": "bar"
                      }
                    ],
                    "barpolar": [
                      {
                        "marker": {
                          "line": {
                            "color": "#E5ECF6",
                            "width": 0.5
                          },
                          "pattern": {
                            "fillmode": "overlay",
                            "size": 10,
                            "solidity": 0.2
                          }
                        },
                        "type": "barpolar"
                      }
                    ],
                    "carpet": [
                      {
                        "aaxis": {
                          "endlinecolor": "#2a3f5f",
                          "gridcolor": "white",
                          "linecolor": "white",
                          "minorgridcolor": "white",
                          "startlinecolor": "#2a3f5f"
                        },
                        "baxis": {
                          "endlinecolor": "#2a3f5f",
                          "gridcolor": "white",
                          "linecolor": "white",
                          "minorgridcolor": "white",
                          "startlinecolor": "#2a3f5f"
                        },
                        "type": "carpet"
                      }
                    ],
                    "choropleth": [
                      {
                        "colorbar": {
                          "outlinewidth": 0,
                          "ticks": ""
                        },
                        "type": "choropleth"
                      }
                    ],
                    "contour": [
                      {
                        "colorbar": {
                          "outlinewidth": 0,
                          "ticks": ""
                        },
                        "colorscale": [
                          [
                            0,
                            "#0d0887"
                          ],
                          [
                            0.1111111111111111,
                            "#46039f"
                          ],
                          [
                            0.2222222222222222,
                            "#7201a8"
                          ],
                          [
                            0.3333333333333333,
                            "#9c179e"
                          ],
                          [
                            0.4444444444444444,
                            "#bd3786"
                          ],
                          [
                            0.5555555555555556,
                            "#d8576b"
                          ],
                          [
                            0.6666666666666666,
                            "#ed7953"
                          ],
                          [
                            0.7777777777777778,
                            "#fb9f3a"
                          ],
                          [
                            0.8888888888888888,
                            "#fdca26"
                          ],
                          [
                            1,
                            "#f0f921"
                          ]
                        ],
                        "type": "contour"
                      }
                    ],
                    "contourcarpet": [
                      {
                        "colorbar": {
                          "outlinewidth": 0,
                          "ticks": ""
                        },
                        "type": "contourcarpet"
                      }
                    ],
                    "heatmap": [
                      {
                        "colorbar": {
                          "outlinewidth": 0,
                          "ticks": ""
                        },
                        "colorscale": [
                          [
                            0,
                            "#0d0887"
                          ],
                          [
                            0.1111111111111111,
                            "#46039f"
                          ],
                          [
                            0.2222222222222222,
                            "#7201a8"
                          ],
                          [
                            0.3333333333333333,
                            "#9c179e"
                          ],
                          [
                            0.4444444444444444,
                            "#bd3786"
                          ],
                          [
                            0.5555555555555556,
                            "#d8576b"
                          ],
                          [
                            0.6666666666666666,
                            "#ed7953"
                          ],
                          [
                            0.7777777777777778,
                            "#fb9f3a"
                          ],
                          [
                            0.8888888888888888,
                            "#fdca26"
                          ],
                          [
                            1,
                            "#f0f921"
                          ]
                        ],
                        "type": "heatmap"
                      }
                    ],
                    "heatmapgl": [
                      {
                        "colorbar": {
                          "outlinewidth": 0,
                          "ticks": ""
                        },
                        "colorscale": [
                          [
                            0,
                            "#0d0887"
                          ],
                          [
                            0.1111111111111111,
                            "#46039f"
                          ],
                          [
                            0.2222222222222222,
                            "#7201a8"
                          ],
                          [
                            0.3333333333333333,
                            "#9c179e"
                          ],
                          [
                            0.4444444444444444,
                            "#bd3786"
                          ],
                          [
                            0.5555555555555556,
                            "#d8576b"
                          ],
                          [
                            0.6666666666666666,
                            "#ed7953"
                          ],
                          [
                            0.7777777777777778,
                            "#fb9f3a"
                          ],
                          [
                            0.8888888888888888,
                            "#fdca26"
                          ],
                          [
                            1,
                            "#f0f921"
                          ]
                        ],
                        "type": "heatmapgl"
                      }
                    ],
                    "histogram": [
                      {
                        "marker": {
                          "pattern": {
                            "fillmode": "overlay",
                            "size": 10,
                            "solidity": 0.2
                          }
                        },
                        "type": "histogram"
                      }
                    ],
                    "histogram2d": [
                      {
                        "colorbar": {
                          "outlinewidth": 0,
                          "ticks": ""
                        },
                        "colorscale": [
                          [
                            0,
                            "#0d0887"
                          ],
                          [
                            0.1111111111111111,
                            "#46039f"
                          ],
                          [
                            0.2222222222222222,
                            "#7201a8"
                          ],
                          [
                            0.3333333333333333,
                            "#9c179e"
                          ],
                          [
                            0.4444444444444444,
                            "#bd3786"
                          ],
                          [
                            0.5555555555555556,
                            "#d8576b"
                          ],
                          [
                            0.6666666666666666,
                            "#ed7953"
                          ],
                          [
                            0.7777777777777778,
                            "#fb9f3a"
                          ],
                          [
                            0.8888888888888888,
                            "#fdca26"
                          ],
                          [
                            1,
                            "#f0f921"
                          ]
                        ],
                        "type": "histogram2d"
                      }
                    ],
                    "histogram2dcontour": [
                      {
                        "colorbar": {
                          "outlinewidth": 0,
                          "ticks": ""
                        },
                        "colorscale": [
                          [
                            0,
                            "#0d0887"
                          ],
                          [
                            0.1111111111111111,
                            "#46039f"
                          ],
                          [
                            0.2222222222222222,
                            "#7201a8"
                          ],
                          [
                            0.3333333333333333,
                            "#9c179e"
                          ],
                          [
                            0.4444444444444444,
                            "#bd3786"
                          ],
                          [
                            0.5555555555555556,
                            "#d8576b"
                          ],
                          [
                            0.6666666666666666,
                            "#ed7953"
                          ],
                          [
                            0.7777777777777778,
                            "#fb9f3a"
                          ],
                          [
                            0.8888888888888888,
                            "#fdca26"
                          ],
                          [
                            1,
                            "#f0f921"
                          ]
                        ],
                        "type": "histogram2dcontour"
                      }
                    ],
                    "mesh3d": [
                      {
                        "colorbar": {
                          "outlinewidth": 0,
                          "ticks": ""
                        },
                        "type": "mesh3d"
                      }
                    ],
                    "parcoords": [
                      {
                        "line": {
                          "colorbar": {
                            "outlinewidth": 0,
                            "ticks": ""
                          }
                        },
                        "type": "parcoords"
                      }
                    ],
                    "pie": [
                      {
                        "automargin": true,
                        "type": "pie"
                      }
                    ],
                    "scatter": [
                      {
                        "fillpattern": {
                          "fillmode": "overlay",
                          "size": 10,
                          "solidity": 0.2
                        },
                        "type": "scatter"
                      }
                    ],
                    "scatter3d": [
                      {
                        "line": {
                          "colorbar": {
                            "outlinewidth": 0,
                            "ticks": ""
                          }
                        },
                        "marker": {
                          "colorbar": {
                            "outlinewidth": 0,
                            "ticks": ""
                          }
                        },
                        "type": "scatter3d"
                      }
                    ],
                    "scattercarpet": [
                      {
                        "marker": {
                          "colorbar": {
                            "outlinewidth": 0,
                            "ticks": ""
                          }
                        },
                        "type": "scattercarpet"
                      }
                    ],
                    "scattergeo": [
                      {
                        "marker": {
                          "colorbar": {
                            "outlinewidth": 0,
                            "ticks": ""
                          }
                        },
                        "type": "scattergeo"
                      }
                    ],
                    "scattergl": [
                      {
                        "marker": {
                          "colorbar": {
                            "outlinewidth": 0,
                            "ticks": ""
                          }
                        },
                        "type": "scattergl"
                      }
                    ],
                    "scattermapbox": [
                      {
                        "marker": {
                          "colorbar": {
                            "outlinewidth": 0,
                            "ticks": ""
                          }
                        },
                        "type": "scattermapbox"
                      }
                    ],
                    "scatterpolar": [
                      {
                        "marker": {
                          "colorbar": {
                            "outlinewidth": 0,
                            "ticks": ""
                          }
                        },
                        "type": "scatterpolar"
                      }
                    ],
                    "scatterpolargl": [
                      {
                        "marker": {
                          "colorbar": {
                            "outlinewidth": 0,
                            "ticks": ""
                          }
                        },
                        "type": "scatterpolargl"
                      }
                    ],
                    "scatterternary": [
                      {
                        "marker": {
                          "colorbar": {
                            "outlinewidth": 0,
                            "ticks": ""
                          }
                        },
                        "type": "scatterternary"
                      }
                    ],
                    "surface": [
                      {
                        "colorbar": {
                          "outlinewidth": 0,
                          "ticks": ""
                        },
                        "colorscale": [
                          [
                            0,
                            "#0d0887"
                          ],
                          [
                            0.1111111111111111,
                            "#46039f"
                          ],
                          [
                            0.2222222222222222,
                            "#7201a8"
                          ],
                          [
                            0.3333333333333333,
                            "#9c179e"
                          ],
                          [
                            0.4444444444444444,
                            "#bd3786"
                          ],
                          [
                            0.5555555555555556,
                            "#d8576b"
                          ],
                          [
                            0.6666666666666666,
                            "#ed7953"
                          ],
                          [
                            0.7777777777777778,
                            "#fb9f3a"
                          ],
                          [
                            0.8888888888888888,
                            "#fdca26"
                          ],
                          [
                            1,
                            "#f0f921"
                          ]
                        ],
                        "type": "surface"
                      }
                    ],
                    "table": [
                      {
                        "cells": {
                          "fill": {
                            "color": "#EBF0F8"
                          },
                          "line": {
                            "color": "white"
                          }
                        },
                        "header": {
                          "fill": {
                            "color": "#C8D4E3"
                          },
                          "line": {
                            "color": "white"
                          }
                        },
                        "type": "table"
                      }
                    ]
                  },
                  "layout": {
                    "annotationdefaults": {
                      "arrowcolor": "#2a3f5f",
                      "arrowhead": 0,
                      "arrowwidth": 1
                    },
                    "autotypenumbers": "strict",
                    "coloraxis": {
                      "colorbar": {
                        "outlinewidth": 0,
                        "ticks": ""
                      }
                    },
                    "colorscale": {
                      "diverging": [
                        [
                          0,
                          "#8e0152"
                        ],
                        [
                          0.1,
                          "#c51b7d"
                        ],
                        [
                          0.2,
                          "#de77ae"
                        ],
                        [
                          0.3,
                          "#f1b6da"
                        ],
                        [
                          0.4,
                          "#fde0ef"
                        ],
                        [
                          0.5,
                          "#f7f7f7"
                        ],
                        [
                          0.6,
                          "#e6f5d0"
                        ],
                        [
                          0.7,
                          "#b8e186"
                        ],
                        [
                          0.8,
                          "#7fbc41"
                        ],
                        [
                          0.9,
                          "#4d9221"
                        ],
                        [
                          1,
                          "#276419"
                        ]
                      ],
                      "sequential": [
                        [
                          0,
                          "#0d0887"
                        ],
                        [
                          0.1111111111111111,
                          "#46039f"
                        ],
                        [
                          0.2222222222222222,
                          "#7201a8"
                        ],
                        [
                          0.3333333333333333,
                          "#9c179e"
                        ],
                        [
                          0.4444444444444444,
                          "#bd3786"
                        ],
                        [
                          0.5555555555555556,
                          "#d8576b"
                        ],
                        [
                          0.6666666666666666,
                          "#ed7953"
                        ],
                        [
                          0.7777777777777778,
                          "#fb9f3a"
                        ],
                        [
                          0.8888888888888888,
                          "#fdca26"
                        ],
                        [
                          1,
                          "#f0f921"
                        ]
                      ],
                      "sequentialminus": [
                        [
                          0,
                          "#0d0887"
                        ],
                        [
                          0.1111111111111111,
                          "#46039f"
                        ],
                        [
                          0.2222222222222222,
                          "#7201a8"
                        ],
                        [
                          0.3333333333333333,
                          "#9c179e"
                        ],
                        [
                          0.4444444444444444,
                          "#bd3786"
                        ],
                        [
                          0.5555555555555556,
                          "#d8576b"
                        ],
                        [
                          0.6666666666666666,
                          "#ed7953"
                        ],
                        [
                          0.7777777777777778,
                          "#fb9f3a"
                        ],
                        [
                          0.8888888888888888,
                          "#fdca26"
                        ],
                        [
                          1,
                          "#f0f921"
                        ]
                      ]
                    },
                    "colorway": [
                      "#636efa",
                      "#EF553B",
                      "#00cc96",
                      "#ab63fa",
                      "#FFA15A",
                      "#19d3f3",
                      "#FF6692",
                      "#B6E880",
                      "#FF97FF",
                      "#FECB52"
                    ],
                    "font": {
                      "color": "#2a3f5f"
                    },
                    "geo": {
                      "bgcolor": "white",
                      "lakecolor": "white",
                      "landcolor": "#E5ECF6",
                      "showlakes": true,
                      "showland": true,
                      "subunitcolor": "white"
                    },
                    "hoverlabel": {
                      "align": "left"
                    },
                    "hovermode": "closest",
                    "mapbox": {
                      "style": "light"
                    },
                    "paper_bgcolor": "white",
                    "plot_bgcolor": "#E5ECF6",
                    "polar": {
                      "angularaxis": {
                        "gridcolor": "white",
                        "linecolor": "white",
                        "ticks": ""
                      },
                      "bgcolor": "#E5ECF6",
                      "radialaxis": {
                        "gridcolor": "white",
                        "linecolor": "white",
                        "ticks": ""
                      }
                    },
                    "scene": {
                      "xaxis": {
                        "backgroundcolor": "#E5ECF6",
                        "gridcolor": "white",
                        "gridwidth": 2,
                        "linecolor": "white",
                        "showbackground": true,
                        "ticks": "",
                        "zerolinecolor": "white"
                      },
                      "yaxis": {
                        "backgroundcolor": "#E5ECF6",
                        "gridcolor": "white",
                        "gridwidth": 2,
                        "linecolor": "white",
                        "showbackground": true,
                        "ticks": "",
                        "zerolinecolor": "white"
                      },
                      "zaxis": {
                        "backgroundcolor": "#E5ECF6",
                        "gridcolor": "white",
                        "gridwidth": 2,
                        "linecolor": "white",
                        "showbackground": true,
                        "ticks": "",
                        "zerolinecolor": "white"
                      }
                    },
                    "shapedefaults": {
                      "line": {
                        "color": "#2a3f5f"
                      }
                    },
                    "ternary": {
                      "aaxis": {
                        "gridcolor": "white",
                        "linecolor": "white",
                        "ticks": ""
                      },
                      "baxis": {
                        "gridcolor": "white",
                        "linecolor": "white",
                        "ticks": ""
                      },
                      "bgcolor": "#E5ECF6",
                      "caxis": {
                        "gridcolor": "white",
                        "linecolor": "white",
                        "ticks": ""
                      }
                    },
                    "title": {
                      "x": 0.05
                    },
                    "xaxis": {
                      "automargin": true,
                      "gridcolor": "white",
                      "linecolor": "white",
                      "ticks": "",
                      "title": {
                        "standoff": 15
                      },
                      "zerolinecolor": "white",
                      "zerolinewidth": 2
                    },
                    "yaxis": {
                      "automargin": true,
                      "gridcolor": "white",
                      "linecolor": "white",
                      "ticks": "",
                      "title": {
                        "standoff": 15
                      },
                      "zerolinecolor": "white",
                      "zerolinewidth": 2
                    }
                  }
                },
                "title": {
                  "text": "Age Composition of Indigents Between 1900 and 2020"
                }
              }
            }
          },
          "metadata": {},
          "output_type": "display_data"
        }
      ],
      "source": [
        "fig = px.pie(age_df, values=age_df[0], names=['Infant', 'Child', 'Adolescent', 'Adult', 'Elder'], color_discrete_sequence=px.colors.sequential.RdBu)\n",
        "fig.update_layout(title=\"Age Composition of Indigents Between 1900 and 2020\")\n",
        "fig.show()"
      ]
    },
    {
      "cell_type": "code",
      "execution_count": 21,
      "metadata": {
        "colab": {
          "base_uri": "https://localhost:8080/"
        },
        "id": "DU53zJy5Vg2y",
        "outputId": "73f26228-0855-4e17-d02d-3bbcaaf5c5cc"
      },
      "outputs": [
        {
          "name": "stdout",
          "output_type": "stream",
          "text": [
            "Sex divisions are as follows: \n",
            "Male: 15405\n",
            "Female: 4391\n",
            "Unknown: 99036\n",
            "Total: 118832\n",
            "\n",
            "\n"
          ]
        }
      ],
      "source": [
        "# Sex Analysis\n",
        "sex_group = df['Sex']\n",
        "male_count, female_count, unk_count, total_count = (0, 0, 0, 0)\n",
        "for group in sex_group:\n",
        "    group = str(group)\n",
        "    total_count += 1\n",
        "    if \"M\" == group or \"Male\" == group:\n",
        "        male_count += 1\n",
        "    elif \"F\" == group or \"Female\" == group:\n",
        "        female_count += 1\n",
        "    else:\n",
        "        unk_count += 1\n",
        "\n",
        "sex_group_dict = {\n",
        "    \"Male\": male_count,\n",
        "    \"Female\": female_count,\n",
        "    \"Unknown\": unk_count,\n",
        "    \"Total\": total_count\n",
        "}\n",
        "\n",
        "print(\"Sex divisions are as follows: \")\n",
        "for key, val in sex_group_dict.items():\n",
        "    print(key + \": \" + str(val))\n",
        "print(\"\\n\")"
      ]
    },
    {
      "cell_type": "code",
      "execution_count": null,
      "metadata": {},
      "outputs": [],
      "source": []
    },
    {
      "cell_type": "code",
      "execution_count": 22,
      "metadata": {
        "colab": {
          "base_uri": "https://localhost:8080/",
          "height": 143
        },
        "id": "QdlYxIGots_W",
        "outputId": "1d8901a9-7a9c-443b-c74e-fb3b5bfd5b09"
      },
      "outputs": [
        {
          "data": {
            "text/html": [
              "<div>\n",
              "<style scoped>\n",
              "    .dataframe tbody tr th:only-of-type {\n",
              "        vertical-align: middle;\n",
              "    }\n",
              "\n",
              "    .dataframe tbody tr th {\n",
              "        vertical-align: top;\n",
              "    }\n",
              "\n",
              "    .dataframe thead th {\n",
              "        text-align: right;\n",
              "    }\n",
              "</style>\n",
              "<table border=\"1\" class=\"dataframe\">\n",
              "  <thead>\n",
              "    <tr style=\"text-align: right;\">\n",
              "      <th></th>\n",
              "      <th>0</th>\n",
              "    </tr>\n",
              "  </thead>\n",
              "  <tbody>\n",
              "    <tr>\n",
              "      <th>Male</th>\n",
              "      <td>15405</td>\n",
              "    </tr>\n",
              "    <tr>\n",
              "      <th>Female</th>\n",
              "      <td>4391</td>\n",
              "    </tr>\n",
              "    <tr>\n",
              "      <th>Unknown</th>\n",
              "      <td>99036</td>\n",
              "    </tr>\n",
              "  </tbody>\n",
              "</table>\n",
              "</div>"
            ],
            "text/plain": [
              "             0\n",
              "Male     15405\n",
              "Female    4391\n",
              "Unknown  99036"
            ]
          },
          "execution_count": 22,
          "metadata": {},
          "output_type": "execute_result"
        }
      ],
      "source": [
        "sex_df = pd.DataFrame.from_dict(sex_group_dict, orient = 'index')\n",
        "#sex_df.columns = ['Count']\n",
        "sex_df = sex_df[:-1]\n",
        "sex_df"
      ]
    },
    {
      "cell_type": "code",
      "execution_count": null,
      "metadata": {},
      "outputs": [],
      "source": []
    },
    {
      "cell_type": "code",
      "execution_count": 23,
      "metadata": {
        "colab": {
          "base_uri": "https://localhost:8080/",
          "height": 664
        },
        "id": "CRPsSWaftxjX",
        "outputId": "d8022a1d-e240-4866-b808-74ee1cb1ec67"
      },
      "outputs": [
        {
          "data": {
            "text/plain": [
              "Text(0, 0.5, '')"
            ]
          },
          "execution_count": 23,
          "metadata": {},
          "output_type": "execute_result"
        },
        {
          "data": {
            "image/png": "[encoded data removed]",
            "text/plain": [
              "<Figure size 2160x720 with 1 Axes>"
            ]
          },
          "metadata": {},
          "output_type": "display_data"
        }
      ],
      "source": [
        "sex_plot = sex_df.plot.pie(subplots=True, figsize=(30, 10), title = \"Sex Composition of Indigents Between 1900 and 2020\", autopct='%1.1f%%')\n",
        "pylab.ylabel('')"
      ]
    },
    {
      "cell_type": "code",
      "execution_count": 24,
      "metadata": {
        "colab": {
          "base_uri": "https://localhost:8080/",
          "height": 542
        },
        "id": "-2g-VTIWxshx",
        "outputId": "bbe11550-4c30-49d8-b825-c30227149898"
      },
      "outputs": [
        {
          "data": {
            "application/vnd.plotly.v1+json": {
              "config": {
                "plotlyServerURL": "https://plot.ly"
              },
              "data": [
                {
                  "domain": {
                    "x": [
                      0,
                      1
                    ],
                    "y": [
                      0,
                      1
                    ]
                  },
                  "hovertemplate": "label=%{label}<br>0=%{value}<extra></extra>",
                  "labels": [
                    "Male",
                    "Female",
                    "Unknown"
                  ],
                  "legendgroup": "",
                  "name": "",
                  "showlegend": true,
                  "type": "pie",
                  "values": [
                    15405,
                    4391,
                    99036
                  ]
                }
              ],
              "layout": {
                "legend": {
                  "tracegroupgap": 0
                },
                "margin": {
                  "t": 60
                },
                "piecolorway": [
                  "rgb(103,0,31)",
                  "rgb(178,24,43)",
                  "rgb(214,96,77)",
                  "rgb(244,165,130)",
                  "rgb(253,219,199)",
                  "rgb(247,247,247)",
                  "rgb(209,229,240)",
                  "rgb(146,197,222)",
                  "rgb(67,147,195)",
                  "rgb(33,102,172)",
                  "rgb(5,48,97)"
                ],
                "template": {
                  "data": {
                    "bar": [
                      {
                        "error_x": {
                          "color": "#2a3f5f"
                        },
                        "error_y": {
                          "color": "#2a3f5f"
                        },
                        "marker": {
                          "line": {
                            "color": "#E5ECF6",
                            "width": 0.5
                          },
                          "pattern": {
                            "fillmode": "overlay",
                            "size": 10,
                            "solidity": 0.2
                          }
                        },
                        "type": "bar"
                      }
                    ],
                    "barpolar": [
                      {
                        "marker": {
                          "line": {
                            "color": "#E5ECF6",
                            "width": 0.5
                          },
                          "pattern": {
                            "fillmode": "overlay",
                            "size": 10,
                            "solidity": 0.2
                          }
                        },
                        "type": "barpolar"
                      }
                    ],
                    "carpet": [
                      {
                        "aaxis": {
                          "endlinecolor": "#2a3f5f",
                          "gridcolor": "white",
                          "linecolor": "white",
                          "minorgridcolor": "white",
                          "startlinecolor": "#2a3f5f"
                        },
                        "baxis": {
                          "endlinecolor": "#2a3f5f",
                          "gridcolor": "white",
                          "linecolor": "white",
                          "minorgridcolor": "white",
                          "startlinecolor": "#2a3f5f"
                        },
                        "type": "carpet"
                      }
                    ],
                    "choropleth": [
                      {
                        "colorbar": {
                          "outlinewidth": 0,
                          "ticks": ""
                        },
                        "type": "choropleth"
                      }
                    ],
                    "contour": [
                      {
                        "colorbar": {
                          "outlinewidth": 0,
                          "ticks": ""
                        },
                        "colorscale": [
                          [
                            0,
                            "#0d0887"
                          ],
                          [
                            0.1111111111111111,
                            "#46039f"
                          ],
                          [
                            0.2222222222222222,
                            "#7201a8"
                          ],
                          [
                            0.3333333333333333,
                            "#9c179e"
                          ],
                          [
                            0.4444444444444444,
                            "#bd3786"
                          ],
                          [
                            0.5555555555555556,
                            "#d8576b"
                          ],
                          [
                            0.6666666666666666,
                            "#ed7953"
                          ],
                          [
                            0.7777777777777778,
                            "#fb9f3a"
                          ],
                          [
                            0.8888888888888888,
                            "#fdca26"
                          ],
                          [
                            1,
                            "#f0f921"
                          ]
                        ],
                        "type": "contour"
                      }
                    ],
                    "contourcarpet": [
                      {
                        "colorbar": {
                          "outlinewidth": 0,
                          "ticks": ""
                        },
                        "type": "contourcarpet"
                      }
                    ],
                    "heatmap": [
                      {
                        "colorbar": {
                          "outlinewidth": 0,
                          "ticks": ""
                        },
                        "colorscale": [
                          [
                            0,
                            "#0d0887"
                          ],
                          [
                            0.1111111111111111,
                            "#46039f"
                          ],
                          [
                            0.2222222222222222,
                            "#7201a8"
                          ],
                          [
                            0.3333333333333333,
                            "#9c179e"
                          ],
                          [
                            0.4444444444444444,
                            "#bd3786"
                          ],
                          [
                            0.5555555555555556,
                            "#d8576b"
                          ],
                          [
                            0.6666666666666666,
                            "#ed7953"
                          ],
                          [
                            0.7777777777777778,
                            "#fb9f3a"
                          ],
                          [
                            0.8888888888888888,
                            "#fdca26"
                          ],
                          [
                            1,
                            "#f0f921"
                          ]
                        ],
                        "type": "heatmap"
                      }
                    ],
                    "heatmapgl": [
                      {
                        "colorbar": {
                          "outlinewidth": 0,
                          "ticks": ""
                        },
                        "colorscale": [
                          [
                            0,
                            "#0d0887"
                          ],
                          [
                            0.1111111111111111,
                            "#46039f"
                          ],
                          [
                            0.2222222222222222,
                            "#7201a8"
                          ],
                          [
                            0.3333333333333333,
                            "#9c179e"
                          ],
                          [
                            0.4444444444444444,
                            "#bd3786"
                          ],
                          [
                            0.5555555555555556,
                            "#d8576b"
                          ],
                          [
                            0.6666666666666666,
                            "#ed7953"
                          ],
                          [
                            0.7777777777777778,
                            "#fb9f3a"
                          ],
                          [
                            0.8888888888888888,
                            "#fdca26"
                          ],
                          [
                            1,
                            "#f0f921"
                          ]
                        ],
                        "type": "heatmapgl"
                      }
                    ],
                    "histogram": [
                      {
                        "marker": {
                          "pattern": {
                            "fillmode": "overlay",
                            "size": 10,
                            "solidity": 0.2
                          }
                        },
                        "type": "histogram"
                      }
                    ],
                    "histogram2d": [
                      {
                        "colorbar": {
                          "outlinewidth": 0,
                          "ticks": ""
                        },
                        "colorscale": [
                          [
                            0,
                            "#0d0887"
                          ],
                          [
                            0.1111111111111111,
                            "#46039f"
                          ],
                          [
                            0.2222222222222222,
                            "#7201a8"
                          ],
                          [
                            0.3333333333333333,
                            "#9c179e"
                          ],
                          [
                            0.4444444444444444,
                            "#bd3786"
                          ],
                          [
                            0.5555555555555556,
                            "#d8576b"
                          ],
                          [
                            0.6666666666666666,
                            "#ed7953"
                          ],
                          [
                            0.7777777777777778,
                            "#fb9f3a"
                          ],
                          [
                            0.8888888888888888,
                            "#fdca26"
                          ],
                          [
                            1,
                            "#f0f921"
                          ]
                        ],
                        "type": "histogram2d"
                      }
                    ],
                    "histogram2dcontour": [
                      {
                        "colorbar": {
                          "outlinewidth": 0,
                          "ticks": ""
                        },
                        "colorscale": [
                          [
                            0,
                            "#0d0887"
                          ],
                          [
                            0.1111111111111111,
                            "#46039f"
                          ],
                          [
                            0.2222222222222222,
                            "#7201a8"
                          ],
                          [
                            0.3333333333333333,
                            "#9c179e"
                          ],
                          [
                            0.4444444444444444,
                            "#bd3786"
                          ],
                          [
                            0.5555555555555556,
                            "#d8576b"
                          ],
                          [
                            0.6666666666666666,
                            "#ed7953"
                          ],
                          [
                            0.7777777777777778,
                            "#fb9f3a"
                          ],
                          [
                            0.8888888888888888,
                            "#fdca26"
                          ],
                          [
                            1,
                            "#f0f921"
                          ]
                        ],
                        "type": "histogram2dcontour"
                      }
                    ],
                    "mesh3d": [
                      {
                        "colorbar": {
                          "outlinewidth": 0,
                          "ticks": ""
                        },
                        "type": "mesh3d"
                      }
                    ],
                    "parcoords": [
                      {
                        "line": {
                          "colorbar": {
                            "outlinewidth": 0,
                            "ticks": ""
                          }
                        },
                        "type": "parcoords"
                      }
                    ],
                    "pie": [
                      {
                        "automargin": true,
                        "type": "pie"
                      }
                    ],
                    "scatter": [
                      {
                        "fillpattern": {
                          "fillmode": "overlay",
                          "size": 10,
                          "solidity": 0.2
                        },
                        "type": "scatter"
                      }
                    ],
                    "scatter3d": [
                      {
                        "line": {
                          "colorbar": {
                            "outlinewidth": 0,
                            "ticks": ""
                          }
                        },
                        "marker": {
                          "colorbar": {
                            "outlinewidth": 0,
                            "ticks": ""
                          }
                        },
                        "type": "scatter3d"
                      }
                    ],
                    "scattercarpet": [
                      {
                        "marker": {
                          "colorbar": {
                            "outlinewidth": 0,
                            "ticks": ""
                          }
                        },
                        "type": "scattercarpet"
                      }
                    ],
                    "scattergeo": [
                      {
                        "marker": {
                          "colorbar": {
                            "outlinewidth": 0,
                            "ticks": ""
                          }
                        },
                        "type": "scattergeo"
                      }
                    ],
                    "scattergl": [
                      {
                        "marker": {
                          "colorbar": {
                            "outlinewidth": 0,
                            "ticks": ""
                          }
                        },
                        "type": "scattergl"
                      }
                    ],
                    "scattermapbox": [
                      {
                        "marker": {
                          "colorbar": {
                            "outlinewidth": 0,
                            "ticks": ""
                          }
                        },
                        "type": "scattermapbox"
                      }
                    ],
                    "scatterpolar": [
                      {
                        "marker": {
                          "colorbar": {
                            "outlinewidth": 0,
                            "ticks": ""
                          }
                        },
                        "type": "scatterpolar"
                      }
                    ],
                    "scatterpolargl": [
                      {
                        "marker": {
                          "colorbar": {
                            "outlinewidth": 0,
                            "ticks": ""
                          }
                        },
                        "type": "scatterpolargl"
                      }
                    ],
                    "scatterternary": [
                      {
                        "marker": {
                          "colorbar": {
                            "outlinewidth": 0,
                            "ticks": ""
                          }
                        },
                        "type": "scatterternary"
                      }
                    ],
                    "surface": [
                      {
                        "colorbar": {
                          "outlinewidth": 0,
                          "ticks": ""
                        },
                        "colorscale": [
                          [
                            0,
                            "#0d0887"
                          ],
                          [
                            0.1111111111111111,
                            "#46039f"
                          ],
                          [
                            0.2222222222222222,
                            "#7201a8"
                          ],
                          [
                            0.3333333333333333,
                            "#9c179e"
                          ],
                          [
                            0.4444444444444444,
                            "#bd3786"
                          ],
                          [
                            0.5555555555555556,
                            "#d8576b"
                          ],
                          [
                            0.6666666666666666,
                            "#ed7953"
                          ],
                          [
                            0.7777777777777778,
                            "#fb9f3a"
                          ],
                          [
                            0.8888888888888888,
                            "#fdca26"
                          ],
                          [
                            1,
                            "#f0f921"
                          ]
                        ],
                        "type": "surface"
                      }
                    ],
                    "table": [
                      {
                        "cells": {
                          "fill": {
                            "color": "#EBF0F8"
                          },
                          "line": {
                            "color": "white"
                          }
                        },
                        "header": {
                          "fill": {
                            "color": "#C8D4E3"
                          },
                          "line": {
                            "color": "white"
                          }
                        },
                        "type": "table"
                      }
                    ]
                  },
                  "layout": {
                    "annotationdefaults": {
                      "arrowcolor": "#2a3f5f",
                      "arrowhead": 0,
                      "arrowwidth": 1
                    },
                    "autotypenumbers": "strict",
                    "coloraxis": {
                      "colorbar": {
                        "outlinewidth": 0,
                        "ticks": ""
                      }
                    },
                    "colorscale": {
                      "diverging": [
                        [
                          0,
                          "#8e0152"
                        ],
                        [
                          0.1,
                          "#c51b7d"
                        ],
                        [
                          0.2,
                          "#de77ae"
                        ],
                        [
                          0.3,
                          "#f1b6da"
                        ],
                        [
                          0.4,
                          "#fde0ef"
                        ],
                        [
                          0.5,
                          "#f7f7f7"
                        ],
                        [
                          0.6,
                          "#e6f5d0"
                        ],
                        [
                          0.7,
                          "#b8e186"
                        ],
                        [
                          0.8,
                          "#7fbc41"
                        ],
                        [
                          0.9,
                          "#4d9221"
                        ],
                        [
                          1,
                          "#276419"
                        ]
                      ],
                      "sequential": [
                        [
                          0,
                          "#0d0887"
                        ],
                        [
                          0.1111111111111111,
                          "#46039f"
                        ],
                        [
                          0.2222222222222222,
                          "#7201a8"
                        ],
                        [
                          0.3333333333333333,
                          "#9c179e"
                        ],
                        [
                          0.4444444444444444,
                          "#bd3786"
                        ],
                        [
                          0.5555555555555556,
                          "#d8576b"
                        ],
                        [
                          0.6666666666666666,
                          "#ed7953"
                        ],
                        [
                          0.7777777777777778,
                          "#fb9f3a"
                        ],
                        [
                          0.8888888888888888,
                          "#fdca26"
                        ],
                        [
                          1,
                          "#f0f921"
                        ]
                      ],
                      "sequentialminus": [
                        [
                          0,
                          "#0d0887"
                        ],
                        [
                          0.1111111111111111,
                          "#46039f"
                        ],
                        [
                          0.2222222222222222,
                          "#7201a8"
                        ],
                        [
                          0.3333333333333333,
                          "#9c179e"
                        ],
                        [
                          0.4444444444444444,
                          "#bd3786"
                        ],
                        [
                          0.5555555555555556,
                          "#d8576b"
                        ],
                        [
                          0.6666666666666666,
                          "#ed7953"
                        ],
                        [
                          0.7777777777777778,
                          "#fb9f3a"
                        ],
                        [
                          0.8888888888888888,
                          "#fdca26"
                        ],
                        [
                          1,
                          "#f0f921"
                        ]
                      ]
                    },
                    "colorway": [
                      "#636efa",
                      "#EF553B",
                      "#00cc96",
                      "#ab63fa",
                      "#FFA15A",
                      "#19d3f3",
                      "#FF6692",
                      "#B6E880",
                      "#FF97FF",
                      "#FECB52"
                    ],
                    "font": {
                      "color": "#2a3f5f"
                    },
                    "geo": {
                      "bgcolor": "white",
                      "lakecolor": "white",
                      "landcolor": "#E5ECF6",
                      "showlakes": true,
                      "showland": true,
                      "subunitcolor": "white"
                    },
                    "hoverlabel": {
                      "align": "left"
                    },
                    "hovermode": "closest",
                    "mapbox": {
                      "style": "light"
                    },
                    "paper_bgcolor": "white",
                    "plot_bgcolor": "#E5ECF6",
                    "polar": {
                      "angularaxis": {
                        "gridcolor": "white",
                        "linecolor": "white",
                        "ticks": ""
                      },
                      "bgcolor": "#E5ECF6",
                      "radialaxis": {
                        "gridcolor": "white",
                        "linecolor": "white",
                        "ticks": ""
                      }
                    },
                    "scene": {
                      "xaxis": {
                        "backgroundcolor": "#E5ECF6",
                        "gridcolor": "white",
                        "gridwidth": 2,
                        "linecolor": "white",
                        "showbackground": true,
                        "ticks": "",
                        "zerolinecolor": "white"
                      },
                      "yaxis": {
                        "backgroundcolor": "#E5ECF6",
                        "gridcolor": "white",
                        "gridwidth": 2,
                        "linecolor": "white",
                        "showbackground": true,
                        "ticks": "",
                        "zerolinecolor": "white"
                      },
                      "zaxis": {
                        "backgroundcolor": "#E5ECF6",
                        "gridcolor": "white",
                        "gridwidth": 2,
                        "linecolor": "white",
                        "showbackground": true,
                        "ticks": "",
                        "zerolinecolor": "white"
                      }
                    },
                    "shapedefaults": {
                      "line": {
                        "color": "#2a3f5f"
                      }
                    },
                    "ternary": {
                      "aaxis": {
                        "gridcolor": "white",
                        "linecolor": "white",
                        "ticks": ""
                      },
                      "baxis": {
                        "gridcolor": "white",
                        "linecolor": "white",
                        "ticks": ""
                      },
                      "bgcolor": "#E5ECF6",
                      "caxis": {
                        "gridcolor": "white",
                        "linecolor": "white",
                        "ticks": ""
                      }
                    },
                    "title": {
                      "x": 0.05
                    },
                    "xaxis": {
                      "automargin": true,
                      "gridcolor": "white",
                      "linecolor": "white",
                      "ticks": "",
                      "title": {
                        "standoff": 15
                      },
                      "zerolinecolor": "white",
                      "zerolinewidth": 2
                    },
                    "yaxis": {
                      "automargin": true,
                      "gridcolor": "white",
                      "linecolor": "white",
                      "ticks": "",
                      "title": {
                        "standoff": 15
                      },
                      "zerolinecolor": "white",
                      "zerolinewidth": 2
                    }
                  }
                },
                "title": {
                  "text": "Sex Composition of Indigents Between 1900 and 2020"
                }
              }
            }
          },
          "metadata": {},
          "output_type": "display_data"
        }
      ],
      "source": [
        "fig = px.pie(sex_df, values=sex_df[0], names=['Male', 'Female', 'Unknown'], color_discrete_sequence=px.colors.sequential.RdBu)\n",
        "fig.update_layout(title=\"Sex Composition of Indigents Between 1900 and 2020\")\n",
        "fig.show()"
      ]
    },
    {
      "cell_type": "code",
      "execution_count": null,
      "metadata": {},
      "outputs": [],
      "source": []
    },
    {
      "cell_type": "code",
      "execution_count": 25,
      "metadata": {
        "colab": {
          "base_uri": "https://localhost:8080/",
          "height": 112
        },
        "id": "Y-4TjAQUt3sW",
        "outputId": "6ccd2615-3107-43d7-d118-71fb70539a7c"
      },
      "outputs": [
        {
          "data": {
            "text/html": [
              "<div>\n",
              "<style scoped>\n",
              "    .dataframe tbody tr th:only-of-type {\n",
              "        vertical-align: middle;\n",
              "    }\n",
              "\n",
              "    .dataframe tbody tr th {\n",
              "        vertical-align: top;\n",
              "    }\n",
              "\n",
              "    .dataframe thead th {\n",
              "        text-align: right;\n",
              "    }\n",
              "</style>\n",
              "<table border=\"1\" class=\"dataframe\">\n",
              "  <thead>\n",
              "    <tr style=\"text-align: right;\">\n",
              "      <th></th>\n",
              "      <th>0</th>\n",
              "    </tr>\n",
              "  </thead>\n",
              "  <tbody>\n",
              "    <tr>\n",
              "      <th>Male</th>\n",
              "      <td>15405</td>\n",
              "    </tr>\n",
              "    <tr>\n",
              "      <th>Female</th>\n",
              "      <td>4391</td>\n",
              "    </tr>\n",
              "  </tbody>\n",
              "</table>\n",
              "</div>"
            ],
            "text/plain": [
              "            0\n",
              "Male    15405\n",
              "Female   4391"
            ]
          },
          "execution_count": 25,
          "metadata": {},
          "output_type": "execute_result"
        }
      ],
      "source": [
        "# If we exclude the unknown ...\n",
        "sex_df = pd.DataFrame.from_dict(sex_group_dict, orient = 'index')\n",
        "#sex_df.columns = ['Count']\n",
        "sex_df = sex_df[:-2] # exclude Total Count and Unknown Count from dataframe\n",
        "sex_df"
      ]
    },
    {
      "cell_type": "code",
      "execution_count": 26,
      "metadata": {
        "colab": {
          "base_uri": "https://localhost:8080/",
          "height": 664
        },
        "id": "Tt2QfZBauAkQ",
        "outputId": "13d5b1c9-8719-4d7f-da55-fb564d3045ae"
      },
      "outputs": [
        {
          "data": {
            "text/plain": [
              "Text(0, 0.5, '')"
            ]
          },
          "execution_count": 26,
          "metadata": {},
          "output_type": "execute_result"
        },
        {
          "data": {
            "image/png": "[encoded data removed]",
            "text/plain": [
              "<Figure size 2160x720 with 1 Axes>"
            ]
          },
          "metadata": {},
          "output_type": "display_data"
        }
      ],
      "source": [
        "sex_plot = sex_df.plot.pie(subplots=True, figsize=(30, 10), title = \"Sex Composition of Indigents Between 1900 and 2022\", autopct='%1.1f%%')\n",
        "pylab.ylabel('')"
      ]
    },
    {
      "cell_type": "code",
      "execution_count": 27,
      "metadata": {
        "colab": {
          "base_uri": "https://localhost:8080/",
          "height": 542
        },
        "id": "arDL9EIWxIX7",
        "outputId": "28830a8d-261a-4217-e8da-1b3e3263d5a1"
      },
      "outputs": [
        {
          "data": {
            "application/vnd.plotly.v1+json": {
              "config": {
                "plotlyServerURL": "https://plot.ly"
              },
              "data": [
                {
                  "domain": {
                    "x": [
                      0,
                      1
                    ],
                    "y": [
                      0,
                      1
                    ]
                  },
                  "hovertemplate": "label=%{label}<br>0=%{value}<extra></extra>",
                  "labels": [
                    "Male",
                    "Female"
                  ],
                  "legendgroup": "",
                  "name": "",
                  "showlegend": true,
                  "type": "pie",
                  "values": [
                    15405,
                    4391
                  ]
                }
              ],
              "layout": {
                "legend": {
                  "tracegroupgap": 0
                },
                "margin": {
                  "t": 60
                },
                "piecolorway": [
                  "rgb(103,0,31)",
                  "rgb(178,24,43)",
                  "rgb(214,96,77)",
                  "rgb(244,165,130)",
                  "rgb(253,219,199)",
                  "rgb(247,247,247)",
                  "rgb(209,229,240)",
                  "rgb(146,197,222)",
                  "rgb(67,147,195)",
                  "rgb(33,102,172)",
                  "rgb(5,48,97)"
                ],
                "template": {
                  "data": {
                    "bar": [
                      {
                        "error_x": {
                          "color": "#2a3f5f"
                        },
                        "error_y": {
                          "color": "#2a3f5f"
                        },
                        "marker": {
                          "line": {
                            "color": "#E5ECF6",
                            "width": 0.5
                          },
                          "pattern": {
                            "fillmode": "overlay",
                            "size": 10,
                            "solidity": 0.2
                          }
                        },
                        "type": "bar"
                      }
                    ],
                    "barpolar": [
                      {
                        "marker": {
                          "line": {
                            "color": "#E5ECF6",
                            "width": 0.5
                          },
                          "pattern": {
                            "fillmode": "overlay",
                            "size": 10,
                            "solidity": 0.2
                          }
                        },
                        "type": "barpolar"
                      }
                    ],
                    "carpet": [
                      {
                        "aaxis": {
                          "endlinecolor": "#2a3f5f",
                          "gridcolor": "white",
                          "linecolor": "white",
                          "minorgridcolor": "white",
                          "startlinecolor": "#2a3f5f"
                        },
                        "baxis": {
                          "endlinecolor": "#2a3f5f",
                          "gridcolor": "white",
                          "linecolor": "white",
                          "minorgridcolor": "white",
                          "startlinecolor": "#2a3f5f"
                        },
                        "type": "carpet"
                      }
                    ],
                    "choropleth": [
                      {
                        "colorbar": {
                          "outlinewidth": 0,
                          "ticks": ""
                        },
                        "type": "choropleth"
                      }
                    ],
                    "contour": [
                      {
                        "colorbar": {
                          "outlinewidth": 0,
                          "ticks": ""
                        },
                        "colorscale": [
                          [
                            0,
                            "#0d0887"
                          ],
                          [
                            0.1111111111111111,
                            "#46039f"
                          ],
                          [
                            0.2222222222222222,
                            "#7201a8"
                          ],
                          [
                            0.3333333333333333,
                            "#9c179e"
                          ],
                          [
                            0.4444444444444444,
                            "#bd3786"
                          ],
                          [
                            0.5555555555555556,
                            "#d8576b"
                          ],
                          [
                            0.6666666666666666,
                            "#ed7953"
                          ],
                          [
                            0.7777777777777778,
                            "#fb9f3a"
                          ],
                          [
                            0.8888888888888888,
                            "#fdca26"
                          ],
                          [
                            1,
                            "#f0f921"
                          ]
                        ],
                        "type": "contour"
                      }
                    ],
                    "contourcarpet": [
                      {
                        "colorbar": {
                          "outlinewidth": 0,
                          "ticks": ""
                        },
                        "type": "contourcarpet"
                      }
                    ],
                    "heatmap": [
                      {
                        "colorbar": {
                          "outlinewidth": 0,
                          "ticks": ""
                        },
                        "colorscale": [
                          [
                            0,
                            "#0d0887"
                          ],
                          [
                            0.1111111111111111,
                            "#46039f"
                          ],
                          [
                            0.2222222222222222,
                            "#7201a8"
                          ],
                          [
                            0.3333333333333333,
                            "#9c179e"
                          ],
                          [
                            0.4444444444444444,
                            "#bd3786"
                          ],
                          [
                            0.5555555555555556,
                            "#d8576b"
                          ],
                          [
                            0.6666666666666666,
                            "#ed7953"
                          ],
                          [
                            0.7777777777777778,
                            "#fb9f3a"
                          ],
                          [
                            0.8888888888888888,
                            "#fdca26"
                          ],
                          [
                            1,
                            "#f0f921"
                          ]
                        ],
                        "type": "heatmap"
                      }
                    ],
                    "heatmapgl": [
                      {
                        "colorbar": {
                          "outlinewidth": 0,
                          "ticks": ""
                        },
                        "colorscale": [
                          [
                            0,
                            "#0d0887"
                          ],
                          [
                            0.1111111111111111,
                            "#46039f"
                          ],
                          [
                            0.2222222222222222,
                            "#7201a8"
                          ],
                          [
                            0.3333333333333333,
                            "#9c179e"
                          ],
                          [
                            0.4444444444444444,
                            "#bd3786"
                          ],
                          [
                            0.5555555555555556,
                            "#d8576b"
                          ],
                          [
                            0.6666666666666666,
                            "#ed7953"
                          ],
                          [
                            0.7777777777777778,
                            "#fb9f3a"
                          ],
                          [
                            0.8888888888888888,
                            "#fdca26"
                          ],
                          [
                            1,
                            "#f0f921"
                          ]
                        ],
                        "type": "heatmapgl"
                      }
                    ],
                    "histogram": [
                      {
                        "marker": {
                          "pattern": {
                            "fillmode": "overlay",
                            "size": 10,
                            "solidity": 0.2
                          }
                        },
                        "type": "histogram"
                      }
                    ],
                    "histogram2d": [
                      {
                        "colorbar": {
                          "outlinewidth": 0,
                          "ticks": ""
                        },
                        "colorscale": [
                          [
                            0,
                            "#0d0887"
                          ],
                          [
                            0.1111111111111111,
                            "#46039f"
                          ],
                          [
                            0.2222222222222222,
                            "#7201a8"
                          ],
                          [
                            0.3333333333333333,
                            "#9c179e"
                          ],
                          [
                            0.4444444444444444,
                            "#bd3786"
                          ],
                          [
                            0.5555555555555556,
                            "#d8576b"
                          ],
                          [
                            0.6666666666666666,
                            "#ed7953"
                          ],
                          [
                            0.7777777777777778,
                            "#fb9f3a"
                          ],
                          [
                            0.8888888888888888,
                            "#fdca26"
                          ],
                          [
                            1,
                            "#f0f921"
                          ]
                        ],
                        "type": "histogram2d"
                      }
                    ],
                    "histogram2dcontour": [
                      {
                        "colorbar": {
                          "outlinewidth": 0,
                          "ticks": ""
                        },
                        "colorscale": [
                          [
                            0,
                            "#0d0887"
                          ],
                          [
                            0.1111111111111111,
                            "#46039f"
                          ],
                          [
                            0.2222222222222222,
                            "#7201a8"
                          ],
                          [
                            0.3333333333333333,
                            "#9c179e"
                          ],
                          [
                            0.4444444444444444,
                            "#bd3786"
                          ],
                          [
                            0.5555555555555556,
                            "#d8576b"
                          ],
                          [
                            0.6666666666666666,
                            "#ed7953"
                          ],
                          [
                            0.7777777777777778,
                            "#fb9f3a"
                          ],
                          [
                            0.8888888888888888,
                            "#fdca26"
                          ],
                          [
                            1,
                            "#f0f921"
                          ]
                        ],
                        "type": "histogram2dcontour"
                      }
                    ],
                    "mesh3d": [
                      {
                        "colorbar": {
                          "outlinewidth": 0,
                          "ticks": ""
                        },
                        "type": "mesh3d"
                      }
                    ],
                    "parcoords": [
                      {
                        "line": {
                          "colorbar": {
                            "outlinewidth": 0,
                            "ticks": ""
                          }
                        },
                        "type": "parcoords"
                      }
                    ],
                    "pie": [
                      {
                        "automargin": true,
                        "type": "pie"
                      }
                    ],
                    "scatter": [
                      {
                        "fillpattern": {
                          "fillmode": "overlay",
                          "size": 10,
                          "solidity": 0.2
                        },
                        "type": "scatter"
                      }
                    ],
                    "scatter3d": [
                      {
                        "line": {
                          "colorbar": {
                            "outlinewidth": 0,
                            "ticks": ""
                          }
                        },
                        "marker": {
                          "colorbar": {
                            "outlinewidth": 0,
                            "ticks": ""
                          }
                        },
                        "type": "scatter3d"
                      }
                    ],
                    "scattercarpet": [
                      {
                        "marker": {
                          "colorbar": {
                            "outlinewidth": 0,
                            "ticks": ""
                          }
                        },
                        "type": "scattercarpet"
                      }
                    ],
                    "scattergeo": [
                      {
                        "marker": {
                          "colorbar": {
                            "outlinewidth": 0,
                            "ticks": ""
                          }
                        },
                        "type": "scattergeo"
                      }
                    ],
                    "scattergl": [
                      {
                        "marker": {
                          "colorbar": {
                            "outlinewidth": 0,
                            "ticks": ""
                          }
                        },
                        "type": "scattergl"
                      }
                    ],
                    "scattermapbox": [
                      {
                        "marker": {
                          "colorbar": {
                            "outlinewidth": 0,
                            "ticks": ""
                          }
                        },
                        "type": "scattermapbox"
                      }
                    ],
                    "scatterpolar": [
                      {
                        "marker": {
                          "colorbar": {
                            "outlinewidth": 0,
                            "ticks": ""
                          }
                        },
                        "type": "scatterpolar"
                      }
                    ],
                    "scatterpolargl": [
                      {
                        "marker": {
                          "colorbar": {
                            "outlinewidth": 0,
                            "ticks": ""
                          }
                        },
                        "type": "scatterpolargl"
                      }
                    ],
                    "scatterternary": [
                      {
                        "marker": {
                          "colorbar": {
                            "outlinewidth": 0,
                            "ticks": ""
                          }
                        },
                        "type": "scatterternary"
                      }
                    ],
                    "surface": [
                      {
                        "colorbar": {
                          "outlinewidth": 0,
                          "ticks": ""
                        },
                        "colorscale": [
                          [
                            0,
                            "#0d0887"
                          ],
                          [
                            0.1111111111111111,
                            "#46039f"
                          ],
                          [
                            0.2222222222222222,
                            "#7201a8"
                          ],
                          [
                            0.3333333333333333,
                            "#9c179e"
                          ],
                          [
                            0.4444444444444444,
                            "#bd3786"
                          ],
                          [
                            0.5555555555555556,
                            "#d8576b"
                          ],
                          [
                            0.6666666666666666,
                            "#ed7953"
                          ],
                          [
                            0.7777777777777778,
                            "#fb9f3a"
                          ],
                          [
                            0.8888888888888888,
                            "#fdca26"
                          ],
                          [
                            1,
                            "#f0f921"
                          ]
                        ],
                        "type": "surface"
                      }
                    ],
                    "table": [
                      {
                        "cells": {
                          "fill": {
                            "color": "#EBF0F8"
                          },
                          "line": {
                            "color": "white"
                          }
                        },
                        "header": {
                          "fill": {
                            "color": "#C8D4E3"
                          },
                          "line": {
                            "color": "white"
                          }
                        },
                        "type": "table"
                      }
                    ]
                  },
                  "layout": {
                    "annotationdefaults": {
                      "arrowcolor": "#2a3f5f",
                      "arrowhead": 0,
                      "arrowwidth": 1
                    },
                    "autotypenumbers": "strict",
                    "coloraxis": {
                      "colorbar": {
                        "outlinewidth": 0,
                        "ticks": ""
                      }
                    },
                    "colorscale": {
                      "diverging": [
                        [
                          0,
                          "#8e0152"
                        ],
                        [
                          0.1,
                          "#c51b7d"
                        ],
                        [
                          0.2,
                          "#de77ae"
                        ],
                        [
                          0.3,
                          "#f1b6da"
                        ],
                        [
                          0.4,
                          "#fde0ef"
                        ],
                        [
                          0.5,
                          "#f7f7f7"
                        ],
                        [
                          0.6,
                          "#e6f5d0"
                        ],
                        [
                          0.7,
                          "#b8e186"
                        ],
                        [
                          0.8,
                          "#7fbc41"
                        ],
                        [
                          0.9,
                          "#4d9221"
                        ],
                        [
                          1,
                          "#276419"
                        ]
                      ],
                      "sequential": [
                        [
                          0,
                          "#0d0887"
                        ],
                        [
                          0.1111111111111111,
                          "#46039f"
                        ],
                        [
                          0.2222222222222222,
                          "#7201a8"
                        ],
                        [
                          0.3333333333333333,
                          "#9c179e"
                        ],
                        [
                          0.4444444444444444,
                          "#bd3786"
                        ],
                        [
                          0.5555555555555556,
                          "#d8576b"
                        ],
                        [
                          0.6666666666666666,
                          "#ed7953"
                        ],
                        [
                          0.7777777777777778,
                          "#fb9f3a"
                        ],
                        [
                          0.8888888888888888,
                          "#fdca26"
                        ],
                        [
                          1,
                          "#f0f921"
                        ]
                      ],
                      "sequentialminus": [
                        [
                          0,
                          "#0d0887"
                        ],
                        [
                          0.1111111111111111,
                          "#46039f"
                        ],
                        [
                          0.2222222222222222,
                          "#7201a8"
                        ],
                        [
                          0.3333333333333333,
                          "#9c179e"
                        ],
                        [
                          0.4444444444444444,
                          "#bd3786"
                        ],
                        [
                          0.5555555555555556,
                          "#d8576b"
                        ],
                        [
                          0.6666666666666666,
                          "#ed7953"
                        ],
                        [
                          0.7777777777777778,
                          "#fb9f3a"
                        ],
                        [
                          0.8888888888888888,
                          "#fdca26"
                        ],
                        [
                          1,
                          "#f0f921"
                        ]
                      ]
                    },
                    "colorway": [
                      "#636efa",
                      "#EF553B",
                      "#00cc96",
                      "#ab63fa",
                      "#FFA15A",
                      "#19d3f3",
                      "#FF6692",
                      "#B6E880",
                      "#FF97FF",
                      "#FECB52"
                    ],
                    "font": {
                      "color": "#2a3f5f"
                    },
                    "geo": {
                      "bgcolor": "white",
                      "lakecolor": "white",
                      "landcolor": "#E5ECF6",
                      "showlakes": true,
                      "showland": true,
                      "subunitcolor": "white"
                    },
                    "hoverlabel": {
                      "align": "left"
                    },
                    "hovermode": "closest",
                    "mapbox": {
                      "style": "light"
                    },
                    "paper_bgcolor": "white",
                    "plot_bgcolor": "#E5ECF6",
                    "polar": {
                      "angularaxis": {
                        "gridcolor": "white",
                        "linecolor": "white",
                        "ticks": ""
                      },
                      "bgcolor": "#E5ECF6",
                      "radialaxis": {
                        "gridcolor": "white",
                        "linecolor": "white",
                        "ticks": ""
                      }
                    },
                    "scene": {
                      "xaxis": {
                        "backgroundcolor": "#E5ECF6",
                        "gridcolor": "white",
                        "gridwidth": 2,
                        "linecolor": "white",
                        "showbackground": true,
                        "ticks": "",
                        "zerolinecolor": "white"
                      },
                      "yaxis": {
                        "backgroundcolor": "#E5ECF6",
                        "gridcolor": "white",
                        "gridwidth": 2,
                        "linecolor": "white",
                        "showbackground": true,
                        "ticks": "",
                        "zerolinecolor": "white"
                      },
                      "zaxis": {
                        "backgroundcolor": "#E5ECF6",
                        "gridcolor": "white",
                        "gridwidth": 2,
                        "linecolor": "white",
                        "showbackground": true,
                        "ticks": "",
                        "zerolinecolor": "white"
                      }
                    },
                    "shapedefaults": {
                      "line": {
                        "color": "#2a3f5f"
                      }
                    },
                    "ternary": {
                      "aaxis": {
                        "gridcolor": "white",
                        "linecolor": "white",
                        "ticks": ""
                      },
                      "baxis": {
                        "gridcolor": "white",
                        "linecolor": "white",
                        "ticks": ""
                      },
                      "bgcolor": "#E5ECF6",
                      "caxis": {
                        "gridcolor": "white",
                        "linecolor": "white",
                        "ticks": ""
                      }
                    },
                    "title": {
                      "x": 0.05
                    },
                    "xaxis": {
                      "automargin": true,
                      "gridcolor": "white",
                      "linecolor": "white",
                      "ticks": "",
                      "title": {
                        "standoff": 15
                      },
                      "zerolinecolor": "white",
                      "zerolinewidth": 2
                    },
                    "yaxis": {
                      "automargin": true,
                      "gridcolor": "white",
                      "linecolor": "white",
                      "ticks": "",
                      "title": {
                        "standoff": 15
                      },
                      "zerolinecolor": "white",
                      "zerolinewidth": 2
                    }
                  }
                },
                "title": {
                  "text": "Sex Composition of Indigents Between 1900 and 2020"
                }
              }
            }
          },
          "metadata": {},
          "output_type": "display_data"
        }
      ],
      "source": [
        "fig = px.pie(sex_df, values=sex_df[0], names=['Male', 'Female'], color_discrete_sequence=px.colors.sequential.RdBu)\n",
        "fig.update_layout(title=\"Sex Composition of Indigents Between 1900 and 2020\")\n",
        "fig.show()"
      ]
    },
    {
      "cell_type": "code",
      "execution_count": 28,
      "metadata": {
        "colab": {
          "base_uri": "https://localhost:8080/"
        },
        "id": "svr___qlgCy4",
        "outputId": "6dc907a0-af45-498e-de2a-2920961659f4"
      },
      "outputs": [
        {
          "ename": "KeyError",
          "evalue": "'RaceEthnicity'",
          "output_type": "error",
          "traceback": [
            "\u001b[0;31m---------------------------------------------------------------------------\u001b[0m",
            "\u001b[0;31mKeyError\u001b[0m                                  Traceback (most recent call last)",
            "File \u001b[0;32m~/Library/Python/3.8/lib/python/site-packages/pandas/core/indexes/base.py:3621\u001b[0m, in \u001b[0;36mIndex.get_loc\u001b[0;34m(self, key, method, tolerance)\u001b[0m\n\u001b[1;32m   3620\u001b[0m \u001b[39mtry\u001b[39;00m:\n\u001b[0;32m-> 3621\u001b[0m     \u001b[39mreturn\u001b[39;00m \u001b[39mself\u001b[39;49m\u001b[39m.\u001b[39;49m_engine\u001b[39m.\u001b[39;49mget_loc(casted_key)\n\u001b[1;32m   3622\u001b[0m \u001b[39mexcept\u001b[39;00m \u001b[39mKeyError\u001b[39;00m \u001b[39mas\u001b[39;00m err:\n",
            "File \u001b[0;32m~/Library/Python/3.8/lib/python/site-packages/pandas/_libs/index.pyx:136\u001b[0m, in \u001b[0;36mpandas._libs.index.IndexEngine.get_loc\u001b[0;34m()\u001b[0m\n",
            "File \u001b[0;32m~/Library/Python/3.8/lib/python/site-packages/pandas/_libs/index.pyx:163\u001b[0m, in \u001b[0;36mpandas._libs.index.IndexEngine.get_loc\u001b[0;34m()\u001b[0m\n",
            "File \u001b[0;32mpandas/_libs/hashtable_class_helper.pxi:5198\u001b[0m, in \u001b[0;36mpandas._libs.hashtable.PyObjectHashTable.get_item\u001b[0;34m()\u001b[0m\n",
            "File \u001b[0;32mpandas/_libs/hashtable_class_helper.pxi:5206\u001b[0m, in \u001b[0;36mpandas._libs.hashtable.PyObjectHashTable.get_item\u001b[0;34m()\u001b[0m\n",
            "\u001b[0;31mKeyError\u001b[0m: 'RaceEthnicity'",
            "\nThe above exception was the direct cause of the following exception:\n",
            "\u001b[0;31mKeyError\u001b[0m                                  Traceback (most recent call last)",
            "\u001b[1;32m/Users/abdur-rasheed/Desktop/team-repo.github.io/merged-dataset/merged_dataset_analysis_v2.ipynb Cell 29\u001b[0m in \u001b[0;36m<cell line: 2>\u001b[0;34m()\u001b[0m\n\u001b[1;32m      <a href='vscode-notebook-cell:/Users/abdur-rasheed/Desktop/team-repo.github.io/merged-dataset/merged_dataset_analysis_v2.ipynb#ch0000027?line=0'>1</a>\u001b[0m \u001b[39m# Race Analysis\u001b[39;00m\n\u001b[0;32m----> <a href='vscode-notebook-cell:/Users/abdur-rasheed/Desktop/team-repo.github.io/merged-dataset/merged_dataset_analysis_v2.ipynb#ch0000027?line=1'>2</a>\u001b[0m race_group \u001b[39m=\u001b[39m df[\u001b[39m'\u001b[39;49m\u001b[39mRaceEthnicity\u001b[39;49m\u001b[39m'\u001b[39;49m]\n\u001b[1;32m      <a href='vscode-notebook-cell:/Users/abdur-rasheed/Desktop/team-repo.github.io/merged-dataset/merged_dataset_analysis_v2.ipynb#ch0000027?line=2'>3</a>\u001b[0m white_count, asian_count, black_count, hisp_count, pi_count, native_count, mult_count, other_count, unk_count, total_count \u001b[39m=\u001b[39m (\u001b[39m0\u001b[39m, \u001b[39m0\u001b[39m, \u001b[39m0\u001b[39m, \u001b[39m0\u001b[39m, \u001b[39m0\u001b[39m, \u001b[39m0\u001b[39m, \u001b[39m0\u001b[39m, \u001b[39m0\u001b[39m, \u001b[39m0\u001b[39m, \u001b[39m0\u001b[39m)\n\u001b[1;32m      <a href='vscode-notebook-cell:/Users/abdur-rasheed/Desktop/team-repo.github.io/merged-dataset/merged_dataset_analysis_v2.ipynb#ch0000027?line=3'>4</a>\u001b[0m \u001b[39mfor\u001b[39;00m group \u001b[39min\u001b[39;00m race_group:\n",
            "File \u001b[0;32m~/Library/Python/3.8/lib/python/site-packages/pandas/core/frame.py:3505\u001b[0m, in \u001b[0;36mDataFrame.__getitem__\u001b[0;34m(self, key)\u001b[0m\n\u001b[1;32m   3503\u001b[0m \u001b[39mif\u001b[39;00m \u001b[39mself\u001b[39m\u001b[39m.\u001b[39mcolumns\u001b[39m.\u001b[39mnlevels \u001b[39m>\u001b[39m \u001b[39m1\u001b[39m:\n\u001b[1;32m   3504\u001b[0m     \u001b[39mreturn\u001b[39;00m \u001b[39mself\u001b[39m\u001b[39m.\u001b[39m_getitem_multilevel(key)\n\u001b[0;32m-> 3505\u001b[0m indexer \u001b[39m=\u001b[39m \u001b[39mself\u001b[39;49m\u001b[39m.\u001b[39;49mcolumns\u001b[39m.\u001b[39;49mget_loc(key)\n\u001b[1;32m   3506\u001b[0m \u001b[39mif\u001b[39;00m is_integer(indexer):\n\u001b[1;32m   3507\u001b[0m     indexer \u001b[39m=\u001b[39m [indexer]\n",
            "File \u001b[0;32m~/Library/Python/3.8/lib/python/site-packages/pandas/core/indexes/base.py:3623\u001b[0m, in \u001b[0;36mIndex.get_loc\u001b[0;34m(self, key, method, tolerance)\u001b[0m\n\u001b[1;32m   3621\u001b[0m     \u001b[39mreturn\u001b[39;00m \u001b[39mself\u001b[39m\u001b[39m.\u001b[39m_engine\u001b[39m.\u001b[39mget_loc(casted_key)\n\u001b[1;32m   3622\u001b[0m \u001b[39mexcept\u001b[39;00m \u001b[39mKeyError\u001b[39;00m \u001b[39mas\u001b[39;00m err:\n\u001b[0;32m-> 3623\u001b[0m     \u001b[39mraise\u001b[39;00m \u001b[39mKeyError\u001b[39;00m(key) \u001b[39mfrom\u001b[39;00m \u001b[39merr\u001b[39;00m\n\u001b[1;32m   3624\u001b[0m \u001b[39mexcept\u001b[39;00m \u001b[39mTypeError\u001b[39;00m:\n\u001b[1;32m   3625\u001b[0m     \u001b[39m# If we have a listlike key, _check_indexing_error will raise\u001b[39;00m\n\u001b[1;32m   3626\u001b[0m     \u001b[39m#  InvalidIndexError. Otherwise we fall through and re-raise\u001b[39;00m\n\u001b[1;32m   3627\u001b[0m     \u001b[39m#  the TypeError.\u001b[39;00m\n\u001b[1;32m   3628\u001b[0m     \u001b[39mself\u001b[39m\u001b[39m.\u001b[39m_check_indexing_error(key)\n",
            "\u001b[0;31mKeyError\u001b[0m: 'RaceEthnicity'"
          ]
        }
      ],
      "source": [
        "# Race Analysis\n",
        "race_group = df['RaceEthnicity']\n",
        "white_count, asian_count, black_count, hisp_count, pi_count, native_count, mult_count, other_count, unk_count, total_count = (0, 0, 0, 0, 0, 0, 0, 0, 0, 0)\n",
        "for group in race_group:\n",
        "    group = str(group).upper()\n",
        "    total_count += 1\n",
        "    if \"WHITE\" in group or \"W\" == group:\n",
        "        white_count += 1\n",
        "    elif (\"ASIAN\" in group and \"White\" not in group) or \"A\" == group:\n",
        "        asian_count += 1\n",
        "    elif \"BLACK\" in group or \"B\" == group:\n",
        "        black_count += 1\n",
        "    elif \"HISPANIC\" in group or \"W(H)\" == group:\n",
        "        hisp_count += 1\n",
        "    elif \"PACIFIC ISLANDER\" in group or \"HAWAIIAN\" in group:\n",
        "        pi_count += 1\n",
        "    elif \"NATIVE\" in group:\n",
        "        native_count += 1\n",
        "    elif \"MULTIPLE\" in group or \"M\" == group:\n",
        "        mult_count += 1\n",
        "    elif \"OTHER\" in group or \"O\" == group:\n",
        "        other_count += 1\n",
        "    else:\n",
        "        unk_count += 1\n",
        "\n",
        "race_group_dict = {\n",
        "    \"White / Caucasian\": white_count,\n",
        "    \"Asian\": asian_count,\n",
        "    \"Black / African American\": black_count,\n",
        "    \"Hispanic / Latino\": hisp_count,\n",
        "    \"Pacific Islander / Hawaiian\": pi_count,\n",
        "    \"American Indian / Alaskan Native\": native_count,\n",
        "    \"Multiple\": mult_count,\n",
        "    \"Other\": other_count,\n",
        "    \"Unknown\": unk_count,\n",
        "    \"Total\": total_count\n",
        "}\n",
        "\n",
        "print(\"Race divisions are as follows: \")\n",
        "for key, val in race_group_dict.items():\n",
        "    print(key + \": \" + str(val))\n",
        "print(\"\\n\")"
      ]
    },
    {
      "cell_type": "code",
      "execution_count": null,
      "metadata": {
        "colab": {
          "base_uri": "https://localhost:8080/",
          "height": 300
        },
        "id": "jyQ8YeVGx4r-",
        "outputId": "bd88e2b8-fa4e-4b32-e856-8416904f2d0e"
      },
      "outputs": [
        {
          "ename": "NameError",
          "evalue": "name 'race_group_dict' is not defined",
          "output_type": "error",
          "traceback": [
            "\u001b[0;31m---------------------------------------------------------------------------\u001b[0m",
            "\u001b[0;31mNameError\u001b[0m                                 Traceback (most recent call last)",
            "\u001b[1;32m/Users/abdur-rasheed/Desktop/team-repo.github.io/merged-dataset/merged_dataset_analysis_v2.ipynb Cell 28\u001b[0m in \u001b[0;36m<cell line: 2>\u001b[0;34m()\u001b[0m\n\u001b[1;32m      <a href='vscode-notebook-cell:/Users/abdur-rasheed/Desktop/team-repo.github.io/merged-dataset/merged_dataset_analysis_v2.ipynb#ch0000027?line=0'>1</a>\u001b[0m \u001b[39m# If we exclude the unknown ...\u001b[39;00m\n\u001b[0;32m----> <a href='vscode-notebook-cell:/Users/abdur-rasheed/Desktop/team-repo.github.io/merged-dataset/merged_dataset_analysis_v2.ipynb#ch0000027?line=1'>2</a>\u001b[0m race_df \u001b[39m=\u001b[39m pd\u001b[39m.\u001b[39mDataFrame\u001b[39m.\u001b[39mfrom_dict(race_group_dict, orient \u001b[39m=\u001b[39m \u001b[39m'\u001b[39m\u001b[39mindex\u001b[39m\u001b[39m'\u001b[39m)\n\u001b[1;32m      <a href='vscode-notebook-cell:/Users/abdur-rasheed/Desktop/team-repo.github.io/merged-dataset/merged_dataset_analysis_v2.ipynb#ch0000027?line=2'>3</a>\u001b[0m \u001b[39m#race_df.columns = ['Count']\u001b[39;00m\n\u001b[1;32m      <a href='vscode-notebook-cell:/Users/abdur-rasheed/Desktop/team-repo.github.io/merged-dataset/merged_dataset_analysis_v2.ipynb#ch0000027?line=3'>4</a>\u001b[0m race_df \u001b[39m=\u001b[39m race_df[:\u001b[39m-\u001b[39m\u001b[39m2\u001b[39m] \u001b[39m# exclude Total Count and Unknown Count from dataframe\u001b[39;00m\n",
            "\u001b[0;31mNameError\u001b[0m: name 'race_group_dict' is not defined"
          ]
        }
      ],
      "source": [
        "# If we exclude the unknown ...\n",
        "race_df = pd.DataFrame.from_dict(race_group_dict, orient = 'index')\n",
        "#race_df.columns = ['Count']\n",
        "race_df = race_df[:-2] # exclude Total Count and Unknown Count from dataframe\n",
        "race_df"
      ]
    },
    {
      "cell_type": "code",
      "execution_count": null,
      "metadata": {
        "colab": {
          "base_uri": "https://localhost:8080/",
          "height": 664
        },
        "id": "qzUaXSJyyJBZ",
        "outputId": "08727663-4912-484d-d3e0-c0d8eba8385f"
      },
      "outputs": [
        {
          "ename": "NameError",
          "evalue": "name 'race_df' is not defined",
          "output_type": "error",
          "traceback": [
            "\u001b[0;31m---------------------------------------------------------------------------\u001b[0m",
            "\u001b[0;31mNameError\u001b[0m                                 Traceback (most recent call last)",
            "\u001b[1;32m/Users/abdur-rasheed/Desktop/team-repo.github.io/merged-dataset/merged_dataset_analysis_v2.ipynb Cell 29\u001b[0m in \u001b[0;36m<cell line: 1>\u001b[0;34m()\u001b[0m\n\u001b[0;32m----> <a href='vscode-notebook-cell:/Users/abdur-rasheed/Desktop/team-repo.github.io/merged-dataset/merged_dataset_analysis_v2.ipynb#ch0000028?line=0'>1</a>\u001b[0m race_plot \u001b[39m=\u001b[39m race_df\u001b[39m.\u001b[39mplot\u001b[39m.\u001b[39mpie(subplots\u001b[39m=\u001b[39m\u001b[39mTrue\u001b[39;00m, figsize\u001b[39m=\u001b[39m(\u001b[39m30\u001b[39m, \u001b[39m10\u001b[39m), title \u001b[39m=\u001b[39m \u001b[39m\"\u001b[39m\u001b[39mRace Composition of Indigents Between 1900 and 2020\u001b[39m\u001b[39m\"\u001b[39m, autopct\u001b[39m=\u001b[39m\u001b[39m'\u001b[39m\u001b[39m%1.1f\u001b[39;00m\u001b[39m%%\u001b[39;00m\u001b[39m'\u001b[39m)\n\u001b[1;32m      <a href='vscode-notebook-cell:/Users/abdur-rasheed/Desktop/team-repo.github.io/merged-dataset/merged_dataset_analysis_v2.ipynb#ch0000028?line=1'>2</a>\u001b[0m pylab\u001b[39m.\u001b[39mylabel(\u001b[39m'\u001b[39m\u001b[39m'\u001b[39m)\n",
            "\u001b[0;31mNameError\u001b[0m: name 'race_df' is not defined"
          ]
        }
      ],
      "source": [
        "race_plot = race_df.plot.pie(subplots=True, figsize=(30, 10), title = \"Race Composition of Indigents Between 1900 and 2020\", autopct='%1.1f%%')\n",
        "pylab.ylabel('')"
      ]
    },
    {
      "cell_type": "code",
      "execution_count": null,
      "metadata": {
        "colab": {
          "base_uri": "https://localhost:8080/",
          "height": 542
        },
        "id": "rvrzYrrSplgu",
        "outputId": "4569fea8-c2aa-40ea-db38-03d36d24e1f2"
      },
      "outputs": [
        {
          "data": {
            "text/html": [
              "<html>\n",
              "<head><meta charset=\"utf-8\" /></head>\n",
              "<body>\n",
              "    <div>            <script src=\"https://cdnjs.cloudflare.com/ajax/libs/mathjax/2.7.5/MathJax.js?config=TeX-AMS-MML_SVG\"></script><script type=\"text/javascript\">if (window.MathJax) {MathJax.Hub.Config({SVG: {font: \"STIX-Web\"}});}</script>                <script type=\"text/javascript\">window.PlotlyConfig = {MathJaxConfig: 'local'};</script>\n",
              "        <script src=\"https://cdn.plot.ly/plotly-2.8.3.min.js\"></script>                <div id=\"61121bd8-3b93-4140-89c9-8cbbbfa345bc\" class=\"plotly-graph-div\" style=\"height:525px; width:100%;\"></div>            <script type=\"text/javascript\">                                    window.PLOTLYENV=window.PLOTLYENV || {};                                    if (document.getElementById(\"61121bd8-3b93-4140-89c9-8cbbbfa345bc\")) {                    Plotly.newPlot(                        \"61121bd8-3b93-4140-89c9-8cbbbfa345bc\",                        [{\"domain\":{\"x\":[0.0,1.0],\"y\":[0.0,1.0]},\"hovertemplate\":\"label=%{label}<br>0=%{value}<extra></extra>\",\"labels\":[\"White / Caucasian\",\"Asian\",\"Black / African American\",\"Hispanic / Latino\",\"Pacific Islander / Hawaiian\",\"American Indian / Alaskan Native\",\"Multiple\",\"Other\"],\"legendgroup\":\"\",\"name\":\"\",\"showlegend\":true,\"values\":[7120,432,4187,1683,12,22,408,272],\"type\":\"pie\"}],                        {\"template\":{\"data\":{\"bar\":[{\"error_x\":{\"color\":\"#2a3f5f\"},\"error_y\":{\"color\":\"#2a3f5f\"},\"marker\":{\"line\":{\"color\":\"#E5ECF6\",\"width\":0.5},\"pattern\":{\"fillmode\":\"overlay\",\"size\":10,\"solidity\":0.2}},\"type\":\"bar\"}],\"barpolar\":[{\"marker\":{\"line\":{\"color\":\"#E5ECF6\",\"width\":0.5},\"pattern\":{\"fillmode\":\"overlay\",\"size\":10,\"solidity\":0.2}},\"type\":\"barpolar\"}],\"carpet\":[{\"aaxis\":{\"endlinecolor\":\"#2a3f5f\",\"gridcolor\":\"white\",\"linecolor\":\"white\",\"minorgridcolor\":\"white\",\"startlinecolor\":\"#2a3f5f\"},\"baxis\":{\"endlinecolor\":\"#2a3f5f\",\"gridcolor\":\"white\",\"linecolor\":\"white\",\"minorgridcolor\":\"white\",\"startlinecolor\":\"#2a3f5f\"},\"type\":\"carpet\"}],\"choropleth\":[{\"colorbar\":{\"outlinewidth\":0,\"ticks\":\"\"},\"type\":\"choropleth\"}],\"contour\":[{\"colorbar\":{\"outlinewidth\":0,\"ticks\":\"\"},\"colorscale\":[[0.0,\"#0d0887\"],[0.1111111111111111,\"#46039f\"],[0.2222222222222222,\"#7201a8\"],[0.3333333333333333,\"#9c179e\"],[0.4444444444444444,\"#bd3786\"],[0.5555555555555556,\"#d8576b\"],[0.6666666666666666,\"#ed7953\"],[0.7777777777777778,\"#fb9f3a\"],[0.8888888888888888,\"#fdca26\"],[1.0,\"#f0f921\"]],\"type\":\"contour\"}],\"contourcarpet\":[{\"colorbar\":{\"outlinewidth\":0,\"ticks\":\"\"},\"type\":\"contourcarpet\"}],\"heatmap\":[{\"colorbar\":{\"outlinewidth\":0,\"ticks\":\"\"},\"colorscale\":[[0.0,\"#0d0887\"],[0.1111111111111111,\"#46039f\"],[0.2222222222222222,\"#7201a8\"],[0.3333333333333333,\"#9c179e\"],[0.4444444444444444,\"#bd3786\"],[0.5555555555555556,\"#d8576b\"],[0.6666666666666666,\"#ed7953\"],[0.7777777777777778,\"#fb9f3a\"],[0.8888888888888888,\"#fdca26\"],[1.0,\"#f0f921\"]],\"type\":\"heatmap\"}],\"heatmapgl\":[{\"colorbar\":{\"outlinewidth\":0,\"ticks\":\"\"},\"colorscale\":[[0.0,\"#0d0887\"],[0.1111111111111111,\"#46039f\"],[0.2222222222222222,\"#7201a8\"],[0.3333333333333333,\"#9c179e\"],[0.4444444444444444,\"#bd3786\"],[0.5555555555555556,\"#d8576b\"],[0.6666666666666666,\"#ed7953\"],[0.7777777777777778,\"#fb9f3a\"],[0.8888888888888888,\"#fdca26\"],[1.0,\"#f0f921\"]],\"type\":\"heatmapgl\"}],\"histogram\":[{\"marker\":{\"pattern\":{\"fillmode\":\"overlay\",\"size\":10,\"solidity\":0.2}},\"type\":\"histogram\"}],\"histogram2d\":[{\"colorbar\":{\"outlinewidth\":0,\"ticks\":\"\"},\"colorscale\":[[0.0,\"#0d0887\"],[0.1111111111111111,\"#46039f\"],[0.2222222222222222,\"#7201a8\"],[0.3333333333333333,\"#9c179e\"],[0.4444444444444444,\"#bd3786\"],[0.5555555555555556,\"#d8576b\"],[0.6666666666666666,\"#ed7953\"],[0.7777777777777778,\"#fb9f3a\"],[0.8888888888888888,\"#fdca26\"],[1.0,\"#f0f921\"]],\"type\":\"histogram2d\"}],\"histogram2dcontour\":[{\"colorbar\":{\"outlinewidth\":0,\"ticks\":\"\"},\"colorscale\":[[0.0,\"#0d0887\"],[0.1111111111111111,\"#46039f\"],[0.2222222222222222,\"#7201a8\"],[0.3333333333333333,\"#9c179e\"],[0.4444444444444444,\"#bd3786\"],[0.5555555555555556,\"#d8576b\"],[0.6666666666666666,\"#ed7953\"],[0.7777777777777778,\"#fb9f3a\"],[0.8888888888888888,\"#fdca26\"],[1.0,\"#f0f921\"]],\"type\":\"histogram2dcontour\"}],\"mesh3d\":[{\"colorbar\":{\"outlinewidth\":0,\"ticks\":\"\"},\"type\":\"mesh3d\"}],\"parcoords\":[{\"line\":{\"colorbar\":{\"outlinewidth\":0,\"ticks\":\"\"}},\"type\":\"parcoords\"}],\"pie\":[{\"automargin\":true,\"type\":\"pie\"}],\"scatter\":[{\"marker\":{\"colorbar\":{\"outlinewidth\":0,\"ticks\":\"\"}},\"type\":\"scatter\"}],\"scatter3d\":[{\"line\":{\"colorbar\":{\"outlinewidth\":0,\"ticks\":\"\"}},\"marker\":{\"colorbar\":{\"outlinewidth\":0,\"ticks\":\"\"}},\"type\":\"scatter3d\"}],\"scattercarpet\":[{\"marker\":{\"colorbar\":{\"outlinewidth\":0,\"ticks\":\"\"}},\"type\":\"scattercarpet\"}],\"scattergeo\":[{\"marker\":{\"colorbar\":{\"outlinewidth\":0,\"ticks\":\"\"}},\"type\":\"scattergeo\"}],\"scattergl\":[{\"marker\":{\"colorbar\":{\"outlinewidth\":0,\"ticks\":\"\"}},\"type\":\"scattergl\"}],\"scattermapbox\":[{\"marker\":{\"colorbar\":{\"outlinewidth\":0,\"ticks\":\"\"}},\"type\":\"scattermapbox\"}],\"scatterpolar\":[{\"marker\":{\"colorbar\":{\"outlinewidth\":0,\"ticks\":\"\"}},\"type\":\"scatterpolar\"}],\"scatterpolargl\":[{\"marker\":{\"colorbar\":{\"outlinewidth\":0,\"ticks\":\"\"}},\"type\":\"scatterpolargl\"}],\"scatterternary\":[{\"marker\":{\"colorbar\":{\"outlinewidth\":0,\"ticks\":\"\"}},\"type\":\"scatterternary\"}],\"surface\":[{\"colorbar\":{\"outlinewidth\":0,\"ticks\":\"\"},\"colorscale\":[[0.0,\"#0d0887\"],[0.1111111111111111,\"#46039f\"],[0.2222222222222222,\"#7201a8\"],[0.3333333333333333,\"#9c179e\"],[0.4444444444444444,\"#bd3786\"],[0.5555555555555556,\"#d8576b\"],[0.6666666666666666,\"#ed7953\"],[0.7777777777777778,\"#fb9f3a\"],[0.8888888888888888,\"#fdca26\"],[1.0,\"#f0f921\"]],\"type\":\"surface\"}],\"table\":[{\"cells\":{\"fill\":{\"color\":\"#EBF0F8\"},\"line\":{\"color\":\"white\"}},\"header\":{\"fill\":{\"color\":\"#C8D4E3\"},\"line\":{\"color\":\"white\"}},\"type\":\"table\"}]},\"layout\":{\"annotationdefaults\":{\"arrowcolor\":\"#2a3f5f\",\"arrowhead\":0,\"arrowwidth\":1},\"autotypenumbers\":\"strict\",\"coloraxis\":{\"colorbar\":{\"outlinewidth\":0,\"ticks\":\"\"}},\"colorscale\":{\"diverging\":[[0,\"#8e0152\"],[0.1,\"#c51b7d\"],[0.2,\"#de77ae\"],[0.3,\"#f1b6da\"],[0.4,\"#fde0ef\"],[0.5,\"#f7f7f7\"],[0.6,\"#e6f5d0\"],[0.7,\"#b8e186\"],[0.8,\"#7fbc41\"],[0.9,\"#4d9221\"],[1,\"#276419\"]],\"sequential\":[[0.0,\"#0d0887\"],[0.1111111111111111,\"#46039f\"],[0.2222222222222222,\"#7201a8\"],[0.3333333333333333,\"#9c179e\"],[0.4444444444444444,\"#bd3786\"],[0.5555555555555556,\"#d8576b\"],[0.6666666666666666,\"#ed7953\"],[0.7777777777777778,\"#fb9f3a\"],[0.8888888888888888,\"#fdca26\"],[1.0,\"#f0f921\"]],\"sequentialminus\":[[0.0,\"#0d0887\"],[0.1111111111111111,\"#46039f\"],[0.2222222222222222,\"#7201a8\"],[0.3333333333333333,\"#9c179e\"],[0.4444444444444444,\"#bd3786\"],[0.5555555555555556,\"#d8576b\"],[0.6666666666666666,\"#ed7953\"],[0.7777777777777778,\"#fb9f3a\"],[0.8888888888888888,\"#fdca26\"],[1.0,\"#f0f921\"]]},\"colorway\":[\"#636efa\",\"#EF553B\",\"#00cc96\",\"#ab63fa\",\"#FFA15A\",\"#19d3f3\",\"#FF6692\",\"#B6E880\",\"#FF97FF\",\"#FECB52\"],\"font\":{\"color\":\"#2a3f5f\"},\"geo\":{\"bgcolor\":\"white\",\"lakecolor\":\"white\",\"landcolor\":\"#E5ECF6\",\"showlakes\":true,\"showland\":true,\"subunitcolor\":\"white\"},\"hoverlabel\":{\"align\":\"left\"},\"hovermode\":\"closest\",\"mapbox\":{\"style\":\"light\"},\"paper_bgcolor\":\"white\",\"plot_bgcolor\":\"#E5ECF6\",\"polar\":{\"angularaxis\":{\"gridcolor\":\"white\",\"linecolor\":\"white\",\"ticks\":\"\"},\"bgcolor\":\"#E5ECF6\",\"radialaxis\":{\"gridcolor\":\"white\",\"linecolor\":\"white\",\"ticks\":\"\"}},\"scene\":{\"xaxis\":{\"backgroundcolor\":\"#E5ECF6\",\"gridcolor\":\"white\",\"gridwidth\":2,\"linecolor\":\"white\",\"showbackground\":true,\"ticks\":\"\",\"zerolinecolor\":\"white\"},\"yaxis\":{\"backgroundcolor\":\"#E5ECF6\",\"gridcolor\":\"white\",\"gridwidth\":2,\"linecolor\":\"white\",\"showbackground\":true,\"ticks\":\"\",\"zerolinecolor\":\"white\"},\"zaxis\":{\"backgroundcolor\":\"#E5ECF6\",\"gridcolor\":\"white\",\"gridwidth\":2,\"linecolor\":\"white\",\"showbackground\":true,\"ticks\":\"\",\"zerolinecolor\":\"white\"}},\"shapedefaults\":{\"line\":{\"color\":\"#2a3f5f\"}},\"ternary\":{\"aaxis\":{\"gridcolor\":\"white\",\"linecolor\":\"white\",\"ticks\":\"\"},\"baxis\":{\"gridcolor\":\"white\",\"linecolor\":\"white\",\"ticks\":\"\"},\"bgcolor\":\"#E5ECF6\",\"caxis\":{\"gridcolor\":\"white\",\"linecolor\":\"white\",\"ticks\":\"\"}},\"title\":{\"x\":0.05},\"xaxis\":{\"automargin\":true,\"gridcolor\":\"white\",\"linecolor\":\"white\",\"ticks\":\"\",\"title\":{\"standoff\":15},\"zerolinecolor\":\"white\",\"zerolinewidth\":2},\"yaxis\":{\"automargin\":true,\"gridcolor\":\"white\",\"linecolor\":\"white\",\"ticks\":\"\",\"title\":{\"standoff\":15},\"zerolinecolor\":\"white\",\"zerolinewidth\":2}}},\"legend\":{\"tracegroupgap\":0},\"margin\":{\"t\":60},\"piecolorway\":[\"rgb(103,0,31)\",\"rgb(178,24,43)\",\"rgb(214,96,77)\",\"rgb(244,165,130)\",\"rgb(253,219,199)\",\"rgb(247,247,247)\",\"rgb(209,229,240)\",\"rgb(146,197,222)\",\"rgb(67,147,195)\",\"rgb(33,102,172)\",\"rgb(5,48,97)\"],\"title\":{\"text\":\"Racial Composition of Indigents Between 1900 and 2020\"}},                        {\"responsive\": true}                    ).then(function(){\n",
              "                            \n",
              "var gd = document.getElementById('61121bd8-3b93-4140-89c9-8cbbbfa345bc');\n",
              "var x = new MutationObserver(function (mutations, observer) {{\n",
              "        var display = window.getComputedStyle(gd).display;\n",
              "        if (!display || display === 'none') {{\n",
              "            console.log([gd, 'removed!']);\n",
              "            Plotly.purge(gd);\n",
              "            observer.disconnect();\n",
              "        }}\n",
              "}});\n",
              "\n",
              "// Listen for the removal of the full notebook cells\n",
              "var notebookContainer = gd.closest('#notebook-container');\n",
              "if (notebookContainer) {{\n",
              "    x.observe(notebookContainer, {childList: true});\n",
              "}}\n",
              "\n",
              "// Listen for the clearing of the current output cell\n",
              "var outputEl = gd.closest('.output');\n",
              "if (outputEl) {{\n",
              "    x.observe(outputEl, {childList: true});\n",
              "}}\n",
              "\n",
              "                        })                };                            </script>        </div>\n",
              "</body>\n",
              "</html>"
            ]
          },
          "metadata": {},
          "output_type": "display_data"
        }
      ],
      "source": [
        "fig = px.pie(race_df, values=race_df[0], names=['White / Caucasian', 'Asian', 'Black / African American', 'Hispanic / Latino', 'Pacific Islander / Hawaiian', 'American Indian / Alaskan Native', 'Multiple', 'Other'], color_discrete_sequence=px.colors.sequential.RdBu)\n",
        "fig.update_layout(title=\"Racial Composition of Indigents Between 1900 and 2020\")\n",
        "fig.show()"
      ]
    },
    {
      "cell_type": "code",
      "execution_count": null,
      "metadata": {
        "colab": {
          "base_uri": "https://localhost:8080/"
        },
        "id": "DtHd7nmLHkA0",
        "outputId": "1eaa2106-128d-4e01-8465-785899a825f9"
      },
      "outputs": [
        {
          "name": "stdout",
          "output_type": "stream",
          "text": [
            "Sex vs. death year divisions are as follows: \n",
            "1900: [0, 0, 2]\n",
            "1901: [0, 0, 0]\n",
            "1902: [0, 0, 0]\n",
            "1903: [0, 0, 0]\n",
            "1904: [0, 0, 0]\n",
            "1905: [0, 0, 1]\n",
            "1906: [0, 0, 0]\n",
            "1907: [0, 0, 0]\n",
            "1908: [0, 0, 0]\n",
            "1909: [0, 0, 0]\n",
            "1910: [0, 0, 0]\n",
            "1911: [0, 0, 0]\n",
            "1912: [0, 0, 1]\n",
            "1913: [0, 0, 0]\n",
            "1914: [0, 0, 0]\n",
            "1915: [0, 0, 0]\n",
            "1916: [0, 0, 1]\n",
            "1917: [0, 0, 0]\n",
            "1918: [0, 0, 1]\n",
            "1919: [0, 0, 0]\n",
            "1920: [0, 0, 0]\n",
            "1921: [0, 0, 0]\n",
            "1922: [0, 0, 0]\n",
            "1923: [0, 0, 0]\n",
            "1924: [0, 0, 0]\n",
            "1925: [0, 0, 1]\n",
            "1926: [0, 0, 1]\n",
            "1927: [0, 0, 0]\n",
            "1928: [0, 0, 0]\n",
            "1929: [0, 0, 0]\n",
            "1930: [0, 0, 2]\n",
            "1931: [2, 0, 0]\n",
            "1932: [0, 0, 2]\n",
            "1933: [1, 0, 0]\n",
            "1934: [1, 0, 1]\n",
            "1935: [0, 0, 2]\n",
            "1936: [0, 0, 4]\n",
            "1937: [68, 34, 61]\n",
            "1938: [86, 24, 84]\n",
            "1939: [68, 20, 69]\n",
            "1940: [84, 22, 82]\n",
            "1941: [54, 23, 67]\n",
            "1942: [51, 8, 46]\n",
            "1943: [48, 12, 31]\n",
            "1944: [49, 7, 16]\n",
            "1945: [64, 3, 22]\n",
            "1946: [58, 10, 15]\n",
            "1947: [63, 10, 27]\n",
            "1948: [57, 7, 49]\n",
            "1949: [35, 14, 81]\n",
            "1950: [24, 14, 61]\n",
            "1951: [27, 7, 63]\n",
            "1952: [27, 4, 47]\n",
            "1953: [38, 8, 81]\n",
            "1954: [44, 14, 83]\n",
            "1955: [52, 18, 95]\n",
            "1956: [39, 23, 110]\n",
            "1957: [29, 14, 94]\n",
            "1958: [62, 22, 110]\n",
            "1959: [53, 24, 84]\n",
            "1960: [57, 26, 109]\n",
            "1961: [55, 23, 121]\n",
            "1962: [39, 19, 127]\n",
            "1963: [37, 17, 105]\n",
            "1964: [27, 9, 83]\n",
            "1965: [18, 11, 57]\n",
            "1966: [25, 9, 53]\n",
            "1967: [18, 4, 62]\n",
            "1968: [13, 4, 67]\n",
            "1969: [14, 3, 37]\n",
            "1970: [11, 3, 45]\n",
            "1971: [21, 3, 51]\n",
            "1972: [8, 0, 35]\n",
            "1973: [19, 6, 44]\n",
            "1974: [15, 5, 37]\n",
            "1975: [10, 2, 39]\n",
            "1976: [2, 0, 23]\n",
            "1977: [0, 0, 12]\n",
            "1978: [0, 0, 47]\n",
            "1979: [1, 1, 102]\n",
            "1980: [9, 2, 1159]\n",
            "1981: [8, 0, 2606]\n",
            "1982: [20, 0, 3234]\n",
            "1983: [9, 3, 2466]\n",
            "1984: [8, 2, 2459]\n",
            "1985: [15, 1, 2476]\n",
            "1986: [15, 3, 2544]\n",
            "1987: [6, 0, 2739]\n",
            "1988: [5, 4, 3024]\n",
            "1989: [13, 4, 2954]\n",
            "1990: [12, 4, 2833]\n",
            "1991: [14, 5, 2593]\n",
            "1992: [6, 5, 2270]\n",
            "1993: [11, 3, 2324]\n",
            "1994: [9, 2, 1972]\n",
            "1995: [9, 1, 1939]\n",
            "1996: [14, 1, 1769]\n",
            "1997: [8, 2, 1660]\n",
            "1998: [12, 5, 1628]\n",
            "1999: [13, 6, 1599]\n",
            "2000: [8, 5, 1460]\n",
            "2001: [8, 7, 1524]\n",
            "2002: [12, 5, 1449]\n",
            "2003: [6, 6, 1489]\n",
            "2004: [19, 5, 1424]\n",
            "2005: [21, 5, 1487]\n",
            "2006: [17, 13, 1441]\n",
            "2007: [8, 12, 1350]\n",
            "2008: [41, 15, 1359]\n",
            "2009: [49, 21, 1325]\n",
            "2010: [48, 29, 1237]\n",
            "2011: [118, 43, 1059]\n",
            "2012: [201, 74, 1024]\n",
            "2013: [172, 49, 1131]\n",
            "2014: [199, 77, 1177]\n",
            "2015: [214, 89, 1080]\n",
            "2016: [95, 27, 1394]\n",
            "2017: [44, 18, 1475]\n",
            "2018: [240, 77, 1350]\n",
            "2019: [229, 73, 1379]\n",
            "2020: [410, 111, 3013]\n",
            "2021: [294, 95, 1504]\n",
            "2022: [21, 9, 60]\n",
            "\n",
            "\n",
            "A total of 91530 records have known death dates AND sex records out of the total 121,840 records. \n"
          ]
        }
      ],
      "source": [
        "st_group_dict = {\n",
        "}\n",
        "\n",
        "year_group = df['DOD']\n",
        "sex_group = df['Sex']\n",
        "year_range = range(1900, 2023)\n",
        "year_count = 0\n",
        "for year in year_range:\n",
        "    sex_list = [0, 0, 0] # M, F, U\n",
        "    for group, s_group in zip(year_group, sex_group):\n",
        "        if ((str(year) == (str(group))[-4:]) and (len(str(group)) == 10)):\n",
        "            if \"M\" == s_group or \"Male\" == s_group:\n",
        "                sex_list[0] += 1\n",
        "                known_count += 1\n",
        "            elif \"F\" == s_group or \"Female\" == s_group:\n",
        "                sex_list[1] += 1\n",
        "                known_count += 1\n",
        "            else:\n",
        "                sex_list[2] += 1\n",
        "    st_group_dict[str(year)] = sex_list\n",
        "\n",
        "print(\"Sex vs. death year divisions are as follows: \")\n",
        "for key, val in st_group_dict.items():\n",
        "    print(key + \": \" + str(val))\n",
        "print(\"\\n\")\n",
        "print(\"A total of \" + str(known_count) + \" records have known death dates AND sex records out of the total 121,840 records. \")"
      ]
    },
    {
      "cell_type": "code",
      "execution_count": null,
      "metadata": {
        "colab": {
          "base_uri": "https://localhost:8080/",
          "height": 424
        },
        "id": "p7ekF4ICQ9jI",
        "outputId": "16fb9c8b-de20-49e6-ea78-98f90cd94148"
      },
      "outputs": [
        {
          "data": {
            "text/html": [
              "\n",
              "  <div id=\"df-8a026e2b-e47a-41c6-97e5-888dcbff3b23\">\n",
              "    <div class=\"colab-df-container\">\n",
              "      <div>\n",
              "<style scoped>\n",
              "    .dataframe tbody tr th:only-of-type {\n",
              "        vertical-align: middle;\n",
              "    }\n",
              "\n",
              "    .dataframe tbody tr th {\n",
              "        vertical-align: top;\n",
              "    }\n",
              "\n",
              "    .dataframe thead th {\n",
              "        text-align: right;\n",
              "    }\n",
              "</style>\n",
              "<table border=\"1\" class=\"dataframe\">\n",
              "  <thead>\n",
              "    <tr style=\"text-align: right;\">\n",
              "      <th></th>\n",
              "      <th>Male</th>\n",
              "      <th>Female</th>\n",
              "      <th>Unknown</th>\n",
              "    </tr>\n",
              "  </thead>\n",
              "  <tbody>\n",
              "    <tr>\n",
              "      <th>1900</th>\n",
              "      <td>0</td>\n",
              "      <td>0</td>\n",
              "      <td>2</td>\n",
              "    </tr>\n",
              "    <tr>\n",
              "      <th>1901</th>\n",
              "      <td>0</td>\n",
              "      <td>0</td>\n",
              "      <td>0</td>\n",
              "    </tr>\n",
              "    <tr>\n",
              "      <th>1902</th>\n",
              "      <td>0</td>\n",
              "      <td>0</td>\n",
              "      <td>0</td>\n",
              "    </tr>\n",
              "    <tr>\n",
              "      <th>1903</th>\n",
              "      <td>0</td>\n",
              "      <td>0</td>\n",
              "      <td>0</td>\n",
              "    </tr>\n",
              "    <tr>\n",
              "      <th>1904</th>\n",
              "      <td>0</td>\n",
              "      <td>0</td>\n",
              "      <td>0</td>\n",
              "    </tr>\n",
              "    <tr>\n",
              "      <th>...</th>\n",
              "      <td>...</td>\n",
              "      <td>...</td>\n",
              "      <td>...</td>\n",
              "    </tr>\n",
              "    <tr>\n",
              "      <th>2018</th>\n",
              "      <td>240</td>\n",
              "      <td>77</td>\n",
              "      <td>1350</td>\n",
              "    </tr>\n",
              "    <tr>\n",
              "      <th>2019</th>\n",
              "      <td>229</td>\n",
              "      <td>73</td>\n",
              "      <td>1379</td>\n",
              "    </tr>\n",
              "    <tr>\n",
              "      <th>2020</th>\n",
              "      <td>410</td>\n",
              "      <td>111</td>\n",
              "      <td>3013</td>\n",
              "    </tr>\n",
              "    <tr>\n",
              "      <th>2021</th>\n",
              "      <td>294</td>\n",
              "      <td>95</td>\n",
              "      <td>1504</td>\n",
              "    </tr>\n",
              "    <tr>\n",
              "      <th>2022</th>\n",
              "      <td>21</td>\n",
              "      <td>9</td>\n",
              "      <td>60</td>\n",
              "    </tr>\n",
              "  </tbody>\n",
              "</table>\n",
              "<p>123 rows × 3 columns</p>\n",
              "</div>\n",
              "      <button class=\"colab-df-convert\" onclick=\"convertToInteractive('df-8a026e2b-e47a-41c6-97e5-888dcbff3b23')\"\n",
              "              title=\"Convert this dataframe to an interactive table.\"\n",
              "              style=\"display:none;\">\n",
              "        \n",
              "  <svg xmlns=\"http://www.w3.org/2000/svg\" height=\"24px\"viewBox=\"0 0 24 24\"\n",
              "       width=\"24px\">\n",
              "    <path d=\"M0 0h24v24H0V0z\" fill=\"none\"/>\n",
              "    <path d=\"M18.56 5.44l.94 2.06.94-2.06 2.06-.94-2.06-.94-.94-2.06-.94 2.06-2.06.94zm-11 1L8.5 8.5l.94-2.06 2.06-.94-2.06-.94L8.5 2.5l-.94 2.06-2.06.94zm10 10l.94 2.06.94-2.06 2.06-.94-2.06-.94-.94-2.06-.94 2.06-2.06.94z\"/><path d=\"M17.41 7.96l-1.37-1.37c-.4-.4-.92-.59-1.43-.59-.52 0-1.04.2-1.43.59L10.3 9.45l-7.72 7.72c-.78.78-.78 2.05 0 2.83L4 21.41c.39.39.9.59 1.41.59.51 0 1.02-.2 1.41-.59l7.78-7.78 2.81-2.81c.8-.78.8-2.07 0-2.86zM5.41 20L4 18.59l7.72-7.72 1.47 1.35L5.41 20z\"/>\n",
              "  </svg>\n",
              "      </button>\n",
              "      \n",
              "  <style>\n",
              "    .colab-df-container {\n",
              "      display:flex;\n",
              "      flex-wrap:wrap;\n",
              "      gap: 12px;\n",
              "    }\n",
              "\n",
              "    .colab-df-convert {\n",
              "      background-color: #E8F0FE;\n",
              "      border: none;\n",
              "      border-radius: 50%;\n",
              "      cursor: pointer;\n",
              "      display: none;\n",
              "      fill: #1967D2;\n",
              "      height: 32px;\n",
              "      padding: 0 0 0 0;\n",
              "      width: 32px;\n",
              "    }\n",
              "\n",
              "    .colab-df-convert:hover {\n",
              "      background-color: #E2EBFA;\n",
              "      box-shadow: 0px 1px 2px rgba(60, 64, 67, 0.3), 0px 1px 3px 1px rgba(60, 64, 67, 0.15);\n",
              "      fill: #174EA6;\n",
              "    }\n",
              "\n",
              "    [theme=dark] .colab-df-convert {\n",
              "      background-color: #3B4455;\n",
              "      fill: #D2E3FC;\n",
              "    }\n",
              "\n",
              "    [theme=dark] .colab-df-convert:hover {\n",
              "      background-color: #434B5C;\n",
              "      box-shadow: 0px 1px 3px 1px rgba(0, 0, 0, 0.15);\n",
              "      filter: drop-shadow(0px 1px 2px rgba(0, 0, 0, 0.3));\n",
              "      fill: #FFFFFF;\n",
              "    }\n",
              "  </style>\n",
              "\n",
              "      <script>\n",
              "        const buttonEl =\n",
              "          document.querySelector('#df-8a026e2b-e47a-41c6-97e5-888dcbff3b23 button.colab-df-convert');\n",
              "        buttonEl.style.display =\n",
              "          google.colab.kernel.accessAllowed ? 'block' : 'none';\n",
              "\n",
              "        async function convertToInteractive(key) {\n",
              "          const element = document.querySelector('#df-8a026e2b-e47a-41c6-97e5-888dcbff3b23');\n",
              "          const dataTable =\n",
              "            await google.colab.kernel.invokeFunction('convertToInteractive',\n",
              "                                                     [key], {});\n",
              "          if (!dataTable) return;\n",
              "\n",
              "          const docLinkHtml = 'Like what you see? Visit the ' +\n",
              "            '<a target=\"_blank\" href=https://colab.research.google.com/notebooks/data_table.ipynb>data table notebook</a>'\n",
              "            + ' to learn more about interactive tables.';\n",
              "          element.innerHTML = '';\n",
              "          dataTable['output_type'] = 'display_data';\n",
              "          await google.colab.output.renderOutput(dataTable, element);\n",
              "          const docLink = document.createElement('div');\n",
              "          docLink.innerHTML = docLinkHtml;\n",
              "          element.appendChild(docLink);\n",
              "        }\n",
              "      </script>\n",
              "    </div>\n",
              "  </div>\n",
              "  "
            ],
            "text/plain": [
              "      Male  Female  Unknown\n",
              "1900     0       0        2\n",
              "1901     0       0        0\n",
              "1902     0       0        0\n",
              "1903     0       0        0\n",
              "1904     0       0        0\n",
              "...    ...     ...      ...\n",
              "2018   240      77     1350\n",
              "2019   229      73     1379\n",
              "2020   410     111     3013\n",
              "2021   294      95     1504\n",
              "2022    21       9       60\n",
              "\n",
              "[123 rows x 3 columns]"
            ]
          },
          "execution_count": 415,
          "metadata": {},
          "output_type": "execute_result"
        }
      ],
      "source": [
        "st_df = pd.DataFrame.from_dict(st_group_dict, orient = 'index')\n",
        "st_df.columns = [\"Male\", \"Female\", \"Unknown\"]\n",
        "st_df"
      ]
    },
    {
      "cell_type": "code",
      "execution_count": null,
      "metadata": {
        "colab": {
          "base_uri": "https://localhost:8080/",
          "height": 542
        },
        "id": "-g__bmK2COMd",
        "outputId": "218811ce-ac17-4098-8bbd-eeec09cbd00b"
      },
      "outputs": [
        {
          "ename": "NameError",
          "evalue": "name 'st_df' is not defined",
          "output_type": "error",
          "traceback": [
            "\u001b[0;31m---------------------------------------------------------------------------\u001b[0m",
            "\u001b[0;31mNameError\u001b[0m                                 Traceback (most recent call last)",
            "\u001b[1;32m/Users/abdur-rasheed/Desktop/team-repo.github.io/merged-dataset/merged_dataset_analysis_v2.ipynb Cell 33\u001b[0m in \u001b[0;36m<cell line: 2>\u001b[0;34m()\u001b[0m\n\u001b[1;32m      <a href='vscode-notebook-cell:/Users/abdur-rasheed/Desktop/team-repo.github.io/merged-dataset/merged_dataset_analysis_v2.ipynb#ch0000032?line=0'>1</a>\u001b[0m \u001b[39m# Sex trends over the years\u001b[39;00m\n\u001b[0;32m----> <a href='vscode-notebook-cell:/Users/abdur-rasheed/Desktop/team-repo.github.io/merged-dataset/merged_dataset_analysis_v2.ipynb#ch0000032?line=1'>2</a>\u001b[0m fig \u001b[39m=\u001b[39m px\u001b[39m.\u001b[39mbar(st_df[\u001b[39m30\u001b[39m:], x\u001b[39m=\u001b[39m\u001b[39mrange\u001b[39m(\u001b[39m1930\u001b[39m,\u001b[39m2023\u001b[39m), y\u001b[39m=\u001b[39m[\u001b[39m\"\u001b[39m\u001b[39mMale\u001b[39m\u001b[39m\"\u001b[39m,\u001b[39m\"\u001b[39m\u001b[39mFemale\u001b[39m\u001b[39m\"\u001b[39m], orientation \u001b[39m=\u001b[39m \u001b[39m'\u001b[39m\u001b[39mv\u001b[39m\u001b[39m'\u001b[39m, barmode \u001b[39m=\u001b[39m \u001b[39m'\u001b[39m\u001b[39mgroup\u001b[39m\u001b[39m'\u001b[39m)\n\u001b[1;32m      <a href='vscode-notebook-cell:/Users/abdur-rasheed/Desktop/team-repo.github.io/merged-dataset/merged_dataset_analysis_v2.ipynb#ch0000032?line=2'>3</a>\u001b[0m fig\u001b[39m.\u001b[39mupdate_layout(\n\u001b[1;32m      <a href='vscode-notebook-cell:/Users/abdur-rasheed/Desktop/team-repo.github.io/merged-dataset/merged_dataset_analysis_v2.ipynb#ch0000032?line=3'>4</a>\u001b[0m     title\u001b[39m=\u001b[39m\u001b[39m\"\u001b[39m\u001b[39mSex Composition of Indigents Between 1930 and 2022\u001b[39m\u001b[39m\"\u001b[39m,\n\u001b[1;32m      <a href='vscode-notebook-cell:/Users/abdur-rasheed/Desktop/team-repo.github.io/merged-dataset/merged_dataset_analysis_v2.ipynb#ch0000032?line=4'>5</a>\u001b[0m     xaxis_title\u001b[39m=\u001b[39m\u001b[39m\"\u001b[39m\u001b[39mYear of Death\u001b[39m\u001b[39m\"\u001b[39m,\n\u001b[1;32m      <a href='vscode-notebook-cell:/Users/abdur-rasheed/Desktop/team-repo.github.io/merged-dataset/merged_dataset_analysis_v2.ipynb#ch0000032?line=5'>6</a>\u001b[0m     yaxis_title\u001b[39m=\u001b[39m\u001b[39m\"\u001b[39m\u001b[39mNumber of Indigents\u001b[39m\u001b[39m\"\u001b[39m,\n\u001b[1;32m      <a href='vscode-notebook-cell:/Users/abdur-rasheed/Desktop/team-repo.github.io/merged-dataset/merged_dataset_analysis_v2.ipynb#ch0000032?line=6'>7</a>\u001b[0m     legend_title\u001b[39m=\u001b[39m\u001b[39m\"\u001b[39m\u001b[39mSex\u001b[39m\u001b[39m\"\u001b[39m,\n\u001b[1;32m      <a href='vscode-notebook-cell:/Users/abdur-rasheed/Desktop/team-repo.github.io/merged-dataset/merged_dataset_analysis_v2.ipynb#ch0000032?line=7'>8</a>\u001b[0m )\n\u001b[1;32m      <a href='vscode-notebook-cell:/Users/abdur-rasheed/Desktop/team-repo.github.io/merged-dataset/merged_dataset_analysis_v2.ipynb#ch0000032?line=8'>9</a>\u001b[0m fig\u001b[39m.\u001b[39mshow()\n",
            "\u001b[0;31mNameError\u001b[0m: name 'st_df' is not defined"
          ]
        }
      ],
      "source": [
        "# Sex trends over the years\n",
        "fig = px.bar(st_df[30:], x=range(1930,2023), y=[\"Male\",\"Female\"], orientation = 'v', barmode = 'group')\n",
        "fig.update_layout(\n",
        "    title=\"Sex Composition of Indigents Between 1930 and 2022\",\n",
        "    xaxis_title=\"Year of Death\",\n",
        "    yaxis_title=\"Number of Indigents\",\n",
        "    legend_title=\"Sex\",\n",
        ")\n",
        "fig.show()"
      ]
    },
    {
      "cell_type": "code",
      "execution_count": null,
      "metadata": {
        "colab": {
          "base_uri": "https://localhost:8080/"
        },
        "id": "aL2hAZbySXkK",
        "outputId": "d89565ae-eba4-4da3-a303-47b9361fb26c"
      },
      "outputs": [
        {
          "name": "stdout",
          "output_type": "stream",
          "text": [
            "Death year divisions are as follows: \n",
            "1900: [0, 0, 0, 0, 0, 0, 0, 0, 3]\n",
            "1901: [0, 0, 0, 0, 0, 0, 0, 0, 0]\n",
            "1902: [0, 0, 0, 0, 0, 0, 0, 0, 0]\n",
            "1903: [0, 0, 0, 0, 0, 0, 0, 0, 0]\n",
            "1904: [0, 0, 0, 0, 0, 0, 0, 0, 0]\n",
            "1905: [0, 0, 0, 0, 0, 0, 0, 0, 1]\n",
            "1906: [0, 0, 0, 0, 0, 0, 0, 0, 0]\n",
            "1907: [0, 0, 0, 0, 0, 0, 0, 0, 0]\n",
            "1908: [0, 0, 0, 0, 0, 0, 0, 0, 0]\n",
            "1909: [0, 0, 0, 0, 0, 0, 0, 0, 0]\n",
            "1910: [0, 0, 0, 0, 0, 0, 0, 0, 0]\n",
            "1911: [0, 0, 0, 0, 0, 0, 0, 0, 0]\n",
            "1912: [0, 0, 0, 0, 0, 0, 0, 0, 1]\n",
            "1913: [0, 0, 0, 0, 0, 0, 0, 0, 0]\n",
            "1914: [0, 0, 0, 0, 0, 0, 0, 0, 0]\n",
            "1915: [0, 0, 0, 0, 0, 0, 0, 0, 0]\n",
            "1916: [0, 0, 0, 0, 0, 0, 0, 0, 1]\n",
            "1917: [0, 0, 0, 0, 0, 0, 0, 0, 0]\n",
            "1918: [0, 0, 0, 0, 0, 0, 0, 0, 1]\n",
            "1919: [0, 0, 0, 0, 0, 0, 0, 0, 0]\n",
            "1920: [0, 0, 0, 0, 0, 0, 0, 0, 0]\n",
            "1921: [0, 0, 0, 0, 0, 0, 0, 0, 0]\n",
            "1922: [0, 0, 0, 0, 0, 0, 0, 0, 0]\n",
            "1923: [0, 0, 0, 0, 0, 0, 0, 0, 0]\n",
            "1924: [0, 0, 0, 0, 0, 0, 0, 0, 0]\n",
            "1925: [0, 0, 0, 0, 0, 0, 0, 0, 1]\n",
            "1926: [0, 0, 0, 0, 0, 0, 0, 0, 1]\n",
            "1927: [0, 0, 0, 0, 0, 0, 0, 0, 0]\n",
            "1928: [0, 0, 0, 0, 0, 0, 0, 0, 0]\n",
            "1929: [1, 0, 0, 0, 0, 0, 0, 0, 0]\n",
            "1930: [0, 0, 0, 0, 0, 0, 0, 0, 2]\n",
            "1931: [1, 0, 0, 0, 0, 0, 0, 0, 1]\n",
            "1932: [0, 0, 0, 0, 0, 0, 0, 0, 2]\n",
            "1933: [0, 0, 0, 0, 0, 0, 0, 0, 1]\n",
            "1934: [0, 0, 0, 0, 0, 0, 0, 0, 2]\n",
            "1935: [0, 0, 0, 0, 0, 0, 0, 0, 2]\n",
            "1936: [0, 0, 0, 0, 0, 0, 0, 0, 4]\n",
            "1937: [0, 0, 0, 0, 0, 0, 0, 0, 163]\n",
            "1938: [0, 0, 0, 0, 0, 0, 0, 0, 195]\n",
            "1939: [0, 0, 0, 0, 0, 0, 0, 0, 157]\n",
            "1940: [1, 0, 0, 0, 0, 0, 0, 0, 188]\n",
            "1941: [0, 0, 0, 0, 0, 0, 0, 0, 144]\n",
            "1942: [0, 0, 0, 0, 0, 0, 0, 0, 105]\n",
            "1943: [0, 0, 0, 0, 0, 0, 0, 0, 91]\n",
            "1944: [0, 0, 0, 0, 0, 0, 0, 0, 72]\n",
            "1945: [0, 0, 0, 0, 0, 0, 0, 0, 89]\n",
            "1946: [0, 0, 0, 0, 0, 0, 0, 0, 83]\n",
            "1947: [0, 0, 0, 0, 0, 0, 0, 0, 100]\n",
            "1948: [0, 0, 0, 0, 0, 0, 0, 0, 113]\n",
            "1949: [0, 0, 0, 0, 0, 0, 0, 0, 130]\n",
            "1950: [0, 0, 0, 0, 0, 0, 0, 0, 99]\n",
            "1951: [0, 0, 0, 0, 0, 0, 0, 0, 97]\n",
            "1952: [0, 0, 0, 0, 0, 0, 0, 0, 78]\n",
            "1953: [0, 0, 0, 0, 0, 0, 0, 0, 127]\n",
            "1954: [0, 0, 0, 0, 0, 0, 0, 0, 141]\n",
            "1955: [1, 0, 0, 0, 0, 0, 0, 0, 165]\n",
            "1956: [0, 0, 0, 0, 0, 0, 0, 0, 172]\n",
            "1957: [1, 1, 0, 1, 0, 0, 0, 0, 137]\n",
            "1958: [0, 0, 0, 0, 0, 0, 0, 0, 194]\n",
            "1959: [0, 0, 0, 0, 0, 0, 0, 0, 161]\n",
            "1960: [0, 0, 0, 0, 0, 0, 1, 0, 192]\n",
            "1961: [0, 0, 0, 0, 0, 0, 0, 0, 199]\n",
            "1962: [0, 0, 0, 0, 0, 0, 0, 0, 185]\n",
            "1963: [0, 0, 0, 0, 0, 0, 0, 0, 159]\n",
            "1964: [0, 1, 0, 0, 0, 0, 0, 0, 119]\n",
            "1965: [0, 0, 0, 0, 0, 0, 0, 0, 86]\n",
            "1966: [0, 0, 0, 0, 0, 0, 0, 0, 87]\n",
            "1967: [0, 0, 0, 0, 0, 0, 0, 0, 84]\n",
            "1968: [0, 0, 0, 0, 0, 0, 0, 0, 84]\n",
            "1969: [0, 0, 0, 0, 0, 0, 0, 0, 54]\n",
            "1970: [3, 0, 0, 0, 0, 0, 0, 0, 59]\n",
            "1971: [0, 0, 0, 0, 0, 0, 0, 0, 75]\n",
            "1972: [1, 0, 0, 0, 0, 0, 0, 0, 43]\n",
            "1973: [0, 1, 0, 1, 0, 0, 0, 0, 69]\n",
            "1974: [0, 0, 0, 0, 0, 0, 0, 0, 57]\n",
            "1975: [0, 0, 1, 0, 0, 0, 0, 0, 51]\n",
            "1976: [1, 0, 0, 0, 0, 0, 0, 0, 25]\n",
            "1977: [0, 0, 0, 0, 0, 0, 0, 0, 12]\n",
            "1978: [1, 0, 0, 0, 0, 0, 0, 0, 47]\n",
            "1979: [1, 0, 0, 0, 0, 0, 0, 0, 104]\n",
            "1980: [2, 0, 1, 0, 0, 0, 0, 0, 1170]\n",
            "1981: [4, 0, 0, 0, 0, 0, 3, 0, 2614]\n",
            "1982: [0, 0, 0, 0, 0, 0, 0, 0, 3254]\n",
            "1983: [3, 0, 1, 0, 0, 0, 0, 0, 2478]\n",
            "1984: [0, 0, 0, 0, 0, 0, 1, 0, 2469]\n",
            "1985: [2, 0, 0, 0, 0, 0, 1, 0, 2492]\n",
            "1986: [0, 0, 0, 0, 0, 0, 0, 0, 2562]\n",
            "1987: [2, 2, 0, 0, 0, 0, 0, 0, 2745]\n",
            "1988: [1, 0, 2, 0, 0, 0, 0, 0, 3033]\n",
            "1989: [1, 1, 0, 0, 0, 0, 0, 0, 2972]\n",
            "1990: [5, 2, 2, 0, 0, 0, 0, 0, 2849]\n",
            "1991: [2, 6, 1, 0, 0, 0, 0, 1, 2612]\n",
            "1992: [5, 3, 1, 0, 0, 0, 1, 0, 2281]\n",
            "1993: [7, 3, 0, 0, 0, 0, 0, 0, 2339]\n",
            "1994: [3, 0, 2, 0, 0, 0, 2, 0, 1983]\n",
            "1995: [2, 1, 2, 0, 0, 0, 1, 0, 1949]\n",
            "1996: [6, 2, 2, 0, 0, 0, 0, 0, 1797]\n",
            "1997: [3, 0, 1, 0, 0, 0, 0, 0, 1676]\n",
            "1998: [6, 2, 2, 0, 0, 0, 0, 0, 1650]\n",
            "1999: [13, 2, 1, 0, 0, 0, 1, 1, 1627]\n",
            "2000: [9, 2, 0, 0, 0, 0, 0, 0, 1481]\n",
            "2001: [22, 2, 1, 0, 0, 0, 2, 0, 1543]\n",
            "2002: [34, 2, 3, 1, 0, 0, 0, 0, 1479]\n",
            "2003: [77, 12, 7, 1, 0, 0, 3, 0, 1522]\n",
            "2004: [69, 18, 9, 2, 0, 2, 4, 0, 1457]\n",
            "2005: [85, 13, 19, 5, 0, 0, 0, 1, 1533]\n",
            "2006: [117, 22, 23, 3, 0, 0, 3, 3, 1488]\n",
            "2007: [124, 28, 20, 2, 0, 0, 3, 1, 1424]\n",
            "2008: [120, 26, 28, 5, 0, 0, 6, 0, 1484]\n",
            "2009: [135, 26, 22, 5, 0, 1, 0, 1, 1480]\n",
            "2010: [88, 24, 21, 1, 0, 1, 2, 1, 1359]\n",
            "2011: [125, 48, 26, 2, 0, 1, 6, 1, 1169]\n",
            "2012: [174, 91, 24, 2, 0, 2, 9, 4, 1151]\n",
            "2013: [188, 100, 24, 3, 1, 0, 11, 1, 1280]\n",
            "2014: [264, 117, 40, 10, 0, 0, 29, 7, 1334]\n",
            "2015: [488, 271, 42, 29, 0, 0, 126, 8, 1299]\n",
            "2016: [598, 376, 75, 38, 0, 3, 63, 86, 1297]\n",
            "2017: [650, 361, 155, 34, 2, 3, 20, 87, 1342]\n",
            "2018: [554, 362, 163, 40, 4, 0, 17, 24, 1471]\n",
            "2019: [625, 398, 187, 52, 1, 0, 16, 7, 1547]\n",
            "2020: [1122, 893, 342, 83, 2, 6, 26, 19, 3535]\n",
            "2021: [964, 675, 290, 68, 2, 1, 37, 15, 1813]\n",
            "2022: [359, 260, 142, 41, 0, 1, 8, 4, 146]\n",
            "\n",
            "\n",
            "A total of 14042 records have known death years AND race records out of the total 121,840 records. \n"
          ]
        }
      ],
      "source": [
        "rt_group_dict = {\n",
        "}\n",
        "\n",
        "year_group = df['DBF'] # Use DBF year as estimator for DOD year if DOD year is unknown\n",
        "dod_group = df['DOD']\n",
        "race_group = df['RaceEthnicity']\n",
        "year_range = range(1900, 2023)\n",
        "known_count = 0\n",
        "for year in year_range:\n",
        "    race_list = [0, 0, 0, 0, 0, 0, 0, 0, 0] # W, B, H, A, PI, NA, M, O, U\n",
        "    for group, d_group, r_group in zip(year_group, dod_group, race_group):\n",
        "        if ((str(year) == (str(group))[-4:]) and (len(str(group)) == 10)) or ((str(year) == (str(d_group))[-4:]) and (len(str(d_group)) == 10)):\n",
        "            r_group = str(r_group).upper()\n",
        "            if \"WHITE\" in r_group or \"W\" == r_group:\n",
        "                race_list[0] += 1\n",
        "                known_count += 1\n",
        "            elif \"BLACK\" in r_group or \"B\" == r_group:\n",
        "                race_list[1] += 1\n",
        "                known_count += 1\n",
        "            elif \"HISPANIC\" in r_group or \"W(H)\" == r_group:\n",
        "                race_list[2] += 1\n",
        "                known_count += 1\n",
        "            elif (\"ASIAN\" in r_group and \"White\" not in r_group) or \"A\" == r_group:\n",
        "                race_list[3] += 1\n",
        "                known_count += 1\n",
        "            elif \"PACIFIC ISLANDER\" in r_group or \"HAWAIIAN\" in r_group:\n",
        "                race_list[4] += 1\n",
        "                known_count += 1\n",
        "            elif \"NATIVE\" in r_group:\n",
        "                race_list[5] += 1\n",
        "                known_count += 1\n",
        "            elif \"MULTIPLE\" in r_group or \"M\" == r_group:\n",
        "                race_list[6] += 1\n",
        "                known_count += 1\n",
        "            elif \"OTHER\" in r_group or \"O\" == r_group:\n",
        "                race_list[7] += 1\n",
        "                known_count += 1\n",
        "            else:\n",
        "                race_list[8] += 1\n",
        "    rt_group_dict[str(year)] = race_list\n",
        "\n",
        "print(\"Death year divisions are as follows: \")\n",
        "for key, val in rt_group_dict.items():\n",
        "    print(key + \": \" + str(val))\n",
        "print(\"\\n\")\n",
        "print(\"A total of \" + str(known_count) + \" records have known death years AND race records out of the total 121,840 records. \")"
      ]
    },
    {
      "cell_type": "code",
      "execution_count": null,
      "metadata": {
        "colab": {
          "base_uri": "https://localhost:8080/",
          "height": 424
        },
        "id": "yHibssDhXNqo",
        "outputId": "55284207-07d9-4442-b1a1-08d44e06a048"
      },
      "outputs": [
        {
          "data": {
            "text/html": [
              "\n",
              "  <div id=\"df-f0dd1852-4674-4e83-9ba3-8dc214f2872b\">\n",
              "    <div class=\"colab-df-container\">\n",
              "      <div>\n",
              "<style scoped>\n",
              "    .dataframe tbody tr th:only-of-type {\n",
              "        vertical-align: middle;\n",
              "    }\n",
              "\n",
              "    .dataframe tbody tr th {\n",
              "        vertical-align: top;\n",
              "    }\n",
              "\n",
              "    .dataframe thead th {\n",
              "        text-align: right;\n",
              "    }\n",
              "</style>\n",
              "<table border=\"1\" class=\"dataframe\">\n",
              "  <thead>\n",
              "    <tr style=\"text-align: right;\">\n",
              "      <th></th>\n",
              "      <th>White / Caucasian</th>\n",
              "      <th>Black / African American</th>\n",
              "      <th>Hispanic / Latino</th>\n",
              "      <th>Asian</th>\n",
              "      <th>Pacific Islander / Hawaiian</th>\n",
              "      <th>American Indian / Alaskan Native</th>\n",
              "      <th>Multiple</th>\n",
              "      <th>Other</th>\n",
              "      <th>Unknown</th>\n",
              "    </tr>\n",
              "  </thead>\n",
              "  <tbody>\n",
              "    <tr>\n",
              "      <th>1900</th>\n",
              "      <td>0</td>\n",
              "      <td>0</td>\n",
              "      <td>0</td>\n",
              "      <td>0</td>\n",
              "      <td>0</td>\n",
              "      <td>0</td>\n",
              "      <td>0</td>\n",
              "      <td>0</td>\n",
              "      <td>3</td>\n",
              "    </tr>\n",
              "    <tr>\n",
              "      <th>1901</th>\n",
              "      <td>0</td>\n",
              "      <td>0</td>\n",
              "      <td>0</td>\n",
              "      <td>0</td>\n",
              "      <td>0</td>\n",
              "      <td>0</td>\n",
              "      <td>0</td>\n",
              "      <td>0</td>\n",
              "      <td>0</td>\n",
              "    </tr>\n",
              "    <tr>\n",
              "      <th>1902</th>\n",
              "      <td>0</td>\n",
              "      <td>0</td>\n",
              "      <td>0</td>\n",
              "      <td>0</td>\n",
              "      <td>0</td>\n",
              "      <td>0</td>\n",
              "      <td>0</td>\n",
              "      <td>0</td>\n",
              "      <td>0</td>\n",
              "    </tr>\n",
              "    <tr>\n",
              "      <th>1903</th>\n",
              "      <td>0</td>\n",
              "      <td>0</td>\n",
              "      <td>0</td>\n",
              "      <td>0</td>\n",
              "      <td>0</td>\n",
              "      <td>0</td>\n",
              "      <td>0</td>\n",
              "      <td>0</td>\n",
              "      <td>0</td>\n",
              "    </tr>\n",
              "    <tr>\n",
              "      <th>1904</th>\n",
              "      <td>0</td>\n",
              "      <td>0</td>\n",
              "      <td>0</td>\n",
              "      <td>0</td>\n",
              "      <td>0</td>\n",
              "      <td>0</td>\n",
              "      <td>0</td>\n",
              "      <td>0</td>\n",
              "      <td>0</td>\n",
              "    </tr>\n",
              "    <tr>\n",
              "      <th>...</th>\n",
              "      <td>...</td>\n",
              "      <td>...</td>\n",
              "      <td>...</td>\n",
              "      <td>...</td>\n",
              "      <td>...</td>\n",
              "      <td>...</td>\n",
              "      <td>...</td>\n",
              "      <td>...</td>\n",
              "      <td>...</td>\n",
              "    </tr>\n",
              "    <tr>\n",
              "      <th>2018</th>\n",
              "      <td>554</td>\n",
              "      <td>362</td>\n",
              "      <td>163</td>\n",
              "      <td>40</td>\n",
              "      <td>4</td>\n",
              "      <td>0</td>\n",
              "      <td>17</td>\n",
              "      <td>24</td>\n",
              "      <td>1471</td>\n",
              "    </tr>\n",
              "    <tr>\n",
              "      <th>2019</th>\n",
              "      <td>625</td>\n",
              "      <td>398</td>\n",
              "      <td>187</td>\n",
              "      <td>52</td>\n",
              "      <td>1</td>\n",
              "      <td>0</td>\n",
              "      <td>16</td>\n",
              "      <td>7</td>\n",
              "      <td>1547</td>\n",
              "    </tr>\n",
              "    <tr>\n",
              "      <th>2020</th>\n",
              "      <td>1122</td>\n",
              "      <td>893</td>\n",
              "      <td>342</td>\n",
              "      <td>83</td>\n",
              "      <td>2</td>\n",
              "      <td>6</td>\n",
              "      <td>26</td>\n",
              "      <td>19</td>\n",
              "      <td>3535</td>\n",
              "    </tr>\n",
              "    <tr>\n",
              "      <th>2021</th>\n",
              "      <td>964</td>\n",
              "      <td>675</td>\n",
              "      <td>290</td>\n",
              "      <td>68</td>\n",
              "      <td>2</td>\n",
              "      <td>1</td>\n",
              "      <td>37</td>\n",
              "      <td>15</td>\n",
              "      <td>1813</td>\n",
              "    </tr>\n",
              "    <tr>\n",
              "      <th>2022</th>\n",
              "      <td>359</td>\n",
              "      <td>260</td>\n",
              "      <td>142</td>\n",
              "      <td>41</td>\n",
              "      <td>0</td>\n",
              "      <td>1</td>\n",
              "      <td>8</td>\n",
              "      <td>4</td>\n",
              "      <td>146</td>\n",
              "    </tr>\n",
              "  </tbody>\n",
              "</table>\n",
              "<p>123 rows × 9 columns</p>\n",
              "</div>\n",
              "      <button class=\"colab-df-convert\" onclick=\"convertToInteractive('df-f0dd1852-4674-4e83-9ba3-8dc214f2872b')\"\n",
              "              title=\"Convert this dataframe to an interactive table.\"\n",
              "              style=\"display:none;\">\n",
              "        \n",
              "  <svg xmlns=\"http://www.w3.org/2000/svg\" height=\"24px\"viewBox=\"0 0 24 24\"\n",
              "       width=\"24px\">\n",
              "    <path d=\"M0 0h24v24H0V0z\" fill=\"none\"/>\n",
              "    <path d=\"M18.56 5.44l.94 2.06.94-2.06 2.06-.94-2.06-.94-.94-2.06-.94 2.06-2.06.94zm-11 1L8.5 8.5l.94-2.06 2.06-.94-2.06-.94L8.5 2.5l-.94 2.06-2.06.94zm10 10l.94 2.06.94-2.06 2.06-.94-2.06-.94-.94-2.06-.94 2.06-2.06.94z\"/><path d=\"M17.41 7.96l-1.37-1.37c-.4-.4-.92-.59-1.43-.59-.52 0-1.04.2-1.43.59L10.3 9.45l-7.72 7.72c-.78.78-.78 2.05 0 2.83L4 21.41c.39.39.9.59 1.41.59.51 0 1.02-.2 1.41-.59l7.78-7.78 2.81-2.81c.8-.78.8-2.07 0-2.86zM5.41 20L4 18.59l7.72-7.72 1.47 1.35L5.41 20z\"/>\n",
              "  </svg>\n",
              "      </button>\n",
              "      \n",
              "  <style>\n",
              "    .colab-df-container {\n",
              "      display:flex;\n",
              "      flex-wrap:wrap;\n",
              "      gap: 12px;\n",
              "    }\n",
              "\n",
              "    .colab-df-convert {\n",
              "      background-color: #E8F0FE;\n",
              "      border: none;\n",
              "      border-radius: 50%;\n",
              "      cursor: pointer;\n",
              "      display: none;\n",
              "      fill: #1967D2;\n",
              "      height: 32px;\n",
              "      padding: 0 0 0 0;\n",
              "      width: 32px;\n",
              "    }\n",
              "\n",
              "    .colab-df-convert:hover {\n",
              "      background-color: #E2EBFA;\n",
              "      box-shadow: 0px 1px 2px rgba(60, 64, 67, 0.3), 0px 1px 3px 1px rgba(60, 64, 67, 0.15);\n",
              "      fill: #174EA6;\n",
              "    }\n",
              "\n",
              "    [theme=dark] .colab-df-convert {\n",
              "      background-color: #3B4455;\n",
              "      fill: #D2E3FC;\n",
              "    }\n",
              "\n",
              "    [theme=dark] .colab-df-convert:hover {\n",
              "      background-color: #434B5C;\n",
              "      box-shadow: 0px 1px 3px 1px rgba(0, 0, 0, 0.15);\n",
              "      filter: drop-shadow(0px 1px 2px rgba(0, 0, 0, 0.3));\n",
              "      fill: #FFFFFF;\n",
              "    }\n",
              "  </style>\n",
              "\n",
              "      <script>\n",
              "        const buttonEl =\n",
              "          document.querySelector('#df-f0dd1852-4674-4e83-9ba3-8dc214f2872b button.colab-df-convert');\n",
              "        buttonEl.style.display =\n",
              "          google.colab.kernel.accessAllowed ? 'block' : 'none';\n",
              "\n",
              "        async function convertToInteractive(key) {\n",
              "          const element = document.querySelector('#df-f0dd1852-4674-4e83-9ba3-8dc214f2872b');\n",
              "          const dataTable =\n",
              "            await google.colab.kernel.invokeFunction('convertToInteractive',\n",
              "                                                     [key], {});\n",
              "          if (!dataTable) return;\n",
              "\n",
              "          const docLinkHtml = 'Like what you see? Visit the ' +\n",
              "            '<a target=\"_blank\" href=https://colab.research.google.com/notebooks/data_table.ipynb>data table notebook</a>'\n",
              "            + ' to learn more about interactive tables.';\n",
              "          element.innerHTML = '';\n",
              "          dataTable['output_type'] = 'display_data';\n",
              "          await google.colab.output.renderOutput(dataTable, element);\n",
              "          const docLink = document.createElement('div');\n",
              "          docLink.innerHTML = docLinkHtml;\n",
              "          element.appendChild(docLink);\n",
              "        }\n",
              "      </script>\n",
              "    </div>\n",
              "  </div>\n",
              "  "
            ],
            "text/plain": [
              "      White / Caucasian  Black / African American  Hispanic / Latino  Asian  \\\n",
              "1900                  0                         0                  0      0   \n",
              "1901                  0                         0                  0      0   \n",
              "1902                  0                         0                  0      0   \n",
              "1903                  0                         0                  0      0   \n",
              "1904                  0                         0                  0      0   \n",
              "...                 ...                       ...                ...    ...   \n",
              "2018                554                       362                163     40   \n",
              "2019                625                       398                187     52   \n",
              "2020               1122                       893                342     83   \n",
              "2021                964                       675                290     68   \n",
              "2022                359                       260                142     41   \n",
              "\n",
              "      Pacific Islander / Hawaiian  American Indian / Alaskan Native  Multiple  \\\n",
              "1900                            0                                 0         0   \n",
              "1901                            0                                 0         0   \n",
              "1902                            0                                 0         0   \n",
              "1903                            0                                 0         0   \n",
              "1904                            0                                 0         0   \n",
              "...                           ...                               ...       ...   \n",
              "2018                            4                                 0        17   \n",
              "2019                            1                                 0        16   \n",
              "2020                            2                                 6        26   \n",
              "2021                            2                                 1        37   \n",
              "2022                            0                                 1         8   \n",
              "\n",
              "      Other  Unknown  \n",
              "1900      0        3  \n",
              "1901      0        0  \n",
              "1902      0        0  \n",
              "1903      0        0  \n",
              "1904      0        0  \n",
              "...     ...      ...  \n",
              "2018     24     1471  \n",
              "2019      7     1547  \n",
              "2020     19     3535  \n",
              "2021     15     1813  \n",
              "2022      4      146  \n",
              "\n",
              "[123 rows x 9 columns]"
            ]
          },
          "execution_count": 418,
          "metadata": {},
          "output_type": "execute_result"
        }
      ],
      "source": [
        "rt_df = pd.DataFrame.from_dict(rt_group_dict, orient = 'index')\n",
        "rt_df.columns = ['White / Caucasian', 'Black / African American', 'Hispanic / Latino', 'Asian', 'Pacific Islander / Hawaiian', 'American Indian / Alaskan Native', 'Multiple', 'Other', 'Unknown']\n",
        "rt_df"
      ]
    },
    {
      "cell_type": "code",
      "execution_count": null,
      "metadata": {
        "colab": {
          "base_uri": "https://localhost:8080/",
          "height": 542
        },
        "id": "Fx8k6r1EEkZT",
        "outputId": "297501aa-ab42-4300-f62c-a7f1a872e945"
      },
      "outputs": [
        {
          "data": {
            "text/html": [
              "<html>\n",
              "<head><meta charset=\"utf-8\" /></head>\n",
              "<body>\n",
              "    <div>            <script src=\"https://cdnjs.cloudflare.com/ajax/libs/mathjax/2.7.5/MathJax.js?config=TeX-AMS-MML_SVG\"></script><script type=\"text/javascript\">if (window.MathJax) {MathJax.Hub.Config({SVG: {font: \"STIX-Web\"}});}</script>                <script type=\"text/javascript\">window.PlotlyConfig = {MathJaxConfig: 'local'};</script>\n",
              "        <script src=\"https://cdn.plot.ly/plotly-2.8.3.min.js\"></script>                <div id=\"c3d4b9b2-e108-4b18-97a3-b8efa726563c\" class=\"plotly-graph-div\" style=\"height:525px; width:100%;\"></div>            <script type=\"text/javascript\">                                    window.PLOTLYENV=window.PLOTLYENV || {};                                    if (document.getElementById(\"c3d4b9b2-e108-4b18-97a3-b8efa726563c\")) {                    Plotly.newPlot(                        \"c3d4b9b2-e108-4b18-97a3-b8efa726563c\",                        [{\"alignmentgroup\":\"True\",\"hovertemplate\":\"variable=White / Caucasian<br>x=%{x}<br>value=%{y}<extra></extra>\",\"legendgroup\":\"White / Caucasian\",\"marker\":{\"color\":\"#636efa\",\"pattern\":{\"shape\":\"\"}},\"name\":\"White / Caucasian\",\"offsetgroup\":\"White / Caucasian\",\"orientation\":\"v\",\"showlegend\":true,\"textposition\":\"auto\",\"x\":[1990,1991,1992,1993,1994,1995,1996,1997,1998,1999,2000,2001,2002,2003,2004,2005,2006,2007,2008,2009,2010,2011,2012,2013,2014,2015,2016,2017,2018,2019,2020,2021,2022],\"xaxis\":\"x\",\"y\":[5,2,5,7,3,2,6,3,6,13,9,22,34,77,69,85,117,124,120,135,88,125,174,188,264,488,598,650,554,625,1122,964,359],\"yaxis\":\"y\",\"type\":\"bar\"},{\"alignmentgroup\":\"True\",\"hovertemplate\":\"variable=Black / African American<br>x=%{x}<br>value=%{y}<extra></extra>\",\"legendgroup\":\"Black / African American\",\"marker\":{\"color\":\"#EF553B\",\"pattern\":{\"shape\":\"\"}},\"name\":\"Black / African American\",\"offsetgroup\":\"Black / African American\",\"orientation\":\"v\",\"showlegend\":true,\"textposition\":\"auto\",\"x\":[1990,1991,1992,1993,1994,1995,1996,1997,1998,1999,2000,2001,2002,2003,2004,2005,2006,2007,2008,2009,2010,2011,2012,2013,2014,2015,2016,2017,2018,2019,2020,2021,2022],\"xaxis\":\"x\",\"y\":[2,6,3,3,0,1,2,0,2,2,2,2,2,12,18,13,22,28,26,26,24,48,91,100,117,271,376,361,362,398,893,675,260],\"yaxis\":\"y\",\"type\":\"bar\"},{\"alignmentgroup\":\"True\",\"hovertemplate\":\"variable=Hispanic / Latino<br>x=%{x}<br>value=%{y}<extra></extra>\",\"legendgroup\":\"Hispanic / Latino\",\"marker\":{\"color\":\"#00cc96\",\"pattern\":{\"shape\":\"\"}},\"name\":\"Hispanic / Latino\",\"offsetgroup\":\"Hispanic / Latino\",\"orientation\":\"v\",\"showlegend\":true,\"textposition\":\"auto\",\"x\":[1990,1991,1992,1993,1994,1995,1996,1997,1998,1999,2000,2001,2002,2003,2004,2005,2006,2007,2008,2009,2010,2011,2012,2013,2014,2015,2016,2017,2018,2019,2020,2021,2022],\"xaxis\":\"x\",\"y\":[2,1,1,0,2,2,2,1,2,1,0,1,3,7,9,19,23,20,28,22,21,26,24,24,40,42,75,155,163,187,342,290,142],\"yaxis\":\"y\",\"type\":\"bar\"},{\"alignmentgroup\":\"True\",\"hovertemplate\":\"variable=Asian<br>x=%{x}<br>value=%{y}<extra></extra>\",\"legendgroup\":\"Asian\",\"marker\":{\"color\":\"#ab63fa\",\"pattern\":{\"shape\":\"\"}},\"name\":\"Asian\",\"offsetgroup\":\"Asian\",\"orientation\":\"v\",\"showlegend\":true,\"textposition\":\"auto\",\"x\":[1990,1991,1992,1993,1994,1995,1996,1997,1998,1999,2000,2001,2002,2003,2004,2005,2006,2007,2008,2009,2010,2011,2012,2013,2014,2015,2016,2017,2018,2019,2020,2021,2022],\"xaxis\":\"x\",\"y\":[0,0,0,0,0,0,0,0,0,0,0,0,1,1,2,5,3,2,5,5,1,2,2,3,10,29,38,34,40,52,83,68,41],\"yaxis\":\"y\",\"type\":\"bar\"},{\"alignmentgroup\":\"True\",\"hovertemplate\":\"variable=Pacific Islander / Hawaiian<br>x=%{x}<br>value=%{y}<extra></extra>\",\"legendgroup\":\"Pacific Islander / Hawaiian\",\"marker\":{\"color\":\"#FFA15A\",\"pattern\":{\"shape\":\"\"}},\"name\":\"Pacific Islander / Hawaiian\",\"offsetgroup\":\"Pacific Islander / Hawaiian\",\"orientation\":\"v\",\"showlegend\":true,\"textposition\":\"auto\",\"x\":[1990,1991,1992,1993,1994,1995,1996,1997,1998,1999,2000,2001,2002,2003,2004,2005,2006,2007,2008,2009,2010,2011,2012,2013,2014,2015,2016,2017,2018,2019,2020,2021,2022],\"xaxis\":\"x\",\"y\":[0,0,0,0,0,0,0,0,0,0,0,0,0,0,0,0,0,0,0,0,0,0,0,1,0,0,0,2,4,1,2,2,0],\"yaxis\":\"y\",\"type\":\"bar\"},{\"alignmentgroup\":\"True\",\"hovertemplate\":\"variable=American Indian / Alaskan Native<br>x=%{x}<br>value=%{y}<extra></extra>\",\"legendgroup\":\"American Indian / Alaskan Native\",\"marker\":{\"color\":\"#19d3f3\",\"pattern\":{\"shape\":\"\"}},\"name\":\"American Indian / Alaskan Native\",\"offsetgroup\":\"American Indian / Alaskan Native\",\"orientation\":\"v\",\"showlegend\":true,\"textposition\":\"auto\",\"x\":[1990,1991,1992,1993,1994,1995,1996,1997,1998,1999,2000,2001,2002,2003,2004,2005,2006,2007,2008,2009,2010,2011,2012,2013,2014,2015,2016,2017,2018,2019,2020,2021,2022],\"xaxis\":\"x\",\"y\":[0,0,0,0,0,0,0,0,0,0,0,0,0,0,2,0,0,0,0,1,1,1,2,0,0,0,3,3,0,0,6,1,1],\"yaxis\":\"y\",\"type\":\"bar\"},{\"alignmentgroup\":\"True\",\"hovertemplate\":\"variable=Multiple<br>x=%{x}<br>value=%{y}<extra></extra>\",\"legendgroup\":\"Multiple\",\"marker\":{\"color\":\"#FF6692\",\"pattern\":{\"shape\":\"\"}},\"name\":\"Multiple\",\"offsetgroup\":\"Multiple\",\"orientation\":\"v\",\"showlegend\":true,\"textposition\":\"auto\",\"x\":[1990,1991,1992,1993,1994,1995,1996,1997,1998,1999,2000,2001,2002,2003,2004,2005,2006,2007,2008,2009,2010,2011,2012,2013,2014,2015,2016,2017,2018,2019,2020,2021,2022],\"xaxis\":\"x\",\"y\":[0,0,1,0,2,1,0,0,0,1,0,2,0,3,4,0,3,3,6,0,2,6,9,11,29,126,63,20,17,16,26,37,8],\"yaxis\":\"y\",\"type\":\"bar\"},{\"alignmentgroup\":\"True\",\"hovertemplate\":\"variable=Other<br>x=%{x}<br>value=%{y}<extra></extra>\",\"legendgroup\":\"Other\",\"marker\":{\"color\":\"#B6E880\",\"pattern\":{\"shape\":\"\"}},\"name\":\"Other\",\"offsetgroup\":\"Other\",\"orientation\":\"v\",\"showlegend\":true,\"textposition\":\"auto\",\"x\":[1990,1991,1992,1993,1994,1995,1996,1997,1998,1999,2000,2001,2002,2003,2004,2005,2006,2007,2008,2009,2010,2011,2012,2013,2014,2015,2016,2017,2018,2019,2020,2021,2022],\"xaxis\":\"x\",\"y\":[0,1,0,0,0,0,0,0,0,1,0,0,0,0,0,1,3,1,0,1,1,1,4,1,7,8,86,87,24,7,19,15,4],\"yaxis\":\"y\",\"type\":\"bar\"}],                        {\"template\":{\"data\":{\"bar\":[{\"error_x\":{\"color\":\"#2a3f5f\"},\"error_y\":{\"color\":\"#2a3f5f\"},\"marker\":{\"line\":{\"color\":\"#E5ECF6\",\"width\":0.5},\"pattern\":{\"fillmode\":\"overlay\",\"size\":10,\"solidity\":0.2}},\"type\":\"bar\"}],\"barpolar\":[{\"marker\":{\"line\":{\"color\":\"#E5ECF6\",\"width\":0.5},\"pattern\":{\"fillmode\":\"overlay\",\"size\":10,\"solidity\":0.2}},\"type\":\"barpolar\"}],\"carpet\":[{\"aaxis\":{\"endlinecolor\":\"#2a3f5f\",\"gridcolor\":\"white\",\"linecolor\":\"white\",\"minorgridcolor\":\"white\",\"startlinecolor\":\"#2a3f5f\"},\"baxis\":{\"endlinecolor\":\"#2a3f5f\",\"gridcolor\":\"white\",\"linecolor\":\"white\",\"minorgridcolor\":\"white\",\"startlinecolor\":\"#2a3f5f\"},\"type\":\"carpet\"}],\"choropleth\":[{\"colorbar\":{\"outlinewidth\":0,\"ticks\":\"\"},\"type\":\"choropleth\"}],\"contour\":[{\"colorbar\":{\"outlinewidth\":0,\"ticks\":\"\"},\"colorscale\":[[0.0,\"#0d0887\"],[0.1111111111111111,\"#46039f\"],[0.2222222222222222,\"#7201a8\"],[0.3333333333333333,\"#9c179e\"],[0.4444444444444444,\"#bd3786\"],[0.5555555555555556,\"#d8576b\"],[0.6666666666666666,\"#ed7953\"],[0.7777777777777778,\"#fb9f3a\"],[0.8888888888888888,\"#fdca26\"],[1.0,\"#f0f921\"]],\"type\":\"contour\"}],\"contourcarpet\":[{\"colorbar\":{\"outlinewidth\":0,\"ticks\":\"\"},\"type\":\"contourcarpet\"}],\"heatmap\":[{\"colorbar\":{\"outlinewidth\":0,\"ticks\":\"\"},\"colorscale\":[[0.0,\"#0d0887\"],[0.1111111111111111,\"#46039f\"],[0.2222222222222222,\"#7201a8\"],[0.3333333333333333,\"#9c179e\"],[0.4444444444444444,\"#bd3786\"],[0.5555555555555556,\"#d8576b\"],[0.6666666666666666,\"#ed7953\"],[0.7777777777777778,\"#fb9f3a\"],[0.8888888888888888,\"#fdca26\"],[1.0,\"#f0f921\"]],\"type\":\"heatmap\"}],\"heatmapgl\":[{\"colorbar\":{\"outlinewidth\":0,\"ticks\":\"\"},\"colorscale\":[[0.0,\"#0d0887\"],[0.1111111111111111,\"#46039f\"],[0.2222222222222222,\"#7201a8\"],[0.3333333333333333,\"#9c179e\"],[0.4444444444444444,\"#bd3786\"],[0.5555555555555556,\"#d8576b\"],[0.6666666666666666,\"#ed7953\"],[0.7777777777777778,\"#fb9f3a\"],[0.8888888888888888,\"#fdca26\"],[1.0,\"#f0f921\"]],\"type\":\"heatmapgl\"}],\"histogram\":[{\"marker\":{\"pattern\":{\"fillmode\":\"overlay\",\"size\":10,\"solidity\":0.2}},\"type\":\"histogram\"}],\"histogram2d\":[{\"colorbar\":{\"outlinewidth\":0,\"ticks\":\"\"},\"colorscale\":[[0.0,\"#0d0887\"],[0.1111111111111111,\"#46039f\"],[0.2222222222222222,\"#7201a8\"],[0.3333333333333333,\"#9c179e\"],[0.4444444444444444,\"#bd3786\"],[0.5555555555555556,\"#d8576b\"],[0.6666666666666666,\"#ed7953\"],[0.7777777777777778,\"#fb9f3a\"],[0.8888888888888888,\"#fdca26\"],[1.0,\"#f0f921\"]],\"type\":\"histogram2d\"}],\"histogram2dcontour\":[{\"colorbar\":{\"outlinewidth\":0,\"ticks\":\"\"},\"colorscale\":[[0.0,\"#0d0887\"],[0.1111111111111111,\"#46039f\"],[0.2222222222222222,\"#7201a8\"],[0.3333333333333333,\"#9c179e\"],[0.4444444444444444,\"#bd3786\"],[0.5555555555555556,\"#d8576b\"],[0.6666666666666666,\"#ed7953\"],[0.7777777777777778,\"#fb9f3a\"],[0.8888888888888888,\"#fdca26\"],[1.0,\"#f0f921\"]],\"type\":\"histogram2dcontour\"}],\"mesh3d\":[{\"colorbar\":{\"outlinewidth\":0,\"ticks\":\"\"},\"type\":\"mesh3d\"}],\"parcoords\":[{\"line\":{\"colorbar\":{\"outlinewidth\":0,\"ticks\":\"\"}},\"type\":\"parcoords\"}],\"pie\":[{\"automargin\":true,\"type\":\"pie\"}],\"scatter\":[{\"marker\":{\"colorbar\":{\"outlinewidth\":0,\"ticks\":\"\"}},\"type\":\"scatter\"}],\"scatter3d\":[{\"line\":{\"colorbar\":{\"outlinewidth\":0,\"ticks\":\"\"}},\"marker\":{\"colorbar\":{\"outlinewidth\":0,\"ticks\":\"\"}},\"type\":\"scatter3d\"}],\"scattercarpet\":[{\"marker\":{\"colorbar\":{\"outlinewidth\":0,\"ticks\":\"\"}},\"type\":\"scattercarpet\"}],\"scattergeo\":[{\"marker\":{\"colorbar\":{\"outlinewidth\":0,\"ticks\":\"\"}},\"type\":\"scattergeo\"}],\"scattergl\":[{\"marker\":{\"colorbar\":{\"outlinewidth\":0,\"ticks\":\"\"}},\"type\":\"scattergl\"}],\"scattermapbox\":[{\"marker\":{\"colorbar\":{\"outlinewidth\":0,\"ticks\":\"\"}},\"type\":\"scattermapbox\"}],\"scatterpolar\":[{\"marker\":{\"colorbar\":{\"outlinewidth\":0,\"ticks\":\"\"}},\"type\":\"scatterpolar\"}],\"scatterpolargl\":[{\"marker\":{\"colorbar\":{\"outlinewidth\":0,\"ticks\":\"\"}},\"type\":\"scatterpolargl\"}],\"scatterternary\":[{\"marker\":{\"colorbar\":{\"outlinewidth\":0,\"ticks\":\"\"}},\"type\":\"scatterternary\"}],\"surface\":[{\"colorbar\":{\"outlinewidth\":0,\"ticks\":\"\"},\"colorscale\":[[0.0,\"#0d0887\"],[0.1111111111111111,\"#46039f\"],[0.2222222222222222,\"#7201a8\"],[0.3333333333333333,\"#9c179e\"],[0.4444444444444444,\"#bd3786\"],[0.5555555555555556,\"#d8576b\"],[0.6666666666666666,\"#ed7953\"],[0.7777777777777778,\"#fb9f3a\"],[0.8888888888888888,\"#fdca26\"],[1.0,\"#f0f921\"]],\"type\":\"surface\"}],\"table\":[{\"cells\":{\"fill\":{\"color\":\"#EBF0F8\"},\"line\":{\"color\":\"white\"}},\"header\":{\"fill\":{\"color\":\"#C8D4E3\"},\"line\":{\"color\":\"white\"}},\"type\":\"table\"}]},\"layout\":{\"annotationdefaults\":{\"arrowcolor\":\"#2a3f5f\",\"arrowhead\":0,\"arrowwidth\":1},\"autotypenumbers\":\"strict\",\"coloraxis\":{\"colorbar\":{\"outlinewidth\":0,\"ticks\":\"\"}},\"colorscale\":{\"diverging\":[[0,\"#8e0152\"],[0.1,\"#c51b7d\"],[0.2,\"#de77ae\"],[0.3,\"#f1b6da\"],[0.4,\"#fde0ef\"],[0.5,\"#f7f7f7\"],[0.6,\"#e6f5d0\"],[0.7,\"#b8e186\"],[0.8,\"#7fbc41\"],[0.9,\"#4d9221\"],[1,\"#276419\"]],\"sequential\":[[0.0,\"#0d0887\"],[0.1111111111111111,\"#46039f\"],[0.2222222222222222,\"#7201a8\"],[0.3333333333333333,\"#9c179e\"],[0.4444444444444444,\"#bd3786\"],[0.5555555555555556,\"#d8576b\"],[0.6666666666666666,\"#ed7953\"],[0.7777777777777778,\"#fb9f3a\"],[0.8888888888888888,\"#fdca26\"],[1.0,\"#f0f921\"]],\"sequentialminus\":[[0.0,\"#0d0887\"],[0.1111111111111111,\"#46039f\"],[0.2222222222222222,\"#7201a8\"],[0.3333333333333333,\"#9c179e\"],[0.4444444444444444,\"#bd3786\"],[0.5555555555555556,\"#d8576b\"],[0.6666666666666666,\"#ed7953\"],[0.7777777777777778,\"#fb9f3a\"],[0.8888888888888888,\"#fdca26\"],[1.0,\"#f0f921\"]]},\"colorway\":[\"#636efa\",\"#EF553B\",\"#00cc96\",\"#ab63fa\",\"#FFA15A\",\"#19d3f3\",\"#FF6692\",\"#B6E880\",\"#FF97FF\",\"#FECB52\"],\"font\":{\"color\":\"#2a3f5f\"},\"geo\":{\"bgcolor\":\"white\",\"lakecolor\":\"white\",\"landcolor\":\"#E5ECF6\",\"showlakes\":true,\"showland\":true,\"subunitcolor\":\"white\"},\"hoverlabel\":{\"align\":\"left\"},\"hovermode\":\"closest\",\"mapbox\":{\"style\":\"light\"},\"paper_bgcolor\":\"white\",\"plot_bgcolor\":\"#E5ECF6\",\"polar\":{\"angularaxis\":{\"gridcolor\":\"white\",\"linecolor\":\"white\",\"ticks\":\"\"},\"bgcolor\":\"#E5ECF6\",\"radialaxis\":{\"gridcolor\":\"white\",\"linecolor\":\"white\",\"ticks\":\"\"}},\"scene\":{\"xaxis\":{\"backgroundcolor\":\"#E5ECF6\",\"gridcolor\":\"white\",\"gridwidth\":2,\"linecolor\":\"white\",\"showbackground\":true,\"ticks\":\"\",\"zerolinecolor\":\"white\"},\"yaxis\":{\"backgroundcolor\":\"#E5ECF6\",\"gridcolor\":\"white\",\"gridwidth\":2,\"linecolor\":\"white\",\"showbackground\":true,\"ticks\":\"\",\"zerolinecolor\":\"white\"},\"zaxis\":{\"backgroundcolor\":\"#E5ECF6\",\"gridcolor\":\"white\",\"gridwidth\":2,\"linecolor\":\"white\",\"showbackground\":true,\"ticks\":\"\",\"zerolinecolor\":\"white\"}},\"shapedefaults\":{\"line\":{\"color\":\"#2a3f5f\"}},\"ternary\":{\"aaxis\":{\"gridcolor\":\"white\",\"linecolor\":\"white\",\"ticks\":\"\"},\"baxis\":{\"gridcolor\":\"white\",\"linecolor\":\"white\",\"ticks\":\"\"},\"bgcolor\":\"#E5ECF6\",\"caxis\":{\"gridcolor\":\"white\",\"linecolor\":\"white\",\"ticks\":\"\"}},\"title\":{\"x\":0.05},\"xaxis\":{\"automargin\":true,\"gridcolor\":\"white\",\"linecolor\":\"white\",\"ticks\":\"\",\"title\":{\"standoff\":15},\"zerolinecolor\":\"white\",\"zerolinewidth\":2},\"yaxis\":{\"automargin\":true,\"gridcolor\":\"white\",\"linecolor\":\"white\",\"ticks\":\"\",\"title\":{\"standoff\":15},\"zerolinecolor\":\"white\",\"zerolinewidth\":2}}},\"xaxis\":{\"anchor\":\"y\",\"domain\":[0.0,1.0],\"title\":{\"text\":\"Year of Death\"}},\"yaxis\":{\"anchor\":\"x\",\"domain\":[0.0,1.0],\"title\":{\"text\":\"Number of Indigents\"}},\"legend\":{\"title\":{\"text\":\"Race\"},\"tracegroupgap\":0},\"margin\":{\"t\":60},\"barmode\":\"stack\",\"title\":{\"text\":\"Racial Composition of Indigents Between 1990 and 2022\"}},                        {\"responsive\": true}                    ).then(function(){\n",
              "                            \n",
              "var gd = document.getElementById('c3d4b9b2-e108-4b18-97a3-b8efa726563c');\n",
              "var x = new MutationObserver(function (mutations, observer) {{\n",
              "        var display = window.getComputedStyle(gd).display;\n",
              "        if (!display || display === 'none') {{\n",
              "            console.log([gd, 'removed!']);\n",
              "            Plotly.purge(gd);\n",
              "            observer.disconnect();\n",
              "        }}\n",
              "}});\n",
              "\n",
              "// Listen for the removal of the full notebook cells\n",
              "var notebookContainer = gd.closest('#notebook-container');\n",
              "if (notebookContainer) {{\n",
              "    x.observe(notebookContainer, {childList: true});\n",
              "}}\n",
              "\n",
              "// Listen for the clearing of the current output cell\n",
              "var outputEl = gd.closest('.output');\n",
              "if (outputEl) {{\n",
              "    x.observe(outputEl, {childList: true});\n",
              "}}\n",
              "\n",
              "                        })                };                            </script>        </div>\n",
              "</body>\n",
              "</html>"
            ]
          },
          "metadata": {},
          "output_type": "display_data"
        }
      ],
      "source": [
        "# Race trends over the years\n",
        "fig = px.bar(rt_df[90:], x=range(1990,2023), y=['White / Caucasian', 'Black / African American', 'Hispanic / Latino', 'Asian', 'Pacific Islander / Hawaiian', 'American Indian / Alaskan Native', 'Multiple', 'Other'], orientation = 'v', barmode = 'stack')\n",
        "fig.update_layout(\n",
        "    title=\"Racial Composition of Indigents Between 1990 and 2022\",\n",
        "    xaxis_title=\"Year of Death\",\n",
        "    yaxis_title=\"Number of Indigents\",\n",
        "    legend_title=\"Race\",\n",
        ")\n",
        "fig.show()"
      ]
    },
    {
      "cell_type": "code",
      "execution_count": null,
      "metadata": {
        "colab": {
          "base_uri": "https://localhost:8080/"
        },
        "id": "Vyh7sl3yV-Sn",
        "outputId": "2dab7b37-8d27-417b-9c60-fecf6450d4c6"
      },
      "outputs": [
        {
          "name": "stdout",
          "output_type": "stream",
          "text": [
            "Death year divisions are as follows: \n",
            "1900: [0, 0, 0, 0, 2, 0]\n",
            "1901: [0, 0, 0, 0, 0, 0]\n",
            "1902: [0, 0, 0, 0, 0, 0]\n",
            "1903: [0, 0, 0, 0, 0, 0]\n",
            "1904: [0, 0, 0, 0, 0, 0]\n",
            "1905: [0, 1, 0, 0, 0, 0]\n",
            "1906: [0, 0, 0, 0, 0, 0]\n",
            "1907: [0, 0, 0, 0, 0, 0]\n",
            "1908: [0, 0, 0, 0, 0, 0]\n",
            "1909: [0, 0, 0, 0, 0, 0]\n",
            "1910: [0, 0, 0, 0, 0, 0]\n",
            "1911: [0, 0, 0, 0, 0, 0]\n",
            "1912: [1, 0, 0, 0, 0, 0]\n",
            "1913: [0, 0, 0, 0, 0, 0]\n",
            "1914: [0, 0, 0, 0, 0, 0]\n",
            "1915: [0, 0, 0, 0, 0, 0]\n",
            "1916: [0, 0, 0, 0, 1, 0]\n",
            "1917: [0, 0, 0, 0, 0, 0]\n",
            "1918: [0, 0, 0, 0, 0, 1]\n",
            "1919: [0, 0, 0, 0, 0, 0]\n",
            "1920: [0, 0, 0, 0, 0, 0]\n",
            "1921: [0, 0, 0, 0, 0, 0]\n",
            "1922: [0, 0, 0, 0, 0, 0]\n",
            "1923: [0, 0, 0, 0, 0, 0]\n",
            "1924: [0, 0, 0, 0, 0, 0]\n",
            "1925: [0, 0, 0, 1, 0, 0]\n",
            "1926: [0, 0, 0, 0, 0, 0]\n",
            "1927: [0, 0, 0, 0, 0, 0]\n",
            "1928: [0, 0, 0, 0, 0, 0]\n",
            "1929: [0, 0, 0, 0, 0, 0]\n",
            "1930: [0, 0, 0, 0, 2, 0]\n",
            "1931: [0, 0, 0, 1, 1, 0]\n",
            "1932: [1, 0, 0, 1, 0, 0]\n",
            "1933: [0, 1, 0, 0, 0, 0]\n",
            "1934: [0, 0, 0, 2, 0, 0]\n",
            "1935: [0, 0, 0, 0, 0, 0]\n",
            "1936: [1, 0, 0, 0, 0, 0]\n",
            "1937: [70, 10, 2, 39, 40, 1]\n",
            "1938: [77, 4, 3, 62, 46, 1]\n",
            "1939: [57, 2, 3, 48, 46, 1]\n",
            "1940: [69, 4, 1, 63, 48, 1]\n",
            "1941: [63, 6, 0, 36, 37, 1]\n",
            "1942: [27, 0, 0, 35, 40, 1]\n",
            "1943: [16, 5, 1, 20, 46, 1]\n",
            "1944: [13, 2, 3, 20, 34, 0]\n",
            "1945: [17, 2, 0, 36, 31, 2]\n",
            "1946: [25, 1, 0, 22, 29, 5]\n",
            "1947: [35, 3, 1, 37, 22, 1]\n",
            "1948: [23, 0, 0, 40, 34, 13]\n",
            "1949: [43, 0, 2, 29, 27, 29]\n",
            "1950: [32, 2, 0, 20, 26, 19]\n",
            "1951: [15, 0, 1, 37, 28, 16]\n",
            "1952: [10, 2, 1, 23, 25, 17]\n",
            "1953: [29, 0, 2, 39, 37, 19]\n",
            "1954: [53, 2, 0, 29, 40, 14]\n",
            "1955: [61, 1, 1, 53, 33, 11]\n",
            "1956: [55, 2, 0, 64, 41, 9]\n",
            "1957: [56, 1, 0, 43, 34, 2]\n",
            "1958: [78, 4, 1, 47, 54, 6]\n",
            "1959: [64, 0, 0, 41, 48, 6]\n",
            "1960: [71, 4, 0, 49, 67, 0]\n",
            "1961: [66, 3, 0, 56, 68, 2]\n",
            "1962: [64, 2, 1, 53, 62, 0]\n",
            "1963: [43, 0, 0, 44, 69, 0]\n",
            "1964: [17, 0, 0, 39, 60, 0]\n",
            "1965: [21, 0, 0, 23, 40, 0]\n",
            "1966: [14, 0, 0, 21, 49, 1]\n",
            "1967: [13, 0, 0, 26, 40, 2]\n",
            "1968: [12, 1, 0, 24, 44, 1]\n",
            "1969: [5, 0, 0, 16, 30, 1]\n",
            "1970: [12, 0, 0, 19, 27, 1]\n",
            "1971: [10, 0, 0, 15, 47, 0]\n",
            "1972: [2, 0, 0, 17, 22, 1]\n",
            "1973: [6, 0, 0, 22, 33, 3]\n",
            "1974: [6, 0, 1, 12, 30, 5]\n",
            "1975: [4, 0, 0, 17, 24, 1]\n",
            "1976: [3, 0, 0, 6, 14, 2]\n",
            "1977: [1, 0, 0, 4, 7, 0]\n",
            "1978: [1, 0, 0, 9, 30, 5]\n",
            "1979: [2, 0, 0, 28, 56, 13]\n",
            "1980: [99, 0, 2, 374, 510, 55]\n",
            "1981: [565, 0, 6, 564, 611, 155]\n",
            "1982: [780, 0, 2, 593, 660, 192]\n",
            "1983: [473, 1, 1, 553, 581, 93]\n",
            "1984: [480, 2, 1, 620, 598, 67]\n",
            "1985: [474, 0, 1, 595, 573, 117]\n",
            "1986: [507, 0, 0, 688, 554, 95]\n",
            "1987: [507, 0, 2, 815, 519, 117]\n",
            "1988: [497, 1, 4, 892, 601, 141]\n",
            "1989: [494, 1, 2, 862, 549, 122]\n",
            "1990: [421, 0, 1, 807, 567, 96]\n",
            "1991: [376, 0, 2, 733, 550, 86]\n",
            "1992: [325, 0, 2, 620, 498, 32]\n",
            "1993: [288, 0, 1, 664, 581, 48]\n",
            "1994: [258, 0, 2, 616, 478, 27]\n",
            "1995: [260, 2, 0, 580, 517, 26]\n",
            "1996: [199, 0, 0, 501, 524, 18]\n",
            "1997: [185, 0, 1, 459, 458, 21]\n",
            "1998: [179, 0, 1, 442, 505, 30]\n",
            "1999: [161, 0, 1, 416, 533, 36]\n",
            "2000: [156, 0, 0, 367, 455, 75]\n",
            "2001: [134, 0, 1, 401, 502, 51]\n",
            "2002: [114, 0, 2, 402, 492, 25]\n",
            "2003: [113, 0, 0, 408, 477, 66]\n",
            "2004: [103, 0, 0, 389, 506, 26]\n",
            "2005: [121, 3, 2, 416, 561, 32]\n",
            "2006: [120, 0, 0, 372, 572, 18]\n",
            "2007: [90, 0, 0, 326, 549, 18]\n",
            "2008: [99, 0, 0, 365, 537, 33]\n",
            "2009: [106, 1, 0, 310, 452, 93]\n",
            "2010: [262, 1, 1, 283, 430, 108]\n",
            "2011: [308, 0, 0, 301, 489, 95]\n",
            "2012: [234, 3, 0, 356, 593, 94]\n",
            "2013: [271, 0, 0, 345, 623, 96]\n",
            "2014: [297, 0, 0, 357, 678, 106]\n",
            "2015: [198, 0, 0, 341, 744, 88]\n",
            "2016: [263, 2, 0, 334, 800, 98]\n",
            "2017: [254, 0, 0, 313, 761, 199]\n",
            "2018: [23, 1, 0, 311, 879, 451]\n",
            "2019: [62, 1, 0, 326, 913, 377]\n",
            "2020: [172, 0, 2, 728, 2289, 336]\n",
            "2021: [232, 0, 1, 455, 1086, 111]\n",
            "2022: [18, 0, 0, 8, 25, 37]\n",
            "\n",
            "\n",
            "A total of 62838 records have known death years and age records out of the total 121,840 records. \n"
          ]
        }
      ],
      "source": [
        "infant_labels = [\"min\", \"hours\", \"hr\", \"days\", \"month\", \"newborn\", \"infant\", \"inf\", \"sec\", \"week\", \"wk\"]\n",
        "\n",
        "at_group_dict = {\n",
        "}\n",
        "\n",
        "year_group = df['DOD']\n",
        "age_group = df['Age']\n",
        "year_range = range(1900, 2023)\n",
        "known_count = 0\n",
        "for year in year_range:\n",
        "    age_list = [0, 0, 0, 0, 0, 0] # Inf, Ch, Adolescent, Adult, Elder, Unk\n",
        "    for group, a_group in zip(year_group, age_group):\n",
        "        if ((str(year) == (str(group))[-4:]) and (len(str(group)) == 10)):\n",
        "            if type(a_group) != float: # exclude NaN cells\n",
        "                for label in infant_labels:\n",
        "                    if label in str(a_group).lower() or (a_group.isnumeric() and int(a_group) <= 1): # If a cell contains a string label only infants have, OR the numeric label is 0 or 1\n",
        "                        age_list[0] += 1\n",
        "                        known_count += 1\n",
        "                        break\n",
        "                if a_group.isnumeric():      \n",
        "                    a_group = int(a_group)\n",
        "                    if a_group > 1:\n",
        "                        if a_group < 13: # Children are between 2 and 12\n",
        "                            age_list[1] += 1\n",
        "                            known_count += 1\n",
        "                        elif a_group < 19: # Adolescents are between 13 and 18\n",
        "                            age_list[2] += 1\n",
        "                            known_count += 1\n",
        "                        elif a_group < 60: # Adults are between 19 and 59\n",
        "                            age_list[3] += 1\n",
        "                            known_count += 1\n",
        "                        elif a_group >= 60: # Elders are 60 or older\n",
        "                            age_list[4] += 1\n",
        "                            known_count += 1\n",
        "            else: age_list[5] += 1\n",
        "    at_group_dict[str(year)] = age_list\n",
        "\n",
        "print(\"Death year divisions are as follows: \")\n",
        "for key, val in at_group_dict.items():\n",
        "    print(key + \": \" + str(val))\n",
        "print(\"\\n\")\n",
        "print(\"A total of \" + str(known_count) + \" records have known death years and age records out of the total 121,840 records. \")"
      ]
    },
    {
      "cell_type": "code",
      "execution_count": null,
      "metadata": {
        "colab": {
          "base_uri": "https://localhost:8080/",
          "height": 424
        },
        "id": "gJP74c5TV_Ix",
        "outputId": "cda6fb0f-6e4d-4bd1-ba0d-807d1ec25150"
      },
      "outputs": [
        {
          "ename": "NameError",
          "evalue": "name 'at_group_dict' is not defined",
          "output_type": "error",
          "traceback": [
            "\u001b[0;31m---------------------------------------------------------------------------\u001b[0m",
            "\u001b[0;31mNameError\u001b[0m                                 Traceback (most recent call last)",
            "\u001b[1;32m/Users/abdur-rasheed/Desktop/team-repo.github.io/merged-dataset/merged_dataset_analysis_v2.ipynb Cell 38\u001b[0m in \u001b[0;36m<cell line: 1>\u001b[0;34m()\u001b[0m\n\u001b[0;32m----> <a href='vscode-notebook-cell:/Users/abdur-rasheed/Desktop/team-repo.github.io/merged-dataset/merged_dataset_analysis_v2.ipynb#ch0000037?line=0'>1</a>\u001b[0m at_df \u001b[39m=\u001b[39m pd\u001b[39m.\u001b[39mDataFrame\u001b[39m.\u001b[39mfrom_dict(at_group_dict, orient \u001b[39m=\u001b[39m \u001b[39m'\u001b[39m\u001b[39mindex\u001b[39m\u001b[39m'\u001b[39m)\n\u001b[1;32m      <a href='vscode-notebook-cell:/Users/abdur-rasheed/Desktop/team-repo.github.io/merged-dataset/merged_dataset_analysis_v2.ipynb#ch0000037?line=1'>2</a>\u001b[0m at_df\u001b[39m.\u001b[39mcolumns \u001b[39m=\u001b[39m [\u001b[39m'\u001b[39m\u001b[39mInfant\u001b[39m\u001b[39m'\u001b[39m, \u001b[39m'\u001b[39m\u001b[39mChild\u001b[39m\u001b[39m'\u001b[39m, \u001b[39m'\u001b[39m\u001b[39mAdolescent\u001b[39m\u001b[39m'\u001b[39m, \u001b[39m'\u001b[39m\u001b[39mAdult\u001b[39m\u001b[39m'\u001b[39m, \u001b[39m'\u001b[39m\u001b[39mElder\u001b[39m\u001b[39m'\u001b[39m, \u001b[39m'\u001b[39m\u001b[39mUnknown\u001b[39m\u001b[39m'\u001b[39m]\n\u001b[1;32m      <a href='vscode-notebook-cell:/Users/abdur-rasheed/Desktop/team-repo.github.io/merged-dataset/merged_dataset_analysis_v2.ipynb#ch0000037?line=2'>3</a>\u001b[0m at_df\n",
            "\u001b[0;31mNameError\u001b[0m: name 'at_group_dict' is not defined"
          ]
        }
      ],
      "source": [
        "at_df = pd.DataFrame.from_dict(at_group_dict, orient = 'index')\n",
        "at_df.columns = ['Infant', 'Child', 'Adolescent', 'Adult', 'Elder', 'Unknown']\n",
        "at_df"
      ]
    }
  ],
  "metadata": {
    "colab": {
      "name": "merged-dataset-analysis.ipynb",
      "provenance": []
    },
    "kernelspec": {
      "display_name": "Python 3.8.9 64-bit",
      "language": "python",
      "name": "python3"
    },
    "language_info": {
      "codemirror_mode": {
        "name": "ipython",
        "version": 3
      },
      "file_extension": ".py",
      "mimetype": "text/x-python",
      "name": "python",
      "nbconvert_exporter": "python",
      "pygments_lexer": "ipython3",
      "version": "3.8.9"
    },
    "vscode": {
      "interpreter": {
        "hash": "31f2aee4e71d21fbe5cf8b01ff0e069b9275f58929596ceb00d14d90e3e16cd6"
      }
    }
  },
  "nbformat": 4,
  "nbformat_minor": 0
}
