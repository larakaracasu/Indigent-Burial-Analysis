{
 "cells": [
  {
   "cell_type": "code",
   "execution_count": 1,
   "metadata": {},
   "outputs": [],
   "source": [
    "# Import libraries\n",
    "import requests\n",
    "from bs4 import BeautifulSoup\n",
    "import pandas as pd\n",
    "import os"
   ]
  },
  {
   "cell_type": "code",
   "execution_count": 2,
   "metadata": {},
   "outputs": [
    {
     "name": "stdout",
     "output_type": "stream",
     "text": [
      "\n"
     ]
    }
   ],
   "source": [
    "# Get path to the repo directory\n",
    "dir_path = \"/\".join(os.getcwd().split(\"/\")[:-1])\n",
    "print(dir_path)"
   ]
  },
  {
   "cell_type": "code",
   "execution_count": 3,
   "metadata": {},
   "outputs": [],
   "source": [
    "# Create an URL object\n",
    "url = 'https://projects.oregonlive.com/indigent-burials/indigent.json'\n",
    "# Create object page\n",
    "page = requests.get(url)\n",
    "\n",
    "# print(page.json())"
   ]
  },
  {
   "cell_type": "code",
   "execution_count": 4,
   "metadata": {},
   "outputs": [
    {
     "data": {
      "text/html": [
       "<div>\n",
       "<style scoped>\n",
       "    .dataframe tbody tr th:only-of-type {\n",
       "        vertical-align: middle;\n",
       "    }\n",
       "\n",
       "    .dataframe tbody tr th {\n",
       "        vertical-align: top;\n",
       "    }\n",
       "\n",
       "    .dataframe thead th {\n",
       "        text-align: right;\n",
       "    }\n",
       "</style>\n",
       "<table border=\"1\" class=\"dataframe\">\n",
       "  <thead>\n",
       "    <tr style=\"text-align: right;\">\n",
       "      <th></th>\n",
       "      <th>date</th>\n",
       "      <th>name</th>\n",
       "    </tr>\n",
       "  </thead>\n",
       "  <tbody>\n",
       "    <tr>\n",
       "      <th>0</th>\n",
       "      <td>2000-01-01</td>\n",
       "      <td>BEIGHTS, Karl Wesleu</td>\n",
       "    </tr>\n",
       "    <tr>\n",
       "      <th>1</th>\n",
       "      <td>2000-01-01</td>\n",
       "      <td>CATER, Jon Leslie</td>\n",
       "    </tr>\n",
       "    <tr>\n",
       "      <th>2</th>\n",
       "      <td>2000-01-01</td>\n",
       "      <td>CRAFT, Michael David</td>\n",
       "    </tr>\n",
       "    <tr>\n",
       "      <th>3</th>\n",
       "      <td>2000-01-01</td>\n",
       "      <td>DIETZ, Wendenlin</td>\n",
       "    </tr>\n",
       "    <tr>\n",
       "      <th>4</th>\n",
       "      <td>2000-01-01</td>\n",
       "      <td>DILKA, Richard Earl</td>\n",
       "    </tr>\n",
       "  </tbody>\n",
       "</table>\n",
       "</div>"
      ],
      "text/plain": [
       "        date                  name\n",
       "0 2000-01-01  BEIGHTS, Karl Wesleu\n",
       "1 2000-01-01     CATER, Jon Leslie\n",
       "2 2000-01-01  CRAFT, Michael David\n",
       "3 2000-01-01      DIETZ, Wendenlin\n",
       "4 2000-01-01   DILKA, Richard Earl"
      ]
     },
     "execution_count": 4,
     "metadata": {},
     "output_type": "execute_result"
    }
   ],
   "source": [
    "oregon = pd.read_json(url)\n",
    "oregon.head()"
   ]
  },
  {
   "cell_type": "code",
   "execution_count": 5,
   "metadata": {},
   "outputs": [
    {
     "name": "stdout",
     "output_type": "stream",
     "text": [
      "<class 'pandas.core.frame.DataFrame'>\n",
      "RangeIndex: 6554 entries, 0 to 6553\n",
      "Data columns (total 2 columns):\n",
      " #   Column  Non-Null Count  Dtype         \n",
      "---  ------  --------------  -----         \n",
      " 0   date    6554 non-null   datetime64[ns]\n",
      " 1   name    6554 non-null   object        \n",
      "dtypes: datetime64[ns](1), object(1)\n",
      "memory usage: 102.5+ KB\n"
     ]
    }
   ],
   "source": [
    "oregon.info()"
   ]
  },
  {
   "cell_type": "code",
   "execution_count": 6,
   "metadata": {},
   "outputs": [],
   "source": [
    "oregon['date'] = pd.to_datetime(oregon['date'])"
   ]
  },
  {
   "cell_type": "code",
   "execution_count": 7,
   "metadata": {},
   "outputs": [
    {
     "name": "stderr",
     "output_type": "stream",
     "text": [
      "C:\\Users\\rapid\\AppData\\Local\\Temp\\ipykernel_7460\\1322716237.py:1: FutureWarning: Treating datetime data as categorical rather than numeric in `.describe` is deprecated and will be removed in a future version of pandas. Specify `datetime_is_numeric=True` to silence this warning and adopt the future behavior now.\n",
      "  oregon.describe()\n"
     ]
    },
    {
     "data": {
      "text/html": [
       "<div>\n",
       "<style scoped>\n",
       "    .dataframe tbody tr th:only-of-type {\n",
       "        vertical-align: middle;\n",
       "    }\n",
       "\n",
       "    .dataframe tbody tr th {\n",
       "        vertical-align: top;\n",
       "    }\n",
       "\n",
       "    .dataframe thead th {\n",
       "        text-align: right;\n",
       "    }\n",
       "</style>\n",
       "<table border=\"1\" class=\"dataframe\">\n",
       "  <thead>\n",
       "    <tr style=\"text-align: right;\">\n",
       "      <th></th>\n",
       "      <th>date</th>\n",
       "      <th>name</th>\n",
       "    </tr>\n",
       "  </thead>\n",
       "  <tbody>\n",
       "    <tr>\n",
       "      <th>count</th>\n",
       "      <td>6554</td>\n",
       "      <td>6554</td>\n",
       "    </tr>\n",
       "    <tr>\n",
       "      <th>unique</th>\n",
       "      <td>1556</td>\n",
       "      <td>6528</td>\n",
       "    </tr>\n",
       "    <tr>\n",
       "      <th>top</th>\n",
       "      <td>2015-04-01 00:00:00</td>\n",
       "      <td>Unidentified White Male</td>\n",
       "    </tr>\n",
       "    <tr>\n",
       "      <th>freq</th>\n",
       "      <td>55</td>\n",
       "      <td>5</td>\n",
       "    </tr>\n",
       "    <tr>\n",
       "      <th>first</th>\n",
       "      <td>2000-01-01 00:00:00</td>\n",
       "      <td>NaN</td>\n",
       "    </tr>\n",
       "    <tr>\n",
       "      <th>last</th>\n",
       "      <td>2021-12-29 00:00:00</td>\n",
       "      <td>NaN</td>\n",
       "    </tr>\n",
       "  </tbody>\n",
       "</table>\n",
       "</div>"
      ],
      "text/plain": [
       "                       date                     name\n",
       "count                  6554                     6554\n",
       "unique                 1556                     6528\n",
       "top     2015-04-01 00:00:00  Unidentified White Male\n",
       "freq                     55                        5\n",
       "first   2000-01-01 00:00:00                      NaN\n",
       "last    2021-12-29 00:00:00                      NaN"
      ]
     },
     "execution_count": 7,
     "metadata": {},
     "output_type": "execute_result"
    }
   ],
   "source": [
    "oregon.describe()"
   ]
  },
  {
   "cell_type": "code",
   "execution_count": 8,
   "metadata": {},
   "outputs": [],
   "source": [
    "# Output reviews data to the \"web-scraping\" folder\n",
    "oregon.to_csv((dir_path + \"../web-scraping/oregon/the-unclaimed.csv\"), index=False, encoding='utf-8')\n",
    "\n"
   ]
  },
  {
   "cell_type": "code",
   "execution_count": 9,
   "metadata": {},
   "outputs": [
    {
     "name": "stdout",
     "output_type": "stream",
     "text": [
      "\n",
      "\n",
      "\n",
      "<!DOCTYPE html>\n",
      "<html lang=\"en\" class=\"no-js\">\n",
      "<head>\n",
      "    <meta charset=\"utf-8\" />\n",
      "    <meta http-equiv=\"X-UA-Compatible\" content=\"IE=edge\"><script type=\"text/javascript\">window.NREUM||(NREUM={});NREUM.info = {\"beacon\":\"bam.nr-data.net\",\"errorBeacon\":\"bam.nr-data.net\",\"licenseKey\":\"eac7771f5a\",\"applicationID\":\"1360028078\",\"transactionName\":\"ZldUMkRSWUUEVBFdWV8dezB1HGRfEVIGW0RUcVkIQkFYWglSFxt/X1ZTHg==\",\"queueTime\":0,\"applicationTime\":368,\"agent\":\"\",\"atts\":\"\"}</script><script type=\"text/\n"
     ]
    }
   ],
   "source": [
    "r = requests.get('https://www.dignitymemorial.com/plan-funeral-cremation/veterans/homeless-veterans-program/21-homeless-vet-burials')\n",
    "# print the first 500 characters of the HTML\n",
    "print(r.text[0:500])\n",
    "soup = BeautifulSoup(r.text, 'html.parser')"
   ]
  },
  {
   "cell_type": "code",
   "execution_count": 10,
   "metadata": {},
   "outputs": [],
   "source": [
    "results = soup.find_all('h2')\n",
    "# results"
   ]
  },
  {
   "cell_type": "code",
   "execution_count": 11,
   "metadata": {},
   "outputs": [
    {
     "data": {
      "text/plain": [
       "21"
      ]
     },
     "execution_count": 11,
     "metadata": {},
     "output_type": "execute_result"
    }
   ],
   "source": [
    "len(results)"
   ]
  },
  {
   "cell_type": "code",
   "execution_count": 12,
   "metadata": {},
   "outputs": [
    {
     "data": {
      "text/plain": [
       "[<h2><a class=\"basic-link\" href=\"https://www.dignitymemorial.com/obituaries/phoenix-az/will-shegog-8179335\" rel=\"noopener noreferrer\" target=\"_blank\">Will Melvin Shegog, U.S. Air Force</a></h2>,\n",
       " <h2><a class=\"basic-link\" href=\"https://www.dignitymemorial.com/obituaries/knoxville-tn/ronnie-lundy-8141440\" rel=\"noopener noreferrer\" target=\"_blank\">Ronnie Joe Lundy, U.S. Army</a></h2>,\n",
       " <h2><a class=\"basic-link\" href=\"https://www.dignitymemorial.com/obituaries/lexington-sc/joseph-williams-8710549\" rel=\"noopener noreferrer\" target=\"_blank\">Joseph Lorenzo Williams, U.S. Army</a></h2>]"
      ]
     },
     "execution_count": 12,
     "metadata": {},
     "output_type": "execute_result"
    }
   ],
   "source": [
    "results[:3]"
   ]
  },
  {
   "cell_type": "code",
   "execution_count": 13,
   "metadata": {},
   "outputs": [
    {
     "data": {
      "text/plain": [
       "<h2>\n",
       "Ronald Baker Thomas, U.S. Army\n",
       "</h2>"
      ]
     },
     "execution_count": 13,
     "metadata": {},
     "output_type": "execute_result"
    }
   ],
   "source": [
    "results[-1]"
   ]
  },
  {
   "cell_type": "code",
   "execution_count": 14,
   "metadata": {},
   "outputs": [
    {
     "data": {
      "text/plain": [
       "<h2><a class=\"basic-link\" href=\"https://www.dignitymemorial.com/obituaries/phoenix-az/will-shegog-8179335\" rel=\"noopener noreferrer\" target=\"_blank\">Will Melvin Shegog, U.S. Air Force</a></h2>"
      ]
     },
     "execution_count": 14,
     "metadata": {},
     "output_type": "execute_result"
    }
   ],
   "source": [
    "# Extracting the name\n",
    "first_result = results[0]\n",
    "first_result"
   ]
  },
  {
   "cell_type": "code",
   "execution_count": 15,
   "metadata": {},
   "outputs": [
    {
     "data": {
      "text/plain": [
       "'Will Melvin Shegog, U.S. Air Force'"
      ]
     },
     "execution_count": 15,
     "metadata": {},
     "output_type": "execute_result"
    }
   ],
   "source": [
    "first_result.text\n",
    "#     or \n",
    "# first_result.find('a').text[0:-1]"
   ]
  },
  {
   "cell_type": "code",
   "execution_count": 16,
   "metadata": {},
   "outputs": [
    {
     "data": {
      "text/plain": [
       "'Will Melvin Shegog'"
      ]
     },
     "execution_count": 16,
     "metadata": {},
     "output_type": "execute_result"
    }
   ],
   "source": [
    "first_result.text.split(',')[0]"
   ]
  },
  {
   "cell_type": "code",
   "execution_count": 17,
   "metadata": {},
   "outputs": [
    {
     "data": {
      "text/plain": [
       "['Will Melvin Shegog',\n",
       " 'Ronnie Joe Lundy',\n",
       " 'Joseph Lorenzo Williams',\n",
       " 'Danny Rollin Ballantyne',\n",
       " 'George Charles Babcock',\n",
       " 'James Miske',\n",
       " 'Stephen Jerald Spicer',\n",
       " 'Howard Nicholas Warren',\n",
       " 'Charles Bradley Fox',\n",
       " 'James David Ellis',\n",
       " 'Frank Harmon Wilson',\n",
       " 'Wesley Russell',\n",
       " 'Arnold Martin Klechka',\n",
       " 'James Michael Farrar',\n",
       " 'Charles Joseph Burnett',\n",
       " 'Robert Lee Baker',\n",
       " 'Stephen Sebastian Cunningham',\n",
       " 'George Shaw',\n",
       " 'Richard Lindsay Butterfield',\n",
       " 'Gary Lynn Andrews',\n",
       " 'Ronald Baker Thomas']"
      ]
     },
     "execution_count": 17,
     "metadata": {},
     "output_type": "execute_result"
    }
   ],
   "source": [
    "name_head = []\n",
    "for i in soup.find_all('h2'):\n",
    " title = i.text.split(',')[0].strip()\n",
    " name_head.append(title)\n",
    "name_head"
   ]
  },
  {
   "cell_type": "code",
   "execution_count": 18,
   "metadata": {},
   "outputs": [
    {
     "data": {
      "text/plain": [
       "['U.S. Air Force',\n",
       " 'U.S. Army',\n",
       " 'U.S. Army',\n",
       " 'U.S. Marine Corps',\n",
       " 'U.S. Army',\n",
       " 'U.S. Navy',\n",
       " 'U.S. Army',\n",
       " 'U.S. Army',\n",
       " 'U.S. Marine Corps',\n",
       " 'U.S. Army',\n",
       " 'U.S. Army',\n",
       " 'U.S. Army',\n",
       " 'U.S. Army',\n",
       " 'U.S. Army',\n",
       " 'U.S. Army',\n",
       " 'Jr.',\n",
       " 'U.S. Army',\n",
       " 'U.S. Coast Guard',\n",
       " 'U.S. Marine Corps',\n",
       " 'U.S. Army',\n",
       " 'U.S. Army']"
      ]
     },
     "execution_count": 18,
     "metadata": {},
     "output_type": "execute_result"
    }
   ],
   "source": [
    "main_title = []\n",
    "\n",
    "for x in results:\n",
    "  detail = x.text.split(',')[1].strip()\n",
    "  main_title.append(detail)\n",
    "main_title"
   ]
  },
  {
   "cell_type": "code",
   "execution_count": 19,
   "metadata": {},
   "outputs": [],
   "source": [
    "events = soup.find_all('div', class_ = 'row row-band one-col')\n",
    "records = []\n",
    "for event in events:\n",
    "    event_name = event.find_all('p')[1]\n",
    "    # print(event_name.text)\n",
    "    records.append((event_name))"
   ]
  },
  {
   "cell_type": "code",
   "execution_count": 20,
   "metadata": {},
   "outputs": [],
   "source": [
    "date_record = records[1:]"
   ]
  },
  {
   "cell_type": "code",
   "execution_count": 25,
   "metadata": {},
   "outputs": [
    {
     "data": {
      "text/plain": [
       "[<p>March 24, 1960 – Feb. 15, 2019</p>,\n",
       " <p>Feb. 4, 1955 – Jan. 18, 2019</p>,\n",
       " <p>April 7, 1960 – April 1, 2019</p>,\n",
       " <p>Nov. 15, 1944 – April 30, 2019</p>,\n",
       " <p>Feb. 17, 1940 – June 4, 2019</p>]"
      ]
     },
     "execution_count": 25,
     "metadata": {},
     "output_type": "execute_result"
    }
   ],
   "source": [
    "date_record[0:5]"
   ]
  },
  {
   "cell_type": "code",
   "execution_count": 26,
   "metadata": {},
   "outputs": [
    {
     "data": {
      "text/plain": [
       "<p>\n",
       "Jan. 3, 1946 – Sept. 8, 2019\n",
       "</p>"
      ]
     },
     "execution_count": 26,
     "metadata": {},
     "output_type": "execute_result"
    }
   ],
   "source": [
    "date_record[-1]"
   ]
  }
 ],
 "metadata": {
  "interpreter": {
   "hash": "396ec3599db068b730f3c31fcff11d8f15ee156b078a9c463ed3d59b4ce6130a"
  },
  "kernelspec": {
   "display_name": "Python 3.10.4 64-bit",
   "language": "python",
   "name": "python3"
  },
  "language_info": {
   "codemirror_mode": {
    "name": "ipython",
    "version": 3
   },
   "file_extension": ".py",
   "mimetype": "text/x-python",
   "name": "python",
   "nbconvert_exporter": "python",
   "pygments_lexer": "ipython3",
   "version": "3.10.4"
  },
  "orig_nbformat": 4
 },
 "nbformat": 4,
 "nbformat_minor": 2
}
