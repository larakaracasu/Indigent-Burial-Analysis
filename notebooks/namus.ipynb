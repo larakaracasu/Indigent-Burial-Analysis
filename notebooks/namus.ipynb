{
 "cells": [
  {
   "cell_type": "markdown",
   "metadata": {},
   "source": [
    "### Gathering Data from NamUs"
   ]
  },
  {
   "cell_type": "markdown",
   "metadata": {},
   "source": [
    "NamUs is the National Missing and Unidentified Persons System, which is financed by the United States Department of Justice. NamUs does not provide an API, however it does provide a searchable interface.\n",
    "\n",
    "In this notebook, we will use Selenium with beautifulSoup to retrieve and save data from NamUs as CSV."
   ]
  },
  {
   "cell_type": "code",
   "execution_count": 1,
   "metadata": {},
   "outputs": [],
   "source": [
    "# Import libraries\n",
    "from selenium import webdriver\n",
    "from selenium.webdriver.common.keys import Keys\n",
    "from selenium.webdriver.support.select import Select\n",
    "from webdriver_manager.chrome import ChromeDriverManager\n",
    "import time\n",
    "from bs4 import BeautifulSoup\n",
    "import pandas as pd"
   ]
  },
  {
   "cell_type": "code",
   "execution_count": 2,
   "metadata": {},
   "outputs": [
    {
     "name": "stdout",
     "output_type": "stream",
     "text": [
      "\n"
     ]
    }
   ],
   "source": [
    "# initialize global driver\n",
    "options = webdriver.ChromeOptions()\n",
    "options.add_argument('--ignore-certificate-errors')\n",
    "options.add_argument('--incognito')\n",
    "options.add_argument('--headless')\n",
    "driver = webdriver.Chrome(ChromeDriverManager().install(), options=options)"
   ]
  },
  {
   "cell_type": "code",
   "execution_count": 3,
   "metadata": {},
   "outputs": [],
   "source": [
    "# constants\n",
    "LOCATION = ['Maine']\n",
    "COLUMNS = [\n",
    "    'Case Number',\n",
    "    'DLC',\n",
    "    'Last Name',\n",
    "    'First Name',\n",
    "    'Missing Age',\n",
    "    'City',\n",
    "    'County',\n",
    "    'State',\n",
    "    'Sex',\n",
    "    'Race',\n",
    "    'Date Modified'\n",
    "]"
   ]
  },
  {
   "cell_type": "code",
   "execution_count": 4,
   "metadata": {},
   "outputs": [],
   "source": [
    "# find state filter\n",
    "driver.get(\"https://www.namus.gov/MissingPersons/Search\")\n",
    "section_on_circumstances = driver.find_element_by_id('Circumstances')\n",
    "labels_in_section = section_on_circumstances.find_elements_by_tag_name('label')\n",
    "\n",
    "state_input_box = None\n",
    "\n",
    "for label in labels_in_section:\n",
    "    if (label.text == \"State\"):\n",
    "        state_input_box = label.find_element_by_tag_name('input')\n",
    "        # add state filter\n",
    "        for state in LOCATION:\n",
    "            state_input_box.send_keys(state)\n",
    "            state_input_box.send_keys(Keys.ENTER)\n"
   ]
  },
  {
   "cell_type": "code",
   "execution_count": 5,
   "metadata": {},
   "outputs": [],
   "source": [
    "# navigate to list view\n",
    "buttons_action = driver.find_elements_by_class_name('button-box')[0].find_elements_by_tag_name('input')\n",
    "buttons_action[1].click()"
   ]
  },
  {
   "cell_type": "code",
   "execution_count": 6,
   "metadata": {},
   "outputs": [],
   "source": [
    "# show 100 results at a time\n",
    "time.sleep(1.5)\n",
    "dropdown_selection_results = driver.find_element_by_xpath(\"//label/span[contains(text(),'Results')]/following-sibling::select\")\n",
    "Select(dropdown_selection_results).select_by_value('100')\n",
    "time.sleep(1.5)"
   ]
  },
  {
   "cell_type": "code",
   "execution_count": 7,
   "metadata": {},
   "outputs": [
    {
     "data": {
      "text/html": [
       "<div>\n",
       "<style scoped>\n",
       "    .dataframe tbody tr th:only-of-type {\n",
       "        vertical-align: middle;\n",
       "    }\n",
       "\n",
       "    .dataframe tbody tr th {\n",
       "        vertical-align: top;\n",
       "    }\n",
       "\n",
       "    .dataframe thead th {\n",
       "        text-align: right;\n",
       "    }\n",
       "</style>\n",
       "<table border=\"1\" class=\"dataframe\">\n",
       "  <thead>\n",
       "    <tr style=\"text-align: right;\">\n",
       "      <th></th>\n",
       "      <th>Case Number</th>\n",
       "      <th>DLC</th>\n",
       "      <th>Last Name</th>\n",
       "      <th>First Name</th>\n",
       "      <th>Missing Age</th>\n",
       "      <th>City</th>\n",
       "      <th>County</th>\n",
       "      <th>State</th>\n",
       "      <th>Sex</th>\n",
       "      <th>Race</th>\n",
       "      <th>Date Modified</th>\n",
       "    </tr>\n",
       "  </thead>\n",
       "  <tbody>\n",
       "    <tr>\n",
       "      <th>0</th>\n",
       "      <td>MP3976</td>\n",
       "      <td>05/11/1986</td>\n",
       "      <td>Moreau</td>\n",
       "      <td>Kimberly</td>\n",
       "      <td>17 Years</td>\n",
       "      <td>Jay</td>\n",
       "      <td>Franklin</td>\n",
       "      <td>ME</td>\n",
       "      <td>Female</td>\n",
       "      <td>White / Caucasian</td>\n",
       "      <td>06/24/2022</td>\n",
       "    </tr>\n",
       "  </tbody>\n",
       "</table>\n",
       "</div>"
      ],
      "text/plain": [
       "  Case Number         DLC Last Name First Name Missing Age City    County  \\\n",
       "0      MP3976  05/11/1986    Moreau   Kimberly    17 Years  Jay  Franklin   \n",
       "\n",
       "  State     Sex               Race Date Modified  \n",
       "0    ME  Female  White / Caucasian    06/24/2022  "
      ]
     },
     "execution_count": 7,
     "metadata": {},
     "output_type": "execute_result"
    }
   ],
   "source": [
    "# get row results and store in dataframes\n",
    "df = pd.DataFrame(columns=COLUMNS)\n",
    "soup = BeautifulSoup(driver.page_source, 'lxml')\n",
    "rows = soup.find('div', class_='ui-grid-canvas').contents\n",
    "\n",
    "for row in rows:\n",
    "    if row != ' ':\n",
    "        cells = row.find_all('div', class_='ui-grid-cell-contents')\n",
    "        cells_text = map(lambda cell: cell.text.strip(), cells)\n",
    "        new_df = pd.DataFrame([list(cells_text)], columns=COLUMNS)\n",
    "new_df\n"
   ]
  },
  {
   "cell_type": "code",
   "execution_count": null,
   "metadata": {},
   "outputs": [],
   "source": []
  },
  {
   "cell_type": "code",
   "execution_count": null,
   "metadata": {},
   "outputs": [],
   "source": []
  }
 ],
 "metadata": {
  "kernelspec": {
   "display_name": "Python 3.10.4 64-bit",
   "language": "python",
   "name": "python3"
  },
  "language_info": {
   "codemirror_mode": {
    "name": "ipython",
    "version": 3
   },
   "file_extension": ".py",
   "mimetype": "text/x-python",
   "name": "python",
   "nbconvert_exporter": "python",
   "pygments_lexer": "ipython3",
   "version": "3.10.4"
  },
  "orig_nbformat": 4,
  "vscode": {
   "interpreter": {
    "hash": "396ec3599db068b730f3c31fcff11d8f15ee156b078a9c463ed3d59b4ce6130a"
   }
  }
 },
 "nbformat": 4,
 "nbformat_minor": 2
}
