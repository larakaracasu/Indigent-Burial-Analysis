{
 "cells": [
  {
   "cell_type": "markdown",
   "metadata": {},
   "source": [
    "#Abdur-Rasheed Syed\n",
    "\n",
    "#KingCounty Notebook"
   ]
  },
  {
   "cell_type": "code",
   "execution_count": 6,
   "metadata": {},
   "outputs": [],
   "source": [
    "import pandas as pd\n",
    "import matplotlib.pyplot as plt\n",
    "import seaborn as sns\n",
    "%matplotlib inline\n"
   ]
  },
  {
   "cell_type": "code",
   "execution_count": 13,
   "metadata": {},
   "outputs": [
    {
     "data": {
      "text/html": [
       "<div>\n",
       "<style scoped>\n",
       "    .dataframe tbody tr th:only-of-type {\n",
       "        vertical-align: middle;\n",
       "    }\n",
       "\n",
       "    .dataframe tbody tr th {\n",
       "        vertical-align: top;\n",
       "    }\n",
       "\n",
       "    .dataframe thead th {\n",
       "        text-align: right;\n",
       "    }\n",
       "</style>\n",
       "<table border=\"1\" class=\"dataframe\">\n",
       "  <thead>\n",
       "    <tr style=\"text-align: right;\">\n",
       "      <th></th>\n",
       "      <th>First Name</th>\n",
       "      <th>Middle Name</th>\n",
       "      <th>Last Name</th>\n",
       "      <th>Year of Burial</th>\n",
       "      <th>Jurisdicition</th>\n",
       "      <th>Source URL</th>\n",
       "    </tr>\n",
       "  </thead>\n",
       "  <tbody>\n",
       "    <tr>\n",
       "      <th>0</th>\n",
       "      <td>NaN</td>\n",
       "      <td>NaN</td>\n",
       "      <td>NaN</td>\n",
       "      <td>NaN</td>\n",
       "      <td>NaN</td>\n",
       "      <td>NaN</td>\n",
       "    </tr>\n",
       "    <tr>\n",
       "      <th>1</th>\n",
       "      <td>Virginio</td>\n",
       "      <td>NaN</td>\n",
       "      <td>Aguero-Valle</td>\n",
       "      <td>2019.0</td>\n",
       "      <td>King County</td>\n",
       "      <td>https://kingcounty.gov/depts/health/examiner/s...</td>\n",
       "    </tr>\n",
       "    <tr>\n",
       "      <th>2</th>\n",
       "      <td>Donald</td>\n",
       "      <td>NaN</td>\n",
       "      <td>Anderson</td>\n",
       "      <td>2019.0</td>\n",
       "      <td>King County</td>\n",
       "      <td>https://kingcounty.gov/depts/health/examiner/s...</td>\n",
       "    </tr>\n",
       "    <tr>\n",
       "      <th>3</th>\n",
       "      <td>Lynna</td>\n",
       "      <td>NaN</td>\n",
       "      <td>Anderson</td>\n",
       "      <td>2019.0</td>\n",
       "      <td>King County</td>\n",
       "      <td>https://kingcounty.gov/depts/health/examiner/s...</td>\n",
       "    </tr>\n",
       "    <tr>\n",
       "      <th>4</th>\n",
       "      <td>Floyd</td>\n",
       "      <td>NaN</td>\n",
       "      <td>Angeline</td>\n",
       "      <td>2019.0</td>\n",
       "      <td>King County</td>\n",
       "      <td>https://kingcounty.gov/depts/health/examiner/s...</td>\n",
       "    </tr>\n",
       "    <tr>\n",
       "      <th>5</th>\n",
       "      <td>Delmar</td>\n",
       "      <td>NaN</td>\n",
       "      <td>Anske</td>\n",
       "      <td>2019.0</td>\n",
       "      <td>King County</td>\n",
       "      <td>https://kingcounty.gov/depts/health/examiner/s...</td>\n",
       "    </tr>\n",
       "  </tbody>\n",
       "</table>\n",
       "</div>"
      ],
      "text/plain": [
       "  First Name  Middle Name     Last Name  Year of Burial Jurisdicition  \\\n",
       "0         NaN         NaN           NaN             NaN           NaN   \n",
       "1    Virginio         NaN  Aguero-Valle          2019.0   King County   \n",
       "2      Donald         NaN      Anderson          2019.0   King County   \n",
       "3       Lynna         NaN      Anderson          2019.0   King County   \n",
       "4       Floyd         NaN      Angeline          2019.0   King County   \n",
       "5      Delmar         NaN         Anske          2019.0   King County   \n",
       "\n",
       "                                          Source URL  \n",
       "0                                                NaN  \n",
       "1  https://kingcounty.gov/depts/health/examiner/s...  \n",
       "2  https://kingcounty.gov/depts/health/examiner/s...  \n",
       "3  https://kingcounty.gov/depts/health/examiner/s...  \n",
       "4  https://kingcounty.gov/depts/health/examiner/s...  \n",
       "5  https://kingcounty.gov/depts/health/examiner/s...  "
      ]
     },
     "execution_count": 13,
     "metadata": {},
     "output_type": "execute_result"
    }
   ],
   "source": [
    "# read data\n",
    "data = pd.read_csv('/Users/abdur-rasheed/Desktop/team-repo.github.io/web-scraping/KingCounty/KingCounty Seattle Burial Names  - Sheet1.csv')\n",
    "data.head(6)"
   ]
  },
  {
   "cell_type": "code",
   "execution_count": 11,
   "metadata": {},
   "outputs": [
    {
     "data": {
      "text/plain": [
       "(811, 6)"
      ]
     },
     "execution_count": 11,
     "metadata": {},
     "output_type": "execute_result"
    }
   ],
   "source": [
    "data.shape"
   ]
  },
  {
   "cell_type": "code",
   "execution_count": 14,
   "metadata": {},
   "outputs": [
    {
     "data": {
      "text/plain": [
       "First Name          2\n",
       "Middle Name       562\n",
       "Last Name           1\n",
       "Year of Burial      1\n",
       "Jurisdicition       1\n",
       "Source URL          1\n",
       "dtype: int64"
      ]
     },
     "execution_count": 14,
     "metadata": {},
     "output_type": "execute_result"
    }
   ],
   "source": [
    "data.isnull().sum()"
   ]
  },
  {
   "cell_type": "code",
   "execution_count": 18,
   "metadata": {},
   "outputs": [
    {
     "data": {
      "image/png": "[encoded data removed]",
      "text/plain": [
       "<Figure size 432x288 with 1 Axes>"
      ]
     },
     "metadata": {
      "needs_background": "light"
     },
     "output_type": "display_data"
    }
   ],
   "source": [
    "#create a bar graph of the number of burials per year   \n",
    "sns.countplot(x='Year of Burial', data=data)  #count the number of burials per year\n",
    "plt.show()\n",
    "\n"
   ]
  },
  {
   "cell_type": "code",
   "execution_count": null,
   "metadata": {},
   "outputs": [],
   "source": []
  }
 ],
 "metadata": {
  "kernelspec": {
   "display_name": "Python 3.8.9 64-bit",
   "language": "python",
   "name": "python3"
  },
  "language_info": {
   "codemirror_mode": {
    "name": "ipython",
    "version": 3
   },
   "file_extension": ".py",
   "mimetype": "text/x-python",
   "name": "python",
   "nbconvert_exporter": "python",
   "pygments_lexer": "ipython3",
   "version": "3.8.9"
  },
  "orig_nbformat": 4,
  "vscode": {
   "interpreter": {
    "hash": "31f2aee4e71d21fbe5cf8b01ff0e069b9275f58929596ceb00d14d90e3e16cd6"
   }
  }
 },
 "nbformat": 4,
 "nbformat_minor": 2
}
