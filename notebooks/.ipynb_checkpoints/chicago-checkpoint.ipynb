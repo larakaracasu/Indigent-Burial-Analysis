{
 "cells": [
  {
   "cell_type": "markdown",
   "id": "3bc9cedf",
   "metadata": {},
   "source": [
    "Abdur-Rasheed Syed\n"
   ]
  },
  {
   "cell_type": "code",
   "execution_count": 2,
   "id": "899e2f7f",
   "metadata": {},
   "outputs": [],
   "source": [
    "import pandas as pd\n",
    "import matplotlib.pyplot as plt\n",
    "import seaborn as sns\n",
    "%matplotlib inline"
   ]
  },
  {
   "cell_type": "code",
   "execution_count": null,
   "id": "fe2f464c",
   "metadata": {},
   "outputs": [
    {
     "data": {
      "text/html": [
       "<div>\n",
       "<style scoped>\n",
       "    .dataframe tbody tr th:only-of-type {\n",
       "        vertical-align: middle;\n",
       "    }\n",
       "\n",
       "    .dataframe tbody tr th {\n",
       "        vertical-align: top;\n",
       "    }\n",
       "\n",
       "    .dataframe thead th {\n",
       "        text-align: right;\n",
       "    }\n",
       "</style>\n",
       "<table border=\"1\" class=\"dataframe\">\n",
       "  <thead>\n",
       "    <tr style=\"text-align: right;\">\n",
       "      <th></th>\n",
       "      <th>Case</th>\n",
       "      <th>Name</th>\n",
       "      <th>Age</th>\n",
       "      <th>Sex</th>\n",
       "      <th>Race</th>\n",
       "      <th>Date of Death</th>\n",
       "      <th>Burial Date</th>\n",
       "      <th>Cemetery</th>\n",
       "      <th>Cemetery Address</th>\n",
       "      <th>Grave</th>\n",
       "      <th>Lot</th>\n",
       "      <th>Block</th>\n",
       "      <th>Longitude</th>\n",
       "      <th>Latitude</th>\n",
       "      <th>Name.1</th>\n",
       "      <th>Unnamed: 15</th>\n",
       "      <th>Unnamed: 16</th>\n",
       "      <th>Unnamed: 17</th>\n",
       "      <th>Unnamed: 18</th>\n",
       "      <th>Unnamed: 19</th>\n",
       "    </tr>\n",
       "  </thead>\n",
       "  <tbody>\n",
       "    <tr>\n",
       "      <th>0</th>\n",
       "      <td>ME2018-01659 &amp; 01236</td>\n",
       "      <td>UNKNOWN BONES</td>\n",
       "      <td>U</td>\n",
       "      <td>U</td>\n",
       "      <td>U</td>\n",
       "      <td>4/5/18</td>\n",
       "      <td>11/28/18</td>\n",
       "      <td>Mount Olivet</td>\n",
       "      <td>2755 W 111th St, Chicago, IL 60655</td>\n",
       "      <td>1.0</td>\n",
       "      <td>24.0</td>\n",
       "      <td>3.0</td>\n",
       "      <td>NaN</td>\n",
       "      <td>NaN</td>\n",
       "      <td>UNKNOWN</td>\n",
       "      <td>BONES</td>\n",
       "      <td>NaN</td>\n",
       "      <td>NaN</td>\n",
       "      <td>NaN</td>\n",
       "      <td>NaN</td>\n",
       "    </tr>\n",
       "    <tr>\n",
       "      <th>1</th>\n",
       "      <td>ME2017-04083</td>\n",
       "      <td>UNKNOWN MALE</td>\n",
       "      <td>U</td>\n",
       "      <td>M</td>\n",
       "      <td>W</td>\n",
       "      <td>9/1/17</td>\n",
       "      <td>11/28/18</td>\n",
       "      <td>Mount Olivet</td>\n",
       "      <td>2755 W 111th St, Chicago, IL 60655</td>\n",
       "      <td>8.0</td>\n",
       "      <td>26.0</td>\n",
       "      <td>2.0</td>\n",
       "      <td>NaN</td>\n",
       "      <td>NaN</td>\n",
       "      <td>UNKNOWN</td>\n",
       "      <td>MALE</td>\n",
       "      <td>NaN</td>\n",
       "      <td>NaN</td>\n",
       "      <td>NaN</td>\n",
       "      <td>NaN</td>\n",
       "    </tr>\n",
       "    <tr>\n",
       "      <th>2</th>\n",
       "      <td>ME2017-00254</td>\n",
       "      <td>UNKNOWN MALE</td>\n",
       "      <td>60S</td>\n",
       "      <td>M</td>\n",
       "      <td>W</td>\n",
       "      <td>1/14/17</td>\n",
       "      <td>11/28/18</td>\n",
       "      <td>Mount Olivet</td>\n",
       "      <td>2755 W 111th St, Chicago, IL 60655</td>\n",
       "      <td>7.0</td>\n",
       "      <td>26.0</td>\n",
       "      <td>2.0</td>\n",
       "      <td>NaN</td>\n",
       "      <td>NaN</td>\n",
       "      <td>UNKNOWN</td>\n",
       "      <td>MALE</td>\n",
       "      <td>NaN</td>\n",
       "      <td>NaN</td>\n",
       "      <td>NaN</td>\n",
       "      <td>NaN</td>\n",
       "    </tr>\n",
       "    <tr>\n",
       "      <th>3</th>\n",
       "      <td>ME2016-04451</td>\n",
       "      <td>UNKNOWN</td>\n",
       "      <td>U</td>\n",
       "      <td>U</td>\n",
       "      <td>U</td>\n",
       "      <td>9/13/16</td>\n",
       "      <td>11/29/17</td>\n",
       "      <td>Mount Olivet</td>\n",
       "      <td>2755 W 111th St, Chicago, IL 60655</td>\n",
       "      <td>9.0</td>\n",
       "      <td>26.0</td>\n",
       "      <td>2.0</td>\n",
       "      <td>NaN</td>\n",
       "      <td>NaN</td>\n",
       "      <td>UNKNOWN</td>\n",
       "      <td>NaN</td>\n",
       "      <td>NaN</td>\n",
       "      <td>NaN</td>\n",
       "      <td>NaN</td>\n",
       "      <td>NaN</td>\n",
       "    </tr>\n",
       "    <tr>\n",
       "      <th>4</th>\n",
       "      <td>ME2016-04237</td>\n",
       "      <td>UNKNOWN MALE</td>\n",
       "      <td>U</td>\n",
       "      <td>M</td>\n",
       "      <td>U</td>\n",
       "      <td>9/2/16</td>\n",
       "      <td>11/29/17</td>\n",
       "      <td>Mount Olivet</td>\n",
       "      <td>2755 W 111th St, Chicago, IL 60655</td>\n",
       "      <td>8.0</td>\n",
       "      <td>25.0</td>\n",
       "      <td>2.0</td>\n",
       "      <td>NaN</td>\n",
       "      <td>NaN</td>\n",
       "      <td>UNKNOWN</td>\n",
       "      <td>MALE</td>\n",
       "      <td>NaN</td>\n",
       "      <td>NaN</td>\n",
       "      <td>NaN</td>\n",
       "      <td>NaN</td>\n",
       "    </tr>\n",
       "  </tbody>\n",
       "</table>\n",
       "</div>"
      ],
      "text/plain": [
       "                   Case           Name  Age Sex Race Date of Death  \\\n",
       "0  ME2018-01659 & 01236  UNKNOWN BONES    U   U    U        4/5/18   \n",
       "1          ME2017-04083   UNKNOWN MALE    U   M    W        9/1/17   \n",
       "2          ME2017-00254   UNKNOWN MALE  60S   M    W       1/14/17   \n",
       "3          ME2016-04451        UNKNOWN    U   U    U       9/13/16   \n",
       "4          ME2016-04237   UNKNOWN MALE    U   M    U        9/2/16   \n",
       "\n",
       "  Burial Date      Cemetery                    Cemetery Address  Grave   Lot  \\\n",
       "0    11/28/18  Mount Olivet  2755 W 111th St, Chicago, IL 60655    1.0  24.0   \n",
       "1    11/28/18  Mount Olivet  2755 W 111th St, Chicago, IL 60655    8.0  26.0   \n",
       "2    11/28/18  Mount Olivet  2755 W 111th St, Chicago, IL 60655    7.0  26.0   \n",
       "3    11/29/17  Mount Olivet  2755 W 111th St, Chicago, IL 60655    9.0  26.0   \n",
       "4    11/29/17  Mount Olivet  2755 W 111th St, Chicago, IL 60655    8.0  25.0   \n",
       "\n",
       "   Block  Longitude  Latitude   Name.1 Unnamed: 15 Unnamed: 16 Unnamed: 17  \\\n",
       "0    3.0        NaN       NaN  UNKNOWN       BONES         NaN         NaN   \n",
       "1    2.0        NaN       NaN  UNKNOWN        MALE         NaN         NaN   \n",
       "2    2.0        NaN       NaN  UNKNOWN        MALE         NaN         NaN   \n",
       "3    2.0        NaN       NaN  UNKNOWN         NaN         NaN         NaN   \n",
       "4    2.0        NaN       NaN  UNKNOWN        MALE         NaN         NaN   \n",
       "\n",
       "  Unnamed: 18 Unnamed: 19  \n",
       "0         NaN         NaN  \n",
       "1         NaN         NaN  \n",
       "2         NaN         NaN  \n",
       "3         NaN         NaN  \n",
       "4         NaN         NaN  "
      ]
     },
     "execution_count": 177,
     "metadata": {},
     "output_type": "execute_result"
    }
   ],
   "source": [
    "data=pd.read_csv('Medical_Examiner_-_Burial_Locations.csv')\n",
    "data.head(5)"
   ]
  },
  {
   "cell_type": "code",
   "execution_count": null,
   "id": "a00e15e5",
   "metadata": {},
   "outputs": [],
   "source": []
  },
  {
   "cell_type": "markdown",
   "id": "68e3469d",
   "metadata": {},
   "source": [
    "# Data Analysis"
   ]
  },
  {
   "cell_type": "code",
   "execution_count": null,
   "id": "c099e397",
   "metadata": {},
   "outputs": [
    {
     "data": {
      "text/plain": [
       "(513, 20)"
      ]
     },
     "execution_count": 178,
     "metadata": {},
     "output_type": "execute_result"
    }
   ],
   "source": [
    "data.shape"
   ]
  },
  {
   "cell_type": "code",
   "execution_count": null,
   "id": "f462878e",
   "metadata": {},
   "outputs": [
    {
     "data": {
      "text/plain": [
       "Case                  0\n",
       "Name                  0\n",
       "Age                   0\n",
       "Sex                   0\n",
       "Race                  0\n",
       "Date of Death         0\n",
       "Burial Date           0\n",
       "Cemetery              0\n",
       "Cemetery Address      0\n",
       "Grave               258\n",
       "Lot                 258\n",
       "Block               259\n",
       "Longitude           263\n",
       "Latitude            263\n",
       "Name.1                0\n",
       "Unnamed: 15          11\n",
       "Unnamed: 16         484\n",
       "Unnamed: 17         509\n",
       "Unnamed: 18         511\n",
       "Unnamed: 19         512\n",
       "dtype: int64"
      ]
     },
     "execution_count": 179,
     "metadata": {},
     "output_type": "execute_result"
    }
   ],
   "source": [
    "data.isnull().sum()"
   ]
  },
  {
   "cell_type": "markdown",
   "id": "02f611f1",
   "metadata": {},
   "source": [
    "we can see that there is a lot of missing values in some of the attributes wo we will drop that columns insted of filling the \n",
    "values"
   ]
  },
  {
   "cell_type": "code",
   "execution_count": null,
   "id": "7b8c4933",
   "metadata": {},
   "outputs": [],
   "source": [
    "data.drop(columns=['Grave','Lot','Block','Longitude','Latitude','Unnamed: 15','Unnamed: 16','Unnamed: 17','Unnamed: 18','Unnamed: 19'],inplace=True)"
   ]
  },
  {
   "cell_type": "markdown",
   "id": "0d928081",
   "metadata": {},
   "source": [
    "checking null values again"
   ]
  },
  {
   "cell_type": "code",
   "execution_count": null,
   "id": "d359bb5a",
   "metadata": {},
   "outputs": [
    {
     "data": {
      "text/plain": [
       "Case                0\n",
       "Name                0\n",
       "Age                 0\n",
       "Sex                 0\n",
       "Race                0\n",
       "Date of Death       0\n",
       "Burial Date         0\n",
       "Cemetery            0\n",
       "Cemetery Address    0\n",
       "Name.1              0\n",
       "dtype: int64"
      ]
     },
     "execution_count": 181,
     "metadata": {},
     "output_type": "execute_result"
    }
   ],
   "source": [
    "data.isnull().sum()"
   ]
  },
  {
   "cell_type": "code",
   "execution_count": null,
   "id": "0d050aa6",
   "metadata": {},
   "outputs": [
    {
     "data": {
      "text/html": [
       "<div>\n",
       "<style scoped>\n",
       "    .dataframe tbody tr th:only-of-type {\n",
       "        vertical-align: middle;\n",
       "    }\n",
       "\n",
       "    .dataframe tbody tr th {\n",
       "        vertical-align: top;\n",
       "    }\n",
       "\n",
       "    .dataframe thead th {\n",
       "        text-align: right;\n",
       "    }\n",
       "</style>\n",
       "<table border=\"1\" class=\"dataframe\">\n",
       "  <thead>\n",
       "    <tr style=\"text-align: right;\">\n",
       "      <th></th>\n",
       "      <th>Case</th>\n",
       "      <th>Name</th>\n",
       "      <th>Age</th>\n",
       "      <th>Sex</th>\n",
       "      <th>Race</th>\n",
       "      <th>Date of Death</th>\n",
       "      <th>Cremation Date</th>\n",
       "    </tr>\n",
       "  </thead>\n",
       "  <tbody>\n",
       "    <tr>\n",
       "      <th>0</th>\n",
       "      <td>ME2019-03730</td>\n",
       "      <td>KEVIN DAVIS</td>\n",
       "      <td>47.0</td>\n",
       "      <td>M</td>\n",
       "      <td>B</td>\n",
       "      <td>8/11/19</td>\n",
       "      <td>9/18/19</td>\n",
       "    </tr>\n",
       "    <tr>\n",
       "      <th>1</th>\n",
       "      <td>ME2019-03541</td>\n",
       "      <td>RICKY JURGERSON</td>\n",
       "      <td>61.0</td>\n",
       "      <td>M</td>\n",
       "      <td>W</td>\n",
       "      <td>7/31/19</td>\n",
       "      <td>9/18/19</td>\n",
       "    </tr>\n",
       "    <tr>\n",
       "      <th>2</th>\n",
       "      <td>ME2019-03526</td>\n",
       "      <td>SYBIL SPENCER</td>\n",
       "      <td>91.0</td>\n",
       "      <td>F</td>\n",
       "      <td>B</td>\n",
       "      <td>7/30/19</td>\n",
       "      <td>9/18/19</td>\n",
       "    </tr>\n",
       "    <tr>\n",
       "      <th>3</th>\n",
       "      <td>ME2019-03357</td>\n",
       "      <td>JACQUELINE MAIDEN</td>\n",
       "      <td>55.0</td>\n",
       "      <td>F</td>\n",
       "      <td>W</td>\n",
       "      <td>7/20/19</td>\n",
       "      <td>9/18/19</td>\n",
       "    </tr>\n",
       "    <tr>\n",
       "      <th>4</th>\n",
       "      <td>ST2019-00159</td>\n",
       "      <td>CESAR SANTIS</td>\n",
       "      <td>76.0</td>\n",
       "      <td>M</td>\n",
       "      <td>W</td>\n",
       "      <td>8/6/19</td>\n",
       "      <td>9/13/19</td>\n",
       "    </tr>\n",
       "    <tr>\n",
       "      <th>...</th>\n",
       "      <td>...</td>\n",
       "      <td>...</td>\n",
       "      <td>...</td>\n",
       "      <td>...</td>\n",
       "      <td>...</td>\n",
       "      <td>...</td>\n",
       "      <td>...</td>\n",
       "    </tr>\n",
       "    <tr>\n",
       "      <th>2490</th>\n",
       "      <td>ST2021-00214</td>\n",
       "      <td>EMILIO QUINONES</td>\n",
       "      <td>90.0</td>\n",
       "      <td>M</td>\n",
       "      <td>W</td>\n",
       "      <td>11/3/21</td>\n",
       "      <td>1/21/22</td>\n",
       "    </tr>\n",
       "    <tr>\n",
       "      <th>2491</th>\n",
       "      <td>ME2021-10848</td>\n",
       "      <td>LADI ADEDEJI</td>\n",
       "      <td>53.0</td>\n",
       "      <td>M</td>\n",
       "      <td>B</td>\n",
       "      <td>11/23/21</td>\n",
       "      <td>1/21/22</td>\n",
       "    </tr>\n",
       "    <tr>\n",
       "      <th>2492</th>\n",
       "      <td>ME2021-11740</td>\n",
       "      <td>VLADIMIR ZUTEREK</td>\n",
       "      <td>71.0</td>\n",
       "      <td>M</td>\n",
       "      <td>W</td>\n",
       "      <td>12/15/21</td>\n",
       "      <td>1/19/22</td>\n",
       "    </tr>\n",
       "    <tr>\n",
       "      <th>2493</th>\n",
       "      <td>ME2021-11617</td>\n",
       "      <td>STEVE LOPEZ</td>\n",
       "      <td>62.0</td>\n",
       "      <td>M</td>\n",
       "      <td>O</td>\n",
       "      <td>12/13/21</td>\n",
       "      <td>1/19/22</td>\n",
       "    </tr>\n",
       "    <tr>\n",
       "      <th>2494</th>\n",
       "      <td>ME2021-11462</td>\n",
       "      <td>CLIFFORD FOLEY</td>\n",
       "      <td>62.0</td>\n",
       "      <td>M</td>\n",
       "      <td>W</td>\n",
       "      <td>12/9/21</td>\n",
       "      <td>1/19/22</td>\n",
       "    </tr>\n",
       "  </tbody>\n",
       "</table>\n",
       "<p>2495 rows × 7 columns</p>\n",
       "</div>"
      ],
      "text/plain": [
       "              Case               Name   Age Sex Race Date of Death  \\\n",
       "0     ME2019-03730        KEVIN DAVIS  47.0   M    B       8/11/19   \n",
       "1     ME2019-03541    RICKY JURGERSON  61.0   M    W       7/31/19   \n",
       "2     ME2019-03526      SYBIL SPENCER  91.0   F    B       7/30/19   \n",
       "3     ME2019-03357  JACQUELINE MAIDEN  55.0   F    W       7/20/19   \n",
       "4     ST2019-00159       CESAR SANTIS  76.0   M    W        8/6/19   \n",
       "...            ...                ...   ...  ..  ...           ...   \n",
       "2490  ST2021-00214    EMILIO QUINONES  90.0   M    W       11/3/21   \n",
       "2491  ME2021-10848       LADI ADEDEJI  53.0   M    B      11/23/21   \n",
       "2492  ME2021-11740   VLADIMIR ZUTEREK  71.0   M    W      12/15/21   \n",
       "2493  ME2021-11617        STEVE LOPEZ  62.0   M    O      12/13/21   \n",
       "2494  ME2021-11462     CLIFFORD FOLEY  62.0   M    W       12/9/21   \n",
       "\n",
       "     Cremation Date  \n",
       "0           9/18/19  \n",
       "1           9/18/19  \n",
       "2           9/18/19  \n",
       "3           9/18/19  \n",
       "4           9/13/19  \n",
       "...             ...  \n",
       "2490        1/21/22  \n",
       "2491        1/21/22  \n",
       "2492        1/19/22  \n",
       "2493        1/19/22  \n",
       "2494        1/19/22  \n",
       "\n",
       "[2495 rows x 7 columns]"
      ]
     },
     "execution_count": 182,
     "metadata": {},
     "output_type": "execute_result"
    }
   ],
   "source": [
    "data1=pd.read_csv('Medical_Examiner_Indigent_Cremations.csv')\n",
    "data1"
   ]
  },
  {
   "cell_type": "code",
   "execution_count": null,
   "id": "199af1f5",
   "metadata": {},
   "outputs": [
    {
     "data": {
      "text/plain": [
       "(2495, 7)"
      ]
     },
     "execution_count": 183,
     "metadata": {},
     "output_type": "execute_result"
    }
   ],
   "source": [
    "data1.shape"
   ]
  },
  {
   "cell_type": "markdown",
   "id": "18f3c134",
   "metadata": {},
   "source": [
    "Checking null values in this dataset"
   ]
  },
  {
   "cell_type": "code",
   "execution_count": null,
   "id": "16f1fb65",
   "metadata": {},
   "outputs": [
    {
     "data": {
      "text/plain": [
       "Case               0\n",
       "Name               0\n",
       "Age               22\n",
       "Sex                0\n",
       "Race               0\n",
       "Date of Death      0\n",
       "Cremation Date     5\n",
       "dtype: int64"
      ]
     },
     "execution_count": 184,
     "metadata": {},
     "output_type": "execute_result"
    }
   ],
   "source": [
    "data1.isnull().sum()"
   ]
  },
  {
   "cell_type": "markdown",
   "id": "23619ccf",
   "metadata": {},
   "source": [
    "we can see there is some missing values in the columns, Let's fill it."
   ]
  },
  {
   "cell_type": "code",
   "execution_count": null,
   "id": "5cf7f36f",
   "metadata": {},
   "outputs": [],
   "source": [
    "data1['Age']=data1['Age'].fillna(method = 'backfill')\n",
    "data1['Cremation Date']=data1['Cremation Date'].fillna(method = 'backfill')"
   ]
  },
  {
   "cell_type": "markdown",
   "id": "0e14e4e9",
   "metadata": {},
   "source": [
    "Check if there is any null value still exist:"
   ]
  },
  {
   "cell_type": "code",
   "execution_count": null,
   "id": "0a76f542",
   "metadata": {},
   "outputs": [
    {
     "data": {
      "text/plain": [
       "Case              0\n",
       "Name              0\n",
       "Age               0\n",
       "Sex               0\n",
       "Race              0\n",
       "Date of Death     0\n",
       "Cremation Date    0\n",
       "dtype: int64"
      ]
     },
     "execution_count": 186,
     "metadata": {},
     "output_type": "execute_result"
    }
   ],
   "source": [
    "data1.isnull().sum()"
   ]
  },
  {
   "cell_type": "markdown",
   "id": "b8a981c3",
   "metadata": {},
   "source": [
    "So there is no null value's in the dataset. Let's Check the dataset in more detail"
   ]
  },
  {
   "cell_type": "code",
   "execution_count": null,
   "id": "dbb716c6",
   "metadata": {},
   "outputs": [
    {
     "name": "stdout",
     "output_type": "stream",
     "text": [
      "<class 'pandas.core.frame.DataFrame'>\n",
      "RangeIndex: 2495 entries, 0 to 2494\n",
      "Data columns (total 7 columns):\n",
      " #   Column          Non-Null Count  Dtype  \n",
      "---  ------          --------------  -----  \n",
      " 0   Case            2495 non-null   object \n",
      " 1   Name            2495 non-null   object \n",
      " 2   Age             2495 non-null   float64\n",
      " 3   Sex             2495 non-null   object \n",
      " 4   Race            2495 non-null   object \n",
      " 5   Date of Death   2495 non-null   object \n",
      " 6   Cremation Date  2495 non-null   object \n",
      "dtypes: float64(1), object(6)\n",
      "memory usage: 136.6+ KB\n"
     ]
    }
   ],
   "source": [
    "data1.info()"
   ]
  },
  {
   "cell_type": "code",
   "execution_count": null,
   "id": "83ed9b20",
   "metadata": {},
   "outputs": [
    {
     "data": {
      "text/html": [
       "<div>\n",
       "<style scoped>\n",
       "    .dataframe tbody tr th:only-of-type {\n",
       "        vertical-align: middle;\n",
       "    }\n",
       "\n",
       "    .dataframe tbody tr th {\n",
       "        vertical-align: top;\n",
       "    }\n",
       "\n",
       "    .dataframe thead th {\n",
       "        text-align: right;\n",
       "    }\n",
       "</style>\n",
       "<table border=\"1\" class=\"dataframe\">\n",
       "  <thead>\n",
       "    <tr style=\"text-align: right;\">\n",
       "      <th></th>\n",
       "      <th>Age</th>\n",
       "    </tr>\n",
       "  </thead>\n",
       "  <tbody>\n",
       "    <tr>\n",
       "      <th>count</th>\n",
       "      <td>2495.000000</td>\n",
       "    </tr>\n",
       "    <tr>\n",
       "      <th>mean</th>\n",
       "      <td>65.669339</td>\n",
       "    </tr>\n",
       "    <tr>\n",
       "      <th>std</th>\n",
       "      <td>12.366759</td>\n",
       "    </tr>\n",
       "    <tr>\n",
       "      <th>min</th>\n",
       "      <td>18.000000</td>\n",
       "    </tr>\n",
       "    <tr>\n",
       "      <th>25%</th>\n",
       "      <td>58.000000</td>\n",
       "    </tr>\n",
       "    <tr>\n",
       "      <th>50%</th>\n",
       "      <td>66.000000</td>\n",
       "    </tr>\n",
       "    <tr>\n",
       "      <th>75%</th>\n",
       "      <td>74.000000</td>\n",
       "    </tr>\n",
       "    <tr>\n",
       "      <th>max</th>\n",
       "      <td>102.000000</td>\n",
       "    </tr>\n",
       "  </tbody>\n",
       "</table>\n",
       "</div>"
      ],
      "text/plain": [
       "               Age\n",
       "count  2495.000000\n",
       "mean     65.669339\n",
       "std      12.366759\n",
       "min      18.000000\n",
       "25%      58.000000\n",
       "50%      66.000000\n",
       "75%      74.000000\n",
       "max     102.000000"
      ]
     },
     "execution_count": 188,
     "metadata": {},
     "output_type": "execute_result"
    }
   ],
   "source": [
    "data1.describe()"
   ]
  },
  {
   "cell_type": "markdown",
   "id": "9c3ff2cd",
   "metadata": {},
   "source": [
    "We can see the minimum age is 18 and maximum age is 102 and average is 65"
   ]
  },
  {
   "cell_type": "code",
   "execution_count": null,
   "id": "1e23c4ea",
   "metadata": {},
   "outputs": [
    {
     "data": {
      "text/html": [
       "<div>\n",
       "<style scoped>\n",
       "    .dataframe tbody tr th:only-of-type {\n",
       "        vertical-align: middle;\n",
       "    }\n",
       "\n",
       "    .dataframe tbody tr th {\n",
       "        vertical-align: top;\n",
       "    }\n",
       "\n",
       "    .dataframe thead th {\n",
       "        text-align: right;\n",
       "    }\n",
       "</style>\n",
       "<table border=\"1\" class=\"dataframe\">\n",
       "  <thead>\n",
       "    <tr style=\"text-align: right;\">\n",
       "      <th></th>\n",
       "      <th>Case</th>\n",
       "      <th>Name</th>\n",
       "      <th>Age</th>\n",
       "      <th>Sex</th>\n",
       "      <th>Race</th>\n",
       "      <th>Date of Death</th>\n",
       "      <th>Cremation Date</th>\n",
       "    </tr>\n",
       "  </thead>\n",
       "  <tbody>\n",
       "    <tr>\n",
       "      <th>0</th>\n",
       "      <td>ME2019-03730</td>\n",
       "      <td>KEVIN DAVIS</td>\n",
       "      <td>47.0</td>\n",
       "      <td>M</td>\n",
       "      <td>B</td>\n",
       "      <td>8/11/19</td>\n",
       "      <td>9/18/19</td>\n",
       "    </tr>\n",
       "    <tr>\n",
       "      <th>1</th>\n",
       "      <td>ME2019-03541</td>\n",
       "      <td>RICKY JURGERSON</td>\n",
       "      <td>61.0</td>\n",
       "      <td>M</td>\n",
       "      <td>W</td>\n",
       "      <td>7/31/19</td>\n",
       "      <td>9/18/19</td>\n",
       "    </tr>\n",
       "    <tr>\n",
       "      <th>2</th>\n",
       "      <td>ME2019-03526</td>\n",
       "      <td>SYBIL SPENCER</td>\n",
       "      <td>91.0</td>\n",
       "      <td>F</td>\n",
       "      <td>B</td>\n",
       "      <td>7/30/19</td>\n",
       "      <td>9/18/19</td>\n",
       "    </tr>\n",
       "    <tr>\n",
       "      <th>3</th>\n",
       "      <td>ME2019-03357</td>\n",
       "      <td>JACQUELINE MAIDEN</td>\n",
       "      <td>55.0</td>\n",
       "      <td>F</td>\n",
       "      <td>W</td>\n",
       "      <td>7/20/19</td>\n",
       "      <td>9/18/19</td>\n",
       "    </tr>\n",
       "    <tr>\n",
       "      <th>4</th>\n",
       "      <td>ST2019-00159</td>\n",
       "      <td>CESAR SANTIS</td>\n",
       "      <td>76.0</td>\n",
       "      <td>M</td>\n",
       "      <td>W</td>\n",
       "      <td>8/6/19</td>\n",
       "      <td>9/13/19</td>\n",
       "    </tr>\n",
       "  </tbody>\n",
       "</table>\n",
       "</div>"
      ],
      "text/plain": [
       "           Case               Name   Age Sex Race Date of Death Cremation Date\n",
       "0  ME2019-03730        KEVIN DAVIS  47.0   M    B       8/11/19        9/18/19\n",
       "1  ME2019-03541    RICKY JURGERSON  61.0   M    W       7/31/19        9/18/19\n",
       "2  ME2019-03526      SYBIL SPENCER  91.0   F    B       7/30/19        9/18/19\n",
       "3  ME2019-03357  JACQUELINE MAIDEN  55.0   F    W       7/20/19        9/18/19\n",
       "4  ST2019-00159       CESAR SANTIS  76.0   M    W        8/6/19        9/13/19"
      ]
     },
     "execution_count": 189,
     "metadata": {},
     "output_type": "execute_result"
    }
   ],
   "source": [
    "data1.head()"
   ]
  },
  {
   "cell_type": "markdown",
   "id": "3b8be5d5",
   "metadata": {},
   "source": [
    "# Visualization"
   ]
  },
  {
   "cell_type": "code",
   "execution_count": null,
   "id": "08d3848c",
   "metadata": {},
   "outputs": [
    {
     "data": {
      "image/png": "[encoded data removed]",
      "text/plain": [
       "<Figure size 720x504 with 1 Axes>"
      ]
     },
     "metadata": {
      "needs_background": "light"
     },
     "output_type": "display_data"
    }
   ],
   "source": [
    "\n",
    "plt.figure(figsize=[10,7])\n",
    "plt.hist(x=data1['Age'])\n",
    "plt.title('Checking Which people of data we have more by Age')\n",
    "plt.xlabel('Age')\n",
    "plt.ylabel('count')\n",
    "plt.show()"
   ]
  },
  {
   "cell_type": "markdown",
   "id": "5c743522",
   "metadata": {},
   "source": [
    "Checking Gender Death Ratio"
   ]
  },
  {
   "cell_type": "code",
   "execution_count": null,
   "id": "e5ec2a58",
   "metadata": {},
   "outputs": [],
   "source": []
  },
  {
   "cell_type": "code",
   "execution_count": null,
   "id": "3a0a9e7d",
   "metadata": {},
   "outputs": [
    {
     "data": {
      "text/plain": [
       "Text(0, 0.5, 'Count')"
      ]
     },
     "execution_count": 191,
     "metadata": {},
     "output_type": "execute_result"
    },
    {
     "data": {
      "image/png": "[encoded data removed]",
      "text/plain": [
       "<Figure size 720x504 with 1 Axes>"
      ]
     },
     "metadata": {
      "needs_background": "light"
     },
     "output_type": "display_data"
    }
   ],
   "source": [
    "# px.histogram(data1, x=\"Sex\", color=\"Sex\",title='Death Ratio By Sex')\n",
    "plt.figure(figsize=[10,7])\n",
    "plt.hist(x=data1['Sex'],color='grey')\n",
    "plt.title('Death Ratio By Sex')\n",
    "plt.xlabel('Sex')\n",
    "plt.ylabel('Count')\n"
   ]
  },
  {
   "cell_type": "markdown",
   "id": "1dad611a",
   "metadata": {},
   "source": [
    "Checking Outliers using Box plot in Age Column"
   ]
  },
  {
   "cell_type": "code",
   "execution_count": null,
   "id": "8a94f066",
   "metadata": {},
   "outputs": [
    {
     "data": {
      "image/png": "[encoded data removed]",
      "text/plain": [
       "<Figure size 720x504 with 1 Axes>"
      ]
     },
     "metadata": {
      "needs_background": "light"
     },
     "output_type": "display_data"
    }
   ],
   "source": [
    "plt.figure(figsize=[10,7])\n",
    "plt.boxplot(data1[\"Age\"])\n",
    "plt.title('Box Plot for Outliers')\n",
    "plt.show()\n"
   ]
  },
  {
   "cell_type": "markdown",
   "id": "a9cb290c",
   "metadata": {},
   "source": [
    "We can see there are some of the outliers in the age column that is beyond from the random age values. let's drop the outliers"
   ]
  },
  {
   "cell_type": "code",
   "execution_count": null,
   "id": "42872369",
   "metadata": {},
   "outputs": [],
   "source": [
    "\n",
    "data1.drop(data1[data1['Age']>95]['Age'].index,inplace=True)"
   ]
  },
  {
   "cell_type": "markdown",
   "id": "209a8650",
   "metadata": {},
   "source": [
    "Now Check it again with box plot if there is any outlier still available"
   ]
  },
  {
   "cell_type": "code",
   "execution_count": null,
   "id": "05e168d5",
   "metadata": {},
   "outputs": [
    {
     "data": {
      "image/png": "[encoded data removed]",
      "text/plain": [
       "<Figure size 720x504 with 1 Axes>"
      ]
     },
     "metadata": {
      "needs_background": "light"
     },
     "output_type": "display_data"
    }
   ],
   "source": [
    "plt.figure(figsize=[10,7])\n",
    "plt.boxplot(data1[\"Age\"])\n",
    "plt.title('Box Plot for Outliers')\n",
    "plt.show()"
   ]
  },
  {
   "cell_type": "markdown",
   "id": "ff56f868",
   "metadata": {},
   "source": [
    "Great. We drop the outliers"
   ]
  },
  {
   "cell_type": "code",
   "execution_count": null,
   "id": "503ccd80",
   "metadata": {},
   "outputs": [
    {
     "data": {
      "text/html": [
       "<div>\n",
       "<style scoped>\n",
       "    .dataframe tbody tr th:only-of-type {\n",
       "        vertical-align: middle;\n",
       "    }\n",
       "\n",
       "    .dataframe tbody tr th {\n",
       "        vertical-align: top;\n",
       "    }\n",
       "\n",
       "    .dataframe thead th {\n",
       "        text-align: right;\n",
       "    }\n",
       "</style>\n",
       "<table border=\"1\" class=\"dataframe\">\n",
       "  <thead>\n",
       "    <tr style=\"text-align: right;\">\n",
       "      <th></th>\n",
       "      <th>Case</th>\n",
       "      <th>Name</th>\n",
       "      <th>Age</th>\n",
       "      <th>Sex</th>\n",
       "      <th>Race</th>\n",
       "      <th>Date of Death</th>\n",
       "      <th>Cremation Date</th>\n",
       "    </tr>\n",
       "  </thead>\n",
       "  <tbody>\n",
       "    <tr>\n",
       "      <th>0</th>\n",
       "      <td>ME2019-03730</td>\n",
       "      <td>KEVIN DAVIS</td>\n",
       "      <td>47.0</td>\n",
       "      <td>M</td>\n",
       "      <td>B</td>\n",
       "      <td>8/11/19</td>\n",
       "      <td>9/18/19</td>\n",
       "    </tr>\n",
       "    <tr>\n",
       "      <th>1</th>\n",
       "      <td>ME2019-03541</td>\n",
       "      <td>RICKY JURGERSON</td>\n",
       "      <td>61.0</td>\n",
       "      <td>M</td>\n",
       "      <td>W</td>\n",
       "      <td>7/31/19</td>\n",
       "      <td>9/18/19</td>\n",
       "    </tr>\n",
       "    <tr>\n",
       "      <th>2</th>\n",
       "      <td>ME2019-03526</td>\n",
       "      <td>SYBIL SPENCER</td>\n",
       "      <td>91.0</td>\n",
       "      <td>F</td>\n",
       "      <td>B</td>\n",
       "      <td>7/30/19</td>\n",
       "      <td>9/18/19</td>\n",
       "    </tr>\n",
       "    <tr>\n",
       "      <th>3</th>\n",
       "      <td>ME2019-03357</td>\n",
       "      <td>JACQUELINE MAIDEN</td>\n",
       "      <td>55.0</td>\n",
       "      <td>F</td>\n",
       "      <td>W</td>\n",
       "      <td>7/20/19</td>\n",
       "      <td>9/18/19</td>\n",
       "    </tr>\n",
       "    <tr>\n",
       "      <th>4</th>\n",
       "      <td>ST2019-00159</td>\n",
       "      <td>CESAR SANTIS</td>\n",
       "      <td>76.0</td>\n",
       "      <td>M</td>\n",
       "      <td>W</td>\n",
       "      <td>8/6/19</td>\n",
       "      <td>9/13/19</td>\n",
       "    </tr>\n",
       "  </tbody>\n",
       "</table>\n",
       "</div>"
      ],
      "text/plain": [
       "           Case               Name   Age Sex Race Date of Death Cremation Date\n",
       "0  ME2019-03730        KEVIN DAVIS  47.0   M    B       8/11/19        9/18/19\n",
       "1  ME2019-03541    RICKY JURGERSON  61.0   M    W       7/31/19        9/18/19\n",
       "2  ME2019-03526      SYBIL SPENCER  91.0   F    B       7/30/19        9/18/19\n",
       "3  ME2019-03357  JACQUELINE MAIDEN  55.0   F    W       7/20/19        9/18/19\n",
       "4  ST2019-00159       CESAR SANTIS  76.0   M    W        8/6/19        9/13/19"
      ]
     },
     "execution_count": 195,
     "metadata": {},
     "output_type": "execute_result"
    }
   ],
   "source": [
    "data1.head()"
   ]
  },
  {
   "cell_type": "code",
   "execution_count": null,
   "id": "4bea67e5",
   "metadata": {},
   "outputs": [],
   "source": [
    "data1['year'] = pd.DatetimeIndex(data1['Date of Death']).year"
   ]
  },
  {
   "cell_type": "code",
   "execution_count": null,
   "id": "1b59d219",
   "metadata": {},
   "outputs": [],
   "source": [
    "datas=data1.sort_values(by=['year'])"
   ]
  },
  {
   "cell_type": "code",
   "execution_count": null,
   "id": "f47ee59f",
   "metadata": {},
   "outputs": [
    {
     "data": {
      "image/png": "[encoded data removed]",
      "text/plain": [
       "<Figure size 720x504 with 1 Axes>"
      ]
     },
     "metadata": {
      "needs_background": "light"
     },
     "output_type": "display_data"
    }
   ],
   "source": [
    "plt.figure(figsize=[10,7])\n",
    "sns.countplot(x=datas['year'])\n",
    "plt.title(\"Comparison of which year we have more number of Deaths\")\n",
    "plt.xticks(rotation=90)\n",
    "plt.show()"
   ]
  },
  {
   "cell_type": "markdown",
   "id": "a04d381f",
   "metadata": {},
   "source": [
    "check distribution of cemetry data"
   ]
  },
  {
   "cell_type": "code",
   "execution_count": null,
   "id": "fe47a236",
   "metadata": {},
   "outputs": [
    {
     "data": {
      "image/png": "[encoded data removed]",
      "text/plain": [
       "<Figure size 432x288 with 1 Axes>"
      ]
     },
     "metadata": {
      "needs_background": "light"
     },
     "output_type": "display_data"
    }
   ],
   "source": [
    "plt.title('Distribution of Cemetery in dataset')\n",
    "sns.countplot(x=data['Cemetery'])\n",
    "plt.show()"
   ]
  },
  {
   "cell_type": "code",
   "execution_count": null,
   "id": "5b4450a3",
   "metadata": {},
   "outputs": [
    {
     "data": {
      "image/png": "[encoded data removed]",
      "text/plain": [
       "<Figure size 504x360 with 1 Axes>"
      ]
     },
     "metadata": {
      "needs_background": "light"
     },
     "output_type": "display_data"
    }
   ],
   "source": [
    "plt.figure(figsize=[7,5])\n",
    "yr_2021=datas[datas['year']==2021]\n",
    "sns.countplot(x=yr_2021['Sex'],color='yellow',edgecolor='black')\n",
    "plt.title('Death Ratio By sex in 2021')\n",
    "plt.show()"
   ]
  },
  {
   "cell_type": "code",
   "execution_count": null,
   "id": "13b7d89d",
   "metadata": {},
   "outputs": [
    {
     "data": {
      "image/png": "[encoded data removed]",
      "text/plain": [
       "<Figure size 504x360 with 1 Axes>"
      ]
     },
     "metadata": {
      "needs_background": "light"
     },
     "output_type": "display_data"
    }
   ],
   "source": [
    "plt.figure(figsize=[7,5])\n",
    "yr_2022=datas[datas['year']==2022]\n",
    "sns.countplot(x=yr_2022['Sex'],color='brown',edgecolor='grey')\n",
    "plt.title('Death Ratio By sex in 2022')\n",
    "plt.show()"
   ]
  },
  {
   "cell_type": "code",
   "execution_count": null,
   "id": "7a3b4d6e",
   "metadata": {},
   "outputs": [],
   "source": []
  }
 ],
 "metadata": {
  "kernelspec": {
   "display_name": "Python 3.8.9 64-bit",
   "language": "python",
   "name": "python3"
  },
  "language_info": {
   "codemirror_mode": {
    "name": "ipython",
    "version": 3
   },
   "file_extension": ".py",
   "mimetype": "text/x-python",
   "name": "python",
   "nbconvert_exporter": "python",
   "pygments_lexer": "ipython3",
   "version": "3.8.9"
  },
  "vscode": {
   "interpreter": {
    "hash": "31f2aee4e71d21fbe5cf8b01ff0e069b9275f58929596ceb00d14d90e3e16cd6"
   }
  }
 },
 "nbformat": 4,
 "nbformat_minor": 5
}
